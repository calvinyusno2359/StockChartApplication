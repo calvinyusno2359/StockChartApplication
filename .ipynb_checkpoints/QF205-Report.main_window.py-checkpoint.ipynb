{
 "cells": [
  {
   "cell_type": "markdown",
   "metadata": {},
   "source": [
    "# main_window.py"
   ]
  },
  {
   "cell_type": "markdown",
   "metadata": {},
   "source": [
    "As mentioned, `main_window.py`'s main responsibility is to **define the graphic user interface (GUI) itself**. It does so by:\n",
    "1. Defining each widget objects' and their names within the GUI\n",
    "2. Defining the location, size and other physical attributes of each widgets\n",
    "\n",
    "It does **NOT** define the functionalities of the widgets found in the GUI. This is the job of `app.py` (next section).\n",
    "\n",
    "While it is possible to create `main_window.py` by manually writing a python script file from scratch, this is not recommended as it is cumbersome. Instead, the following method was used develop the Stock Chart Application:\n",
    "1. Install QtDesigner\n",
    "2. Use QtDesigner to build the GUI file `main_window.ui`\n",
    "3. Pip Install pyuic5\n",
    "4. Use pyuic5 to compile `main_window.ui` into `main_window.py`\n",
    "\n",
    "The above-mentioned `main_window.py`'s development process is summarized in the graphics below (red box):\n",
    "![main_window.py development process](./asset/img/main_window.py-process.png)\n",
    "\n",
    "This method is **recommended** because it is user-friendly and changes made can be seen visually on the QtDesigner itself before it is applied. Thus, not requiring the developer to run the python file after every changes or even knowing how do so at all.\n",
    "\n",
    "This section of the report will now go through the 4 steps of developing `main_window.py` mentioned."
   ]
  },
  {
   "cell_type": "markdown",
   "metadata": {},
   "source": [
    "## Installing QtDesigner\n",
    "The installation process of QtDesigner is similar to any other application.\n",
    "1. Go to: https://build-system.fman.io/qt-designer-download\n",
    "2. Click either the `Windows` or `Mac` option. Depending on your computer's Operating System.\n",
    "3. Select a location for the Qt Setup Application `.exe` to be downloaded\n",
    "4. Double click on the Qt Setup Application `.exe`and follow its installation procedure\n",
    "5. Check that you have `Qt Designer` installed."
   ]
  },
  {
   "cell_type": "markdown",
   "metadata": {},
   "source": [
    "## Building `main_window.ui` Using QtDesigner\n",
    "1. Open `Qt Designer`, you will open the following window and be prompted the with some options (as shown)\n",
    "![Opening Qt-designer](../asset/img/qt-designer.png)"
   ]
  },
  {
   "cell_type": "markdown",
   "metadata": {},
   "source": [
    "## Installing pyuic5"
   ]
  },
  {
   "cell_type": "markdown",
   "metadata": {},
   "source": [
    "## Compiling `main_window.ui` into `main_window.py`"
   ]
  },
  {
   "cell_type": "code",
   "execution_count": null,
   "metadata": {},
   "outputs": [],
   "source": []
  }
 ],
 "metadata": {
  "kernelspec": {
   "display_name": "Python 3",
   "language": "python",
   "name": "python3"
  },
  "language_info": {
   "codemirror_mode": {
    "name": "ipython",
    "version": 3
   },
   "file_extension": ".py",
   "mimetype": "text/x-python",
   "name": "python",
   "nbconvert_exporter": "python",
   "pygments_lexer": "ipython3",
   "version": "3.6.8"
  }
 },
 "nbformat": 4,
 "nbformat_minor": 4
}

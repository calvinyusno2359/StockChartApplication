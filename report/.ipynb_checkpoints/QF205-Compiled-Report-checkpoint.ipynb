{
 "cells": [
  {
   "cell_type": "markdown",
   "metadata": {},
   "source": [
    "# Python Programming and Its Application in Stock Chart & Moving Average Crossover"
   ]
  },
  {
   "cell_type": "code",
   "execution_count": 2,
   "metadata": {
    "scrolled": false
   },
   "outputs": [
    {
     "name": "stdout",
     "output_type": "stream",
     "text": [
      "Help on class StockData in module src.stock_data:\n",
      "\n",
      "class StockData(builtins.object)\n",
      " |  handles and operates on yahoo stock data (.csv)\n",
      " |  \n",
      " |  Attributes\n",
      " |  .filepath : str\n",
      " |          filepath to the source stock data .csv file used to initialize StockData\n",
      " |  .data : DataFrame\n",
      " |          dataframe containing the stock data, indexed by datetime string of format YYYY=MM-DD\n",
      " |  .selected_data : DataFrame\n",
      " |          dataframe ontaining the selected stock data, indexed by datetime string of format YYYY=MM-DD\n",
      " |  \n",
      " |  Methods defined here:\n",
      " |  \n",
      " |  __init__(self, filepath)\n",
      " |      initializes StockData object by parsing stock data .csv file into a dataframe\n",
      " |      (assumes 'Date' column exists and uses it for index), also checks and handles missing data\n",
      " |      \n",
      " |      Parameters\n",
      " |      filepath : str\n",
      " |              filepath to the stock data .csv file, can be relative or absolute\n",
      " |      \n",
      " |      Raises\n",
      " |      IOError :\n",
      " |              failed I/O operation, e.g: invalid filepath, fail to open .csv\n",
      " |  \n",
      " |  calculate_SMA(self, n)\n",
      " |      calculates simple moving average (SMA) and augments the stock dataframe with this SMA(n) data as a new column\n",
      " |      \n",
      " |      Parameters\n",
      " |      n : int\n",
      " |              the amount of stock data to use to calculate average\n",
      " |      col : str ('Close')\n",
      " |              the column head title of the values to use to calculate average\n",
      " |      \n",
      " |      Returns\n",
      " |      self : StockData\n",
      " |  \n",
      " |  calculate_crossover(self, SMAa, SMAb)\n",
      " |      calculates the crossover positions and values, augments the stock dataframe with 2 new columns 'Sell' and 'Buy' containing the value at which SMA crossover happens\n",
      " |      \n",
      " |      Parameters\n",
      " |      SMA1 : str\n",
      " |              the first column head title containing the SMA values\n",
      " |      SMA2 : str\n",
      " |              the second column head title containing the SMA values\n",
      " |      col : str ('Close')\n",
      " |              the column head title whose values will copied into 'Buy' and 'Sell' column to indicate crossovers had happen on that index\n",
      " |      \n",
      " |      Returns\n",
      " |      self : StockData\n",
      " |      \n",
      " |      Raises\n",
      " |      Exception :\n",
      " |              SMA1 and SMA2 provided are the same, they must be different\n",
      " |  \n",
      " |  check_data(self, overwrite=True)\n",
      " |      checks and handles missing data by filling in missing values by interpolation\n",
      " |      \n",
      " |      Parameters\n",
      " |      overwrite : bool (True)\n",
      " |              if True, overwrites original source stock data .csv file\n",
      " |      \n",
      " |      Returns\n",
      " |      self : StockData\n",
      " |  \n",
      " |  get_data(self, start_date, end_date)\n",
      " |      returns a subset of the stock data ranging from start_date to end_date inclusive\n",
      " |      \n",
      " |      Parameters\n",
      " |      start_date : str\n",
      " |              start date of stock data range, must be of format YYYY-MM-DD\n",
      " |      end_date : str\n",
      " |              end date of stokc data range, must be of format YYYY-MM-DD\n",
      " |      \n",
      " |      Returns:\n",
      " |      selected_data : DataFrame\n",
      " |              stock data dataframe indexed from specified start to end date inclusive\n",
      " |      \n",
      " |      Raises\n",
      " |      KeyError :\n",
      " |              data for this date does not exist\n",
      " |      AssertionError :\n",
      " |              selected range is empty\n",
      " |  \n",
      " |  get_period(self)\n",
      " |      returns a string tuple of the first and last index which make up the maximum period of StockData\n",
      " |      \n",
      " |      Returns\n",
      " |      period : (str, str)\n",
      " |      \n",
      " |      Raises\n",
      " |      TypeError :\n",
      " |              the return tuple is probably (nan, nan) because .csv is empty\n",
      " |  \n",
      " |  plot_graph(self, col_headers, style, ax, show=True)\n",
      " |      plots columns of selected values as line plot and/or columns of values as scatter plot as specified by style to an Axes object\n",
      " |      \n",
      " |      Parameters\n",
      " |      col_headers : [str, str, ...]\n",
      " |              a list containing column header names whose data are to be plotted\n",
      " |      style : [str, str, ...]\n",
      " |              a list of matplotlib built-in style strings to indicate whether to plot line or scatter and the colours corresponding to each value in col_headers (hence, must be same length)\n",
      " |      ax : Axes\n",
      " |              matplotlib axes object on which the plot will be drawn\n",
      " |      \n",
      " |      Raises\n",
      " |      AttributeError :\n",
      " |              self.selected_data has not been specified, call StockData.get_data(start, end) before plotting\n",
      " |      AssertionError :\n",
      " |              self.selected_data is empty, perhaps due to OOB or invalid range\n",
      " |  \n",
      " |  ----------------------------------------------------------------------\n",
      " |  Data descriptors defined here:\n",
      " |  \n",
      " |  __dict__\n",
      " |      dictionary for instance variables (if defined)\n",
      " |  \n",
      " |  __weakref__\n",
      " |      list of weak references to the object (if defined)\n",
      "\n"
     ]
    }
   ],
   "source": [
    "from src.stock_data import *\n",
    "\n",
    "help(StockData)"
   ]
  },
  {
   "cell_type": "markdown",
   "metadata": {},
   "source": [
    "# Table Content"
   ]
  },
  {
   "cell_type": "markdown",
   "metadata": {},
   "source": [
    "### Python Basics\n",
    "#### 1. Variables \n",
    "#### 2. Data types\n",
    "#### 3. Type conversation\n",
    "#### 4. Concatenation and Operations\n",
    "#### 5. Assignment Statement\n",
    "#### 6. Comments\n",
    "#### 7. Indentation\n",
    "#### 8. Functions\n",
    "#### 9. Loops\n"
   ]
  },
  {
   "cell_type": "markdown",
   "metadata": {},
   "source": [
    "### Variables \n"
   ]
  },
  {
   "cell_type": "markdown",
   "metadata": {},
   "source": [
    "Variables are containers for storing data values. Unlike other programming languages, a variable is created the moment you first assign a value to it.\n",
    "to assign a value to a variable, use the (=) sign.\n",
    "\n",
    "Use print() to see the value assigned to the variable"
   ]
  },
  {
   "cell_type": "code",
   "execution_count": 5,
   "metadata": {},
   "outputs": [
    {
     "name": "stdout",
     "output_type": "stream",
     "text": [
      "apple 1 2\n"
     ]
    }
   ],
   "source": [
    "x = 'apple'\n",
    "Y = 1 \n",
    "_1 = 2\n",
    "print (x,Y,_1)"
   ]
  },
  {
   "cell_type": "markdown",
   "metadata": {},
   "source": [
    "Variable names in Python can be any length and can consist of uppercase and lowercase letters (A-Z, a-z), digits (0-9), and the underscore character (_). An additional restriction is that, although a variable name can contain digits, the first character of a variable name cannot be a digit.\n",
    "\n"
   ]
  },
  {
   "cell_type": "code",
   "execution_count": 6,
   "metadata": {},
   "outputs": [
    {
     "ename": "SyntaxError",
     "evalue": "invalid syntax (<ipython-input-6-f38a6c9f9c71>, line 1)",
     "output_type": "error",
     "traceback": [
      "\u001b[1;36m  File \u001b[1;32m\"<ipython-input-6-f38a6c9f9c71>\"\u001b[1;36m, line \u001b[1;32m1\u001b[0m\n\u001b[1;33m    1apple = apple\u001b[0m\n\u001b[1;37m         ^\u001b[0m\n\u001b[1;31mSyntaxError\u001b[0m\u001b[1;31m:\u001b[0m invalid syntax\n"
     ]
    }
   ],
   "source": [
    "1apple = apple"
   ]
  },
  {
   "cell_type": "markdown",
   "metadata": {},
   "source": [
    "#### Data types\n"
   ]
  },
  {
   "cell_type": "markdown",
   "metadata": {},
   "source": [
    "Common Data types that are used in the projects includes\n",
    "\n",
    "Text type\n",
    "- String (str)\n",
    "\n",
    "Numeric type\n",
    "- Integer (int)\n",
    "- Float (float)\n",
    "\n",
    "Sequence Type\n",
    "- list\n",
    "- range\n",
    "\n",
    "Using Print(type()) we can see the data type. "
   ]
  },
  {
   "cell_type": "markdown",
   "metadata": {},
   "source": [
    "##### Text type\n",
    "String(str)\n",
    "\n",
    "Strings literal are denoted by single (' ') or double quotes (\" \")\n",
    "\n",
    "Examples of String"
   ]
  },
  {
   "cell_type": "code",
   "execution_count": 14,
   "metadata": {},
   "outputs": [
    {
     "name": "stdout",
     "output_type": "stream",
     "text": [
      "<class 'str'>\n"
     ]
    }
   ],
   "source": [
    "x = 'apple'\n",
    "y = \"pear\"\n",
    "print(type(x))"
   ]
  },
  {
   "cell_type": "markdown",
   "metadata": {},
   "source": [
    "We can find the length of the variable by using the in build function len()"
   ]
  },
  {
   "cell_type": "code",
   "execution_count": 15,
   "metadata": {},
   "outputs": [
    {
     "name": "stdout",
     "output_type": "stream",
     "text": [
      "5\n",
      "4\n"
     ]
    }
   ],
   "source": [
    "print(len(x))\n",
    "print(len(y))"
   ]
  },
  {
   "cell_type": "markdown",
   "metadata": {},
   "source": [
    "#### Numeric type\n",
    "\n",
    "Integer (Int)\n",
    "\n",
    "Int are whole integers which has no decimal points and have unlimited length. \n",
    "Examples of Integers. \n",
    "Underscore are allowed between integer groupings\n"
   ]
  },
  {
   "cell_type": "code",
   "execution_count": 36,
   "metadata": {},
   "outputs": [
    {
     "name": "stdout",
     "output_type": "stream",
     "text": [
      "<class 'int'>\n"
     ]
    }
   ],
   "source": [
    "x = 1_3\n",
    "y = -2\n",
    "print(type(x))"
   ]
  },
  {
   "cell_type": "markdown",
   "metadata": {},
   "source": [
    "Wrong examples:\n",
    "\n",
    "Example z gives a invalid token error because leading zero in a non-zero decimal number are not allowed"
   ]
  },
  {
   "cell_type": "code",
   "execution_count": 32,
   "metadata": {},
   "outputs": [
    {
     "ename": "SyntaxError",
     "evalue": "invalid token (<ipython-input-32-360f18516b30>, line 1)",
     "output_type": "error",
     "traceback": [
      "\u001b[1;36m  File \u001b[1;32m\"<ipython-input-32-360f18516b30>\"\u001b[1;36m, line \u001b[1;32m1\u001b[0m\n\u001b[1;33m    z = 01\u001b[0m\n\u001b[1;37m         ^\u001b[0m\n\u001b[1;31mSyntaxError\u001b[0m\u001b[1;31m:\u001b[0m invalid token\n"
     ]
    }
   ],
   "source": [
    "z = 01"
   ]
  },
  {
   "cell_type": "markdown",
   "metadata": {},
   "source": [
    "Float(float)\n",
    "\n",
    "Float are Floating point numbers that contains one or more decimals\n",
    "\n",
    "underscore are allowed between float groupings\n"
   ]
  },
  {
   "cell_type": "code",
   "execution_count": 33,
   "metadata": {},
   "outputs": [
    {
     "name": "stdout",
     "output_type": "stream",
     "text": [
      "<class 'float'>\n"
     ]
    }
   ],
   "source": [
    "x = 1.0\n",
    "y = -3.14_24\n",
    "print(type(y))"
   ]
  },
  {
   "cell_type": "markdown",
   "metadata": {},
   "source": [
    "Int can be coverted to float, vice versa.\n"
   ]
  },
  {
   "cell_type": "code",
   "execution_count": 43,
   "metadata": {},
   "outputs": [
    {
     "name": "stdout",
     "output_type": "stream",
     "text": [
      "<class 'int'>\n",
      "1\n",
      "<class 'float'>\n",
      "1.0\n",
      "<class 'int'>\n",
      "1\n"
     ]
    }
   ],
   "source": [
    "x = 1 \n",
    "print(type((x)))\n",
    "print(x)\n",
    "x = float(x)\n",
    "print(type((x)))\n",
    "print(x)\n",
    "x= int(x)\n",
    "print(type((x)))\n",
    "print(x)"
   ]
  },
  {
   "cell_type": "markdown",
   "metadata": {},
   "source": [
    "Wrong examples:\n",
    "\n",
    "Example z gives a syntax error because as the underscore is not between digits."
   ]
  },
  {
   "cell_type": "code",
   "execution_count": 35,
   "metadata": {},
   "outputs": [
    {
     "ename": "SyntaxError",
     "evalue": "invalid syntax (<ipython-input-35-16e45c8381ba>, line 1)",
     "output_type": "error",
     "traceback": [
      "\u001b[1;36m  File \u001b[1;32m\"<ipython-input-35-16e45c8381ba>\"\u001b[1;36m, line \u001b[1;32m1\u001b[0m\n\u001b[1;33m    z = 31._3\u001b[0m\n\u001b[1;37m            ^\u001b[0m\n\u001b[1;31mSyntaxError\u001b[0m\u001b[1;31m:\u001b[0m invalid syntax\n"
     ]
    }
   ],
   "source": [
    "z = 31._3"
   ]
  },
  {
   "cell_type": "markdown",
   "metadata": {},
   "source": [
    "#### Sequence type \n",
    "\n",
    "List\n",
    "\n",
    "List is a collection which is ordered and changeable. \n",
    "\n",
    "A single list may contain DataTypes like Integers, Strings, as well as Objects. Lists are mutable, and hence, they can be altered even after their creation.\n",
    "\n",
    "The elements in a list are indexed according to a definite sequence and the indexing of a list is done with 0 being the first index. "
   ]
  },
  {
   "cell_type": "code",
   "execution_count": 11,
   "metadata": {},
   "outputs": [
    {
     "name": "stdout",
     "output_type": "stream",
     "text": [
      "['a', 1, 'c']\n",
      "a\n"
     ]
    }
   ],
   "source": [
    "list_example= ['a',1,'c']\n",
    "\n",
    "print(list_example)\n",
    "print(list_example[0])"
   ]
  },
  {
   "cell_type": "markdown",
   "metadata": {},
   "source": [
    "We can find the length of the list by using len()\n"
   ]
  },
  {
   "cell_type": "code",
   "execution_count": 16,
   "metadata": {},
   "outputs": [
    {
     "name": "stdout",
     "output_type": "stream",
     "text": [
      "3\n"
     ]
    }
   ],
   "source": [
    "print(len(list_example))"
   ]
  },
  {
   "cell_type": "markdown",
   "metadata": {},
   "source": [
    "#### range\n",
    "\n",
    "The range() function is used to generate a sequence of numbers over time.\n",
    "\n",
    "We can create a start, stop and step while using the range() function.\n",
    "\n",
    "The syntax of range function is : range(start,stop,step)\n",
    "\n",
    "Start is where the range start (inclusive), stop is where the range stops at (exclusive), step determines each increment"
   ]
  },
  {
   "cell_type": "code",
   "execution_count": 21,
   "metadata": {},
   "outputs": [
    {
     "name": "stdout",
     "output_type": "stream",
     "text": [
      "range(0, 5)\n",
      "range(2, 5)\n",
      "range(1, 10, 2)\n"
     ]
    }
   ],
   "source": [
    "print(range(5))\n",
    "print(range(2,5))\n",
    "print(range(1,10,2))"
   ]
  },
  {
   "cell_type": "markdown",
   "metadata": {},
   "source": [
    "### Type conversion \n",
    "\n",
    "\n"
   ]
  },
  {
   "cell_type": "markdown",
   "metadata": {},
   "source": [
    "We can convert one type of data to another with int(),float() and str(). \n"
   ]
  },
  {
   "cell_type": "code",
   "execution_count": 25,
   "metadata": {},
   "outputs": [
    {
     "name": "stdout",
     "output_type": "stream",
     "text": [
      "<class 'int'>\n",
      "<class 'str'>\n",
      "<class 'float'>\n",
      "1.0\n"
     ]
    }
   ],
   "source": [
    "x = 1\n",
    "print(type(x))\n",
    "\n",
    "x = str(x)\n",
    "print(type(x))\n",
    "\n",
    "x = float(x)\n",
    "print(type(x))\n",
    "\n",
    "print(x)\n"
   ]
  },
  {
   "cell_type": "markdown",
   "metadata": {},
   "source": [
    "\n",
    "However, converting data type to an invalid literal would give a invalid literal error."
   ]
  },
  {
   "cell_type": "code",
   "execution_count": 39,
   "metadata": {},
   "outputs": [
    {
     "ename": "ValueError",
     "evalue": "invalid literal for int() with base 10: 'apple'",
     "output_type": "error",
     "traceback": [
      "\u001b[1;31m---------------------------------------------------------------------------\u001b[0m",
      "\u001b[1;31mValueError\u001b[0m                                Traceback (most recent call last)",
      "\u001b[1;32m<ipython-input-39-7753f23209e0>\u001b[0m in \u001b[0;36m<module>\u001b[1;34m\u001b[0m\n\u001b[0;32m      1\u001b[0m \u001b[0mx\u001b[0m \u001b[1;33m=\u001b[0m \u001b[1;34m'apple'\u001b[0m\u001b[1;33m\u001b[0m\u001b[1;33m\u001b[0m\u001b[0m\n\u001b[1;32m----> 2\u001b[1;33m \u001b[0mx\u001b[0m \u001b[1;33m=\u001b[0m \u001b[0mint\u001b[0m\u001b[1;33m(\u001b[0m\u001b[0mx\u001b[0m\u001b[1;33m)\u001b[0m\u001b[1;33m\u001b[0m\u001b[1;33m\u001b[0m\u001b[0m\n\u001b[0m\u001b[0;32m      3\u001b[0m \u001b[0mprint\u001b[0m\u001b[1;33m(\u001b[0m\u001b[0mtype\u001b[0m\u001b[1;33m(\u001b[0m\u001b[0mx\u001b[0m\u001b[1;33m)\u001b[0m\u001b[1;33m)\u001b[0m\u001b[1;33m\u001b[0m\u001b[1;33m\u001b[0m\u001b[0m\n",
      "\u001b[1;31mValueError\u001b[0m: invalid literal for int() with base 10: 'apple'"
     ]
    }
   ],
   "source": [
    "x = 'apple'\n",
    "x = int(x)\n",
    "print(type(x))"
   ]
  },
  {
   "cell_type": "markdown",
   "metadata": {},
   "source": [
    "### Concatenation and Operations"
   ]
  },
  {
   "cell_type": "markdown",
   "metadata": {},
   "source": [
    "concatenate by using (+) operator\n",
    "Multiply using (*) operator\n",
    "Minus using (-) operator\n",
    "Divide using (/) operator\n",
    "Modulus using (%) operator - to find remainder\n",
    "Exponentiation using (* *) operator\n",
    "Floor division using (//) operator\n"
   ]
  },
  {
   "cell_type": "code",
   "execution_count": 17,
   "metadata": {},
   "outputs": [
    {
     "name": "stdout",
     "output_type": "stream",
     "text": [
      "hibye\n",
      "hihi\n",
      "5\n",
      "1\n",
      "6\n",
      "1.5\n",
      "1\n",
      "9\n",
      "1\n"
     ]
    }
   ],
   "source": [
    "x = 'hi'\n",
    "y = 'bye'\n",
    "z = 2\n",
    "print(x+y)\n",
    "print(x*2)\n",
    "x = 3 \n",
    "y = 2 \n",
    "print(x+y)\n",
    "print(x-y)\n",
    "print(x*y)\n",
    "print(x/y)\n",
    "print(x%y)\n",
    "print(x**y)\n",
    "print(x//y)"
   ]
  },
  {
   "cell_type": "markdown",
   "metadata": {},
   "source": [
    "#### Operator precedence"
   ]
  },
  {
   "cell_type": "markdown",
   "metadata": {},
   "source": [
    "Operator have different precedence. It is important to take note of the precedence of the operator in order to accurately represent your equations. We can also use the Brackets to represent the precedence.\n",
    "\n",
    "This is the operator precedence from Lowest to highest precedence."
   ]
  },
  {
   "cell_type": "markdown",
   "metadata": {},
   "source": [
    "1. +,-\n",
    "2. *,/,//,%\n",
    "3. **\n",
    "\n",
    "Examples of Operator precedence"
   ]
  },
  {
   "cell_type": "code",
   "execution_count": 16,
   "metadata": {},
   "outputs": [
    {
     "name": "stdout",
     "output_type": "stream",
     "text": [
      "28\n",
      "256\n",
      "14.0\n"
     ]
    }
   ],
   "source": [
    "print(3**2 * 3 +1)\n",
    "\n",
    "print(2**2**3)\n",
    "\n",
    "print((20+2*4) / 2)"
   ]
  },
  {
   "cell_type": "markdown",
   "metadata": {},
   "source": [
    "#### Logical operators\n"
   ]
  },
  {
   "cell_type": "markdown",
   "metadata": {},
   "source": [
    "A logical operator is a symbol or word used to connect two or more expressions such that the value of the compound expression produced depends only on that of the original expressions and on the meaning of the operator. Common logical operators include AND, OR, and NOT.\n",
    "\n",
    "\n",
    "For and it \n",
    "\n",
    "For or Returns True if one of the statements is true\n",
    "\n",
    "For not Reverse the result, returns False if the result is true\n",
    "Examples:"
   ]
  },
  {
   "cell_type": "code",
   "execution_count": 10,
   "metadata": {},
   "outputs": [
    {
     "name": "stdout",
     "output_type": "stream",
     "text": [
      "False\n",
      "True\n",
      "True\n"
     ]
    }
   ],
   "source": [
    "x = 5\n",
    "y = 5\n",
    "z = 5\n",
    "print(x < 3 and x < 10)\n",
    "print(y > 3 or y < 10)\n",
    "print (not(z < 4))"
   ]
  },
  {
   "cell_type": "markdown",
   "metadata": {},
   "source": [
    "### Assignment Statement"
   ]
  },
  {
   "cell_type": "markdown",
   "metadata": {},
   "source": [
    "We can (re)bind names to values and also modify attributes or mutable objects using assignment statements. \n",
    "\n",
    "When assigning the variable x to a different value, we can see that variable x id is also changed by using the in-build function id().\n",
    "\n",
    "However, it is possible that two objects with non-overlapping lifetimes can have the same id() value.\n"
   ]
  },
  {
   "cell_type": "code",
   "execution_count": 21,
   "metadata": {},
   "outputs": [
    {
     "name": "stdout",
     "output_type": "stream",
     "text": [
      "140703391719824\n",
      "140703391719888\n",
      "3\n"
     ]
    }
   ],
   "source": [
    "x=1 \n",
    "print(id(x))\n",
    "x=3\n",
    "print(id(x))\n",
    "print(x)"
   ]
  },
  {
   "cell_type": "markdown",
   "metadata": {},
   "source": [
    "### Comments"
   ]
  },
  {
   "cell_type": "markdown",
   "metadata": {},
   "source": [
    "We can use write comments on our code by using the hash character(#).\n",
    "\n",
    "A comment signifies the end of the logical line most of the time, unless implicit line joining rules are invoked."
   ]
  },
  {
   "cell_type": "code",
   "execution_count": 22,
   "metadata": {},
   "outputs": [],
   "source": [
    "x = 1 # x is being assigned the value 1\n"
   ]
  },
  {
   "cell_type": "code",
   "execution_count": 23,
   "metadata": {},
   "outputs": [
    {
     "ename": "SyntaxError",
     "evalue": "unexpected character after line continuation character (<ipython-input-23-bda2e21dbab5>, line 1)",
     "output_type": "error",
     "traceback": [
      "\u001b[1;36m  File \u001b[1;32m\"<ipython-input-23-bda2e21dbab5>\"\u001b[1;36m, line \u001b[1;32m1\u001b[0m\n\u001b[1;33m    x = 1 \\ #explicit line joining\u001b[0m\n\u001b[1;37m                                  ^\u001b[0m\n\u001b[1;31mSyntaxError\u001b[0m\u001b[1;31m:\u001b[0m unexpected character after line continuation character\n"
     ]
    }
   ],
   "source": [
    "x = 1 \\ #explicit line joining\n",
    "print(x)"
   ]
  },
  {
   "cell_type": "markdown",
   "metadata": {},
   "source": [
    "#### Indentation"
   ]
  },
  {
   "cell_type": "markdown",
   "metadata": {},
   "source": [
    "Indentations begins at the start of the logical line which is used to determine the grouping of the statements.\n",
    "\n",
    "Indentation are rejected if there are an inconsistent mix of tabs and spaces. This causes a Tab Error."
   ]
  },
  {
   "cell_type": "code",
   "execution_count": 26,
   "metadata": {},
   "outputs": [
    {
     "name": "stdout",
     "output_type": "stream",
     "text": [
      "yes\n"
     ]
    }
   ],
   "source": [
    "if 1<4:\n",
    "    print('yes')\n",
    "else:\n",
    "    print('no')\n",
    "    \n",
    "    "
   ]
  },
  {
   "cell_type": "code",
   "execution_count": 35,
   "metadata": {},
   "outputs": [
    {
     "ename": "IndentationError",
     "evalue": "expected an indented block (<ipython-input-35-a7c8ff9be281>, line 4)",
     "output_type": "error",
     "traceback": [
      "\u001b[1;36m  File \u001b[1;32m\"<ipython-input-35-a7c8ff9be281>\"\u001b[1;36m, line \u001b[1;32m4\u001b[0m\n\u001b[1;33m    print('no')\u001b[0m\n\u001b[1;37m        ^\u001b[0m\n\u001b[1;31mIndentationError\u001b[0m\u001b[1;31m:\u001b[0m expected an indented block\n"
     ]
    }
   ],
   "source": [
    "if 1>4:\n",
    "    print('yes')\n",
    "else:\n",
    "print('no')"
   ]
  },
  {
   "cell_type": "markdown",
   "metadata": {},
   "source": [
    "### Functions\n"
   ]
  },
  {
   "cell_type": "markdown",
   "metadata": {},
   "source": [
    "A function is a block of organized, reusable code that is used to perform a single, related action. Functions provide better modularity for your application and a high degree of code reusing.\n",
    "\n",
    "You can pass data, known as parameters, into a function.\n",
    "A function can return data as a result.\n",
    "\n",
    "\n",
    "\n",
    "We use def to define a function. def is followed by the function name and a parentheses and a colon punctuation. \n",
    "\n",
    "This is a basic example of a function that prints a string\n"
   ]
  },
  {
   "cell_type": "code",
   "execution_count": null,
   "metadata": {},
   "outputs": [],
   "source": [
    "def my_function():\n",
    "  print(\"Hello from a function\")\n"
   ]
  },
  {
   "cell_type": "markdown",
   "metadata": {},
   "source": [
    "By typing \"my_function()\", this would call the function and run the action it in which is to print \n",
    "\n",
    "\"Hello from a function\""
   ]
  },
  {
   "cell_type": "code",
   "execution_count": null,
   "metadata": {},
   "outputs": [],
   "source": [
    "my_function()"
   ]
  },
  {
   "cell_type": "markdown",
   "metadata": {},
   "source": [
    "Information can be passed into functions as arguments.\n",
    "\n",
    "Arguments are specified after the function name, inside the parentheses. You can add as many arguments as you want, just separate them with a comma.\n",
    "\n",
    "We use the return function to send back an output\n",
    "\n",
    "Examples of Parameters: Sum(x,y)\n",
    "\n",
    "A parameter is the variable listed inside the parentheses in the function definition.\n",
    "\n",
    "Examples of arguments: Sum(1,2)\n",
    "\n",
    "An argument is the value that is sent to the function when it is called.\n"
   ]
  },
  {
   "cell_type": "markdown",
   "metadata": {},
   "source": [
    "Example of how a function with arguments and parameter.\n",
    "\n",
    "Step 1: Create the function\n",
    "Step 2: Define the parameters\n",
    "Step 3: Action in the function \n",
    "Step 4: The desired output"
   ]
  },
  {
   "cell_type": "code",
   "execution_count": 1,
   "metadata": {},
   "outputs": [],
   "source": [
    "def sum(x,y):\n",
    "    return (x+y)"
   ]
  },
  {
   "cell_type": "markdown",
   "metadata": {},
   "source": [
    "Step 2: call the function and input the arguments"
   ]
  },
  {
   "cell_type": "code",
   "execution_count": 2,
   "metadata": {},
   "outputs": [
    {
     "name": "stdout",
     "output_type": "stream",
     "text": [
      "3\n"
     ]
    }
   ],
   "source": [
    "total_sum = sum(1,2)\n",
    "print(total_sum)"
   ]
  },
  {
   "cell_type": "markdown",
   "metadata": {},
   "source": [
    "It is good practice to make sure you have the same number of arguments and parameter.\n",
    "\n",
    "If we are missing an argument, there would be a TypeError stating that the function is missing a required positional argument"
   ]
  },
  {
   "cell_type": "code",
   "execution_count": 5,
   "metadata": {},
   "outputs": [
    {
     "ename": "TypeError",
     "evalue": "sum() missing 1 required positional argument: 'y'",
     "output_type": "error",
     "traceback": [
      "\u001b[1;31m---------------------------------------------------------------------------\u001b[0m",
      "\u001b[1;31mTypeError\u001b[0m                                 Traceback (most recent call last)",
      "\u001b[1;32m<ipython-input-5-303c189156ab>\u001b[0m in \u001b[0;36m<module>\u001b[1;34m\u001b[0m\n\u001b[1;32m----> 1\u001b[1;33m \u001b[0mtotal_sum\u001b[0m \u001b[1;33m=\u001b[0m \u001b[0msum\u001b[0m\u001b[1;33m(\u001b[0m\u001b[1;36m1\u001b[0m\u001b[1;33m,\u001b[0m\u001b[1;33m)\u001b[0m\u001b[1;33m\u001b[0m\u001b[1;33m\u001b[0m\u001b[0m\n\u001b[0m\u001b[0;32m      2\u001b[0m \u001b[0mprint\u001b[0m\u001b[1;33m(\u001b[0m\u001b[0mtotal_sum\u001b[0m\u001b[1;33m)\u001b[0m\u001b[1;33m\u001b[0m\u001b[1;33m\u001b[0m\u001b[0m\n\u001b[0;32m      3\u001b[0m \u001b[1;33m\u001b[0m\u001b[0m\n",
      "\u001b[1;31mTypeError\u001b[0m: sum() missing 1 required positional argument: 'y'"
     ]
    }
   ],
   "source": [
    "total_sum = sum(1)\n",
    "print(total_sum)\n",
    "\n"
   ]
  },
  {
   "cell_type": "markdown",
   "metadata": {},
   "source": [
    "If we input more arguments than the parameter, we would also get a TypeError stating the function sum() takes 2 positional arguments but 3 were given."
   ]
  },
  {
   "cell_type": "code",
   "execution_count": 6,
   "metadata": {},
   "outputs": [
    {
     "ename": "TypeError",
     "evalue": "sum() takes 2 positional arguments but 3 were given",
     "output_type": "error",
     "traceback": [
      "\u001b[1;31m---------------------------------------------------------------------------\u001b[0m",
      "\u001b[1;31mTypeError\u001b[0m                                 Traceback (most recent call last)",
      "\u001b[1;32m<ipython-input-6-5c272ec8fe3b>\u001b[0m in \u001b[0;36m<module>\u001b[1;34m\u001b[0m\n\u001b[1;32m----> 1\u001b[1;33m \u001b[0mtotal_sum\u001b[0m \u001b[1;33m=\u001b[0m \u001b[0msum\u001b[0m\u001b[1;33m(\u001b[0m\u001b[1;36m1\u001b[0m\u001b[1;33m,\u001b[0m\u001b[1;36m2\u001b[0m\u001b[1;33m,\u001b[0m\u001b[1;36m3\u001b[0m\u001b[1;33m)\u001b[0m\u001b[1;33m\u001b[0m\u001b[1;33m\u001b[0m\u001b[0m\n\u001b[0m\u001b[0;32m      2\u001b[0m \u001b[0mprint\u001b[0m\u001b[1;33m(\u001b[0m\u001b[0mtotal_sum\u001b[0m\u001b[1;33m)\u001b[0m\u001b[1;33m\u001b[0m\u001b[1;33m\u001b[0m\u001b[0m\n",
      "\u001b[1;31mTypeError\u001b[0m: sum() takes 2 positional arguments but 3 were given"
     ]
    }
   ],
   "source": [
    "total_sum = sum(1,2,3)\n",
    "print(total_sum)"
   ]
  },
  {
   "cell_type": "markdown",
   "metadata": {},
   "source": [
    "For Arbitrary Arguments, *args\n",
    "\n",
    "If you do not know how many arguments that will be passed into your function, add a * before the parameter name in the function definition.\n",
    "\n",
    "This way the function will receive a tuple of arguments, and can access the items accordingly:"
   ]
  },
  {
   "cell_type": "code",
   "execution_count": 9,
   "metadata": {},
   "outputs": [
    {
     "name": "stdout",
     "output_type": "stream",
     "text": [
      "The best friend is Eden\n"
     ]
    }
   ],
   "source": [
    "def name(*friend):\n",
    "  print(\"The best friend is \" + friend[2])\n",
    "\n",
    "name(\"Bob\", \"Tom\", \"Eden\")"
   ]
  },
  {
   "cell_type": "markdown",
   "metadata": {},
   "source": [
    "Keyword Arguments\n",
    "\n",
    "You can also send arguments with the key = value syntax.\n",
    "\n",
    "This way the order of the arguments does not matter."
   ]
  },
  {
   "cell_type": "code",
   "execution_count": 11,
   "metadata": {},
   "outputs": [
    {
     "name": "stdout",
     "output_type": "stream",
     "text": [
      "My favourite fruit is pear\n"
     ]
    }
   ],
   "source": [
    "def fruits(fruit3, fruit2, fruit1):\n",
    "    \n",
    "  print(\"My favourite fruit is \" + fruit2)\n",
    "\n",
    "fruits(fruit1 = \"apple\", fruit2 = \"pear\", fruit3 = \"orange\")"
   ]
  },
  {
   "cell_type": "markdown",
   "metadata": {},
   "source": [
    "Arbitrary Keyword Arguments\n",
    "\n",
    "**kwargs\n",
    "If you do not know how many keyword arguments that will be passed into your function, add two asterisk: ** before the parameter name in the function definition.\n",
    "\n",
    "This way the function will receive a dictionary of arguments, and can access the items accordingly:"
   ]
  },
  {
   "cell_type": "code",
   "execution_count": 22,
   "metadata": {},
   "outputs": [
    {
     "name": "stdout",
     "output_type": "stream",
     "text": [
      "My favourite fruit is pear\n"
     ]
    }
   ],
   "source": [
    "%reset -f\n",
    "\n",
    "def fruit_function(**fruit):\n",
    "  print(\"My favourite fruit is \" + fruit[\"fruit2\"])\n",
    "\n",
    "\n",
    "fruit_function(fruit1 = \"apple\", fruit2 = \"pear\")"
   ]
  },
  {
   "cell_type": "markdown",
   "metadata": {},
   "source": [
    "### Loops"
   ]
  },
  {
   "cell_type": "markdown",
   "metadata": {},
   "source": [
    "Loops allow the code to iterate and repeat itself within set parameters. Loops allow you to automate processes within the program using a few lines of code. \n",
    "\n",
    "Loops typically come in two forms: 1. the For statement 2. the While statement\n",
    "\n",
    "The for statement iterates over the elements of a sequence, such as a string, list, range, or other iterable objects. With the for loop you can automatically execute the code once for each item in the sequence.\n",
    "\n",
    "An example of a for loop would be:"
   ]
  },
  {
   "cell_type": "code",
   "execution_count": null,
   "metadata": {},
   "outputs": [],
   "source": [
    "dateList = [\"01-01-2000\", \"31-12-2020\", \"05-06-2018\", \"04-10-2010\"]\n",
    "for date in dateList:\n",
    "    print(date)"
   ]
  },
  {
   "cell_type": "markdown",
   "metadata": {},
   "source": [
    "The 'date' between `for` and `in` in the code is arbitary, and can be replaced by any other letter or string.\n",
    "\n",
    "In this case \"date\" is known as the target_list, while the actual list of dates is known as the expression_list.\n",
    "The target list can also have multiple values matching the number of values within the expression_list such as:\n",
    "\n",
    "\n"
   ]
  },
  {
   "cell_type": "code",
   "execution_count": null,
   "metadata": {},
   "outputs": [],
   "source": [
    "for (i,j) in [(1,2), (3,4), (5,6)]:\n",
    "    print(i)\n",
    "    print(j)"
   ]
  },
  {
   "cell_type": "markdown",
   "metadata": {},
   "source": [
    "the number of values in the target_list not matching the number of values in the expression_list will give an error:"
   ]
  },
  {
   "cell_type": "code",
   "execution_count": 2,
   "metadata": {},
   "outputs": [
    {
     "ename": "ValueError",
     "evalue": "not enough values to unpack (expected 3, got 2)",
     "output_type": "error",
     "traceback": [
      "\u001b[1;31m---------------------------------------------------------------------------\u001b[0m",
      "\u001b[1;31mValueError\u001b[0m                                Traceback (most recent call last)",
      "\u001b[1;32m<ipython-input-2-0e03c00705c4>\u001b[0m in \u001b[0;36m<module>\u001b[1;34m\u001b[0m\n\u001b[1;32m----> 1\u001b[1;33m \u001b[1;32mfor\u001b[0m \u001b[1;33m(\u001b[0m\u001b[0mi\u001b[0m\u001b[1;33m,\u001b[0m\u001b[0mj\u001b[0m\u001b[1;33m,\u001b[0m\u001b[0mk\u001b[0m\u001b[1;33m)\u001b[0m \u001b[1;32min\u001b[0m \u001b[1;33m[\u001b[0m\u001b[1;33m(\u001b[0m\u001b[1;36m1\u001b[0m\u001b[1;33m,\u001b[0m\u001b[1;36m2\u001b[0m\u001b[1;33m)\u001b[0m\u001b[1;33m,\u001b[0m \u001b[1;33m(\u001b[0m\u001b[1;36m3\u001b[0m\u001b[1;33m,\u001b[0m\u001b[1;36m4\u001b[0m\u001b[1;33m)\u001b[0m\u001b[1;33m,\u001b[0m \u001b[1;33m(\u001b[0m\u001b[1;36m5\u001b[0m\u001b[1;33m,\u001b[0m\u001b[1;36m6\u001b[0m\u001b[1;33m)\u001b[0m\u001b[1;33m]\u001b[0m\u001b[1;33m:\u001b[0m\u001b[1;33m\u001b[0m\u001b[1;33m\u001b[0m\u001b[0m\n\u001b[0m\u001b[0;32m      2\u001b[0m     \u001b[0mprint\u001b[0m\u001b[1;33m(\u001b[0m\u001b[0mi\u001b[0m\u001b[1;33m)\u001b[0m\u001b[1;33m\u001b[0m\u001b[1;33m\u001b[0m\u001b[0m\n\u001b[0;32m      3\u001b[0m     \u001b[0mprint\u001b[0m\u001b[1;33m(\u001b[0m\u001b[0mj\u001b[0m\u001b[1;33m)\u001b[0m\u001b[1;33m\u001b[0m\u001b[1;33m\u001b[0m\u001b[0m\n\u001b[0;32m      4\u001b[0m     \u001b[0mprint\u001b[0m\u001b[1;33m(\u001b[0m\u001b[0mk\u001b[0m\u001b[1;33m)\u001b[0m\u001b[1;33m\u001b[0m\u001b[1;33m\u001b[0m\u001b[0m\n",
      "\u001b[1;31mValueError\u001b[0m: not enough values to unpack (expected 3, got 2)"
     ]
    }
   ],
   "source": [
    "for (i,j,k) in [(1,2), (3,4), (5,6)]:\n",
    "    print(i)\n",
    "    print(j)\n",
    "    print(k)"
   ]
  },
  {
   "cell_type": "markdown",
   "metadata": {},
   "source": [
    "For loops can also be used in conjunction with the `range()` function such as in:\n"
   ]
  },
  {
   "cell_type": "code",
   "execution_count": null,
   "metadata": {},
   "outputs": [],
   "source": [
    "n = 5\n",
    "for i in range(n):\n",
    "    print(i)"
   ]
  },
  {
   "cell_type": "markdown",
   "metadata": {},
   "source": [
    "On the other hand, the while statement repeatedly tests an expression and executes the code for as long as the expression is true. \n",
    "\n",
    "An example of a while loop would be:"
   ]
  },
  {
   "cell_type": "code",
   "execution_count": null,
   "metadata": {},
   "outputs": [],
   "source": [
    "i = 1\n",
    "while i < 6:\n",
    "    print(i)\n",
    "    i += 1"
   ]
  },
  {
   "cell_type": "markdown",
   "metadata": {},
   "source": [
    "as long as i is less than 6, the code will print the current value of i before adding 1 to the value of i. When the value of i reaches 6 the loop will automatically end."
   ]
  },
  {
   "cell_type": "markdown",
   "metadata": {},
   "source": [
    "# Overview Program (picture)"
   ]
  },
  {
   "cell_type": "code",
   "execution_count": 1,
   "metadata": {},
   "outputs": [
    {
     "ename": "IndentationError",
     "evalue": "expected an indented block (<ipython-input-1-c77e7422fe29>, line 2)",
     "output_type": "error",
     "traceback": [
      "\u001b[1;36m  File \u001b[1;32m\"<ipython-input-1-c77e7422fe29>\"\u001b[1;36m, line \u001b[1;32m2\u001b[0m\n\u001b[1;33m    print(2)\u001b[0m\n\u001b[1;37m        ^\u001b[0m\n\u001b[1;31mIndentationError\u001b[0m\u001b[1;31m:\u001b[0m expected an indented block\n"
     ]
    }
   ],
   "source": []
  },
  {
   "cell_type": "code",
   "execution_count": null,
   "metadata": {},
   "outputs": [],
   "source": []
  },
  {
   "cell_type": "markdown",
   "metadata": {},
   "source": [
    "#  "
   ]
  },
  {
   "cell_type": "markdown",
   "metadata": {},
   "source": [
    "# stock_data.py"
   ]
  },
  {
   "cell_type": "markdown",
   "metadata": {},
   "source": [
    "## Learning pt 1 Pandas"
   ]
  },
  {
   "cell_type": "markdown",
   "metadata": {},
   "source": [
    "### Step 1: Reading the CSV"
   ]
  },
  {
   "cell_type": "markdown",
   "metadata": {},
   "source": [
    "To read the CSV file as a pandas.Dataframe, we would use the pandas function \"read_csv()\".\n",
    "\n",
    "First, we have to import pandas\n"
   ]
  },
  {
   "cell_type": "code",
   "execution_count": 1,
   "metadata": {},
   "outputs": [],
   "source": [
    "import pandas as pd"
   ]
  },
  {
   "cell_type": "markdown",
   "metadata": {},
   "source": [
    "Secondly, read the CSV file into the DataFrame (df) "
   ]
  },
  {
   "cell_type": "code",
   "execution_count": null,
   "metadata": {},
   "outputs": [],
   "source": [
    "pd.read_csv('file_name')"
   ]
  },
  {
   "cell_type": "markdown",
   "metadata": {},
   "source": [
    "We can see the output of the data frame by printing df"
   ]
  },
  {
   "cell_type": "code",
   "execution_count": null,
   "metadata": {},
   "outputs": [],
   "source": [
    "print(df)"
   ]
  },
  {
   "cell_type": "markdown",
   "metadata": {},
   "source": [
    "### Step 2:Filling in missing data in the dataframes"
   ]
  },
  {
   "cell_type": "markdown",
   "metadata": {},
   "source": [
    "To increase the integrity of the data set, it is important to fill in missing data. \n",
    "\n",
    "The function used to fill in Not a Number (Nan) values with average of the previous and following data is \"df.interpolate()\". "
   ]
  },
  {
   "cell_type": "code",
   "execution_count": null,
   "metadata": {},
   "outputs": [],
   "source": [
    "df = df.interpolate()"
   ]
  },
  {
   "cell_type": "markdown",
   "metadata": {},
   "source": [
    "The old csv data is then overwritten with the new data by using the function \"df.data.to_csv()\"."
   ]
  },
  {
   "cell_type": "code",
   "execution_count": null,
   "metadata": {},
   "outputs": [],
   "source": [
    "df.data.to_csv(\"filename\")"
   ]
  },
  {
   "cell_type": "code",
   "execution_count": null,
   "metadata": {},
   "outputs": [],
   "source": []
  },
  {
   "cell_type": "markdown",
   "metadata": {},
   "source": [
    "# main_window.ui"
   ]
  },
  {
   "cell_type": "code",
   "execution_count": null,
   "metadata": {},
   "outputs": [],
   "source": []
  },
  {
   "cell_type": "code",
   "execution_count": null,
   "metadata": {},
   "outputs": [],
   "source": []
  },
  {
   "cell_type": "code",
   "execution_count": null,
   "metadata": {},
   "outputs": [],
   "source": []
  },
  {
   "cell_type": "markdown",
   "metadata": {},
   "source": [
    "# main_window.py"
   ]
  },
  {
   "cell_type": "markdown",
   "metadata": {},
   "source": [
    "As mentioned, `main_window.py`'s main responsibility is to **define the graphic user interface (GUI) itself**. It does so by:\n",
    "1. Defining each widget objects' and their names within the GUI\n",
    "2. Defining the location, size and other physical attributes of each widgets\n",
    "\n",
    "It does **NOT** define the functionalities of the widgets found in the GUI. This is the job of `app.py` (next section).\n",
    "\n",
    "While it is possible to create `main_window.py` by manually writing a python script file from scratch, this is not recommended as it is cumbersome. Instead, the following method was used develop the Stock Chart Application:\n",
    "1. Install `Qt Designer` application\n",
    "2. Use `Qt Designer` to build the GUI file called: `main_window.ui`\n",
    "3. Pip install `PyQt5` for python\n",
    "4. Use `pyuic5` (a utility script that comes with `PyQt5`) to compile `main_window.ui` into `main_window.py`\n",
    "\n",
    "The above-mentioned `main_window.py`'s development process is summarized in the graphics below (red box):\n",
    "![main_window.py development process](../asset/img/main_window.py-process.png)\n",
    "\n",
    "This method is **recommended** because it is user-friendly and changes made can be seen visually on the `Qt Designer` itself before it is applied. Thus, not requiring the developer to run the python file after every changes or even knowing how do so at all.\n",
    "\n",
    "This section of the report will now go through the 4 steps of developing `main_window.py` mentioned."
   ]
  },
  {
   "cell_type": "markdown",
   "metadata": {},
   "source": [
    "## Installing QtDesigner"
   ]
  },
  {
   "cell_type": "markdown",
   "metadata": {},
   "source": [
    "The installation process of QtDesigner is similar to any other application.\n",
    "1. Go to: https://build-system.fman.io/qt-designer-download\n",
    "2. Click either the `Windows` or `Mac` option. Depending on your computer's Operating System\n",
    "3. Select a location for the Qt Setup Application `.exe` to be downloaded\n",
    "4. Double click on the Qt Setup Application `.exe`and follow its installation procedure\n",
    "5. Check that you have `Qt Designer` installed."
   ]
  },
  {
   "cell_type": "markdown",
   "metadata": {},
   "source": [
    "## Building `main_window.ui` Using QtDesigner"
   ]
  },
  {
   "cell_type": "markdown",
   "metadata": {},
   "source": [
    "### Defining the GUI\n",
    "First, open `Qt Designer`. The following window and prompts will appear:\n",
    "![Opening Qt-designer](../asset/img/qt-designer.png)\n",
    "\n",
    "Choose `Widget` under the `template\\forms` prompt and press the `Create` Button to begin designing `main_window.ui`. \n",
    "\n",
    "This is simply a starting template of our GUI, but it is important as the `Widget` option will later be used to inform `app.py` of type of GUI being inherited. "
   ]
  },
  {
   "cell_type": "markdown",
   "metadata": {},
   "source": [
    "### Defining the `Widgets` inside the GUI\n",
    "Second, start designing the `main_window.ui` GUI as shown in the image below:\n",
    "![main_window.ui](../asset/img/qt-designer-gui.png)\n",
    "\n",
    "To 'design' the GUI, simply **drag and drop** the appropriate **type** of `Widget` from the left side-bar called `Widget Box` into the GUI `Widget`. This does imply that our GUI is a `Widget` (because we specify it as such in the `template\\forms` option) containing `Widgets`. \n",
    "\n",
    "For convenience, the **type** of the widget used to make the GUI shown above has ben annotated with <font color='red'>red boxes and a number</font> to show where to find each **type** of `Widgets` used to build the GUI.\n",
    "\n",
    "For each `Widget` being dragged and dropped into the GUI, remember to **name them accordingly** in the <font color='blue'>Property Box (blue box)</font>. \n",
    "\n",
    "These actions are what is meant by:\n",
    "> 1. Defining each widget objects' and their names within the GUI\n",
    "> 2. Defining the location, size and other physical attributes of each widgets\n",
    "\n",
    "which was mentioned at the [beginning of the section](#main_window.py)!\n",
    "\n",
    "Also, do refer to the  <font color='orange'>Object Inspector (yellow box)</font> in the `main_window.ui` image for a list of the **names of the widget** and their associated `Widget` **type**.\n",
    "For example: name (Object): `SMA1CheckBox`, class (type): `QCheckBox`\n",
    "\n",
    "Finally, save the `main_window.ui` file by pressing: `File > Save As` option on the top left hand corner of the window."
   ]
  },
  {
   "cell_type": "markdown",
   "metadata": {},
   "source": [
    "## Installing PyQt5"
   ]
  },
  {
   "cell_type": "markdown",
   "metadata": {},
   "source": [
    "Installing `PyQt5` is similar to installing any other python packages using `PIP`. Simply run the following command from the computer's terminal:\n",
    "```\n",
    "pip install PyQt5\n",
    "```\n",
    "`PyQt5` is package comprising a comprehensive set of Python bindings for Qt v5. As part of its package, it comes with a utility script called `pyuic5` which we can use to compile `.ui` files created using `Qt Designer` into a `.py` python module file."
   ]
  },
  {
   "cell_type": "markdown",
   "metadata": {},
   "source": [
    "## Compiling `main_window.ui` into `main_window.py`"
   ]
  },
  {
   "cell_type": "markdown",
   "metadata": {},
   "source": [
    "To compile the `main_window.ui` file into `main_window.py`, simply run the following command from the computer's terminal:\n",
    "```\n",
    "pyuic5 -x -o .\\src\\main_window.py .\\src\\main_window.ui\n",
    "```\n",
    "- The two flags `-x -o` are **required** for the program to work.\n",
    "- The two arguments passed are the `output` file path and the `input` file path.\n",
    "\n",
    "Note: the two file paths assume that it the command is run from the `root` directory and the `main_window.ui` file is saved in a directory called `src`."
   ]
  },
  {
   "cell_type": "code",
   "execution_count": null,
   "metadata": {},
   "outputs": [],
   "source": []
  }
 ],
 "metadata": {
  "kernelspec": {
   "display_name": "Python 3",
   "language": "python",
   "name": "python3"
  },
  "language_info": {
   "codemirror_mode": {
    "name": "ipython",
    "version": 3
   },
   "file_extension": ".py",
   "mimetype": "text/x-python",
   "name": "python",
   "nbconvert_exporter": "python",
   "pygments_lexer": "ipython3",
   "version": "3.8.3"
  }
 },
 "nbformat": 4,
 "nbformat_minor": 4
}

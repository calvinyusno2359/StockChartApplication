{
 "cells": [
  {
   "cell_type": "markdown",
   "metadata": {},
   "source": [
    "# `app.py`"
   ]
  },
  {
   "cell_type": "markdown",
   "metadata": {},
   "source": [
    "While `main_window.py`'s responsibility is to **define the graphics user interface**, `app.py`'s responsibility is to **define the functionalities of the GUI**. This is achieved by doing 2 things:\n",
    "\n",
    "1. Defining `functions` to accomplish certain actions\n",
    "2. Connecting `Widget` actions to these `functions`\n",
    "\n",
    "For example, if we want the `Update Window Button` to plot the stock prices in the GUI's canvas. We will have to create a `function` that plots the graph into the canvas and then connect the `Update Window Button` to this `function`.\n",
    "\n",
    "However, before doing so, `app.py` must first know the `Widget names` defined in `main_window.py`. \n",
    "\n",
    "For example, the `Update Window Button` is actually named: `updateWindowButton`. This name is defined on the previous step, when `main_window.ui` was designed using `Qt Designer` and the `objectName` is specified inside the Property Box!\n",
    "\n",
    "This is why, on the previous step, it is **recommended** to name the `Widgets` **accordingly!**\n",
    "\n",
    "This section of the report will go through the 3 steps of developing `app.py` + 1 optional step to compile `app.exe`, as summarized in the graphics below.\n",
    "\n",
    "![app.py development process](asset/img/app-process.png)"
   ]
  },
  {
   "cell_type": "code",
   "execution_count": 2,
   "metadata": {
    "scrolled": false
   },
   "outputs": [],
   "source": [
    "import sys\n",
    "sys.path.insert(1, '../src')\n",
    "\n",
    "from app import Main\n",
    "import inspect # built-in standard library used later on in the section to get info about the source code"
   ]
  },
  {
   "cell_type": "markdown",
   "metadata": {},
   "source": [
    "## Inheriting `Widgets` from `main_window.py` "
   ]
  },
  {
   "cell_type": "markdown",
   "metadata": {},
   "source": [
    "The goal of this section is to ensure that `app.py` is **runnable without any error** and shows the **exact same** GUI as if previewing `main_window.ui`.\n",
    "\n",
    "![app.py running correctly](asset/img/gui.png)\n",
    "\n",
    "This result shows that `app.py` has successfully inherited all the properties of `main_window.py`, which includes all the `Widgets` defined when `main_window.ui` was created! These `Widgets` include `updateWindowButton`, `SMA1Checkbox`, `filePathEdit`, etc...\n",
    "\n",
    "To achieve this, simply start from the generic starter code for all `PyQt5` application and then add the following:\n",
    "\n",
    "1. Import `matplotlib`, `PyQt5` and the GUI's Widget class called `UI_Form` from `main_window`\n",
    "2. Pass `QWidget` and `UI_Form` as argument to `Main` class to specify inheritance from `QWidget` and `UI_Form` class\n",
    "3. Call the superclass' (`UI_Form`) initializing function and setup function\n",
    "4. Finally, after the inherited GUI has been initialized, add the `canvas` and `toolbar` widget to the `canvasLayout`\n",
    "\n",
    "This is exactly shown in the code below, running them should result in the image shown above:"
   ]
  },
  {
   "cell_type": "code",
   "execution_count": null,
   "metadata": {},
   "outputs": [],
   "source": [
    "import sys\n",
    "\n",
    "# Step 1\n",
    "import matplotlib.pyplot as plt\n",
    "import matplotlib.dates as mdates\n",
    "from matplotlib.backends.backend_qt5agg import FigureCanvasQTAgg as FigureCanvas\n",
    "from matplotlib.backends.backend_qt5agg import NavigationToolbar2QT as NavigationToolbar\n",
    "\n",
    "from PyQt5 import QtCore as qtc\n",
    "from PyQt5 import QtWidgets as qtw\n",
    "\n",
    "from main_window import Ui_Form\n",
    "\n",
    "class Main(qtw.QWidget, Ui_Form): # Step 2\n",
    "    def __init__(self):\n",
    "        # Step 3\n",
    "        super().__init__()\n",
    "        self.setupUi(self)\n",
    "        self.setWindowTitle(\"Stock Chart & Moving Average Application\")\n",
    "\n",
    "        # Step 4\n",
    "        # sets up a new figure to plot on, then instantiates a canvas and toolbar object\n",
    "        self.figure, self.ax = plt.subplots()\n",
    "        self.canvas = FigureCanvas(self.figure)\n",
    "        self.toolbar = NavigationToolbar(self.canvas, self)\n",
    "\n",
    "        # attaches the toolbar and canvas to the canvas layout\n",
    "        self.canvasLayout.addWidget(self.toolbar)\n",
    "        self.canvasLayout.addWidget(self.canvas)\n",
    "\n",
    "if __name__ == \"__main__\":\n",
    "    app = qtw.QApplication([])\n",
    "    main = Main()\n",
    "    main.show()\n",
    "    sys.exit(app.exec_())"
   ]
  },
  {
   "cell_type": "markdown",
   "metadata": {},
   "source": [
    "## Defining `functions` in `app.py`"
   ]
  },
  {
   "cell_type": "markdown",
   "metadata": {},
   "source": [
    "### `load_data(self)`"
   ]
  },
  {
   "cell_type": "code",
   "execution_count": 7,
   "metadata": {},
   "outputs": [
    {
     "name": "stdout",
     "output_type": "stream",
     "text": [
      "\tdef load_data(self):\n",
      "\t\t\"\"\"\n",
      "\t\tloads stock data .csv from inputted filepath string on the GUI as StockData object,\n",
      "\t\talso autocompletes all inputs using information provided by the csv.\n",
      "\n",
      "\t\tError handling\n",
      "\t\t\tinvalid filepath :\n",
      "\t\t\t\tempty filepath or file could not be found or opened.\n",
      "\t\t\tinvalid .csv :\n",
      "\t\t\t\t.csv file is empty, missing date column, etc.\n",
      "\t\t\"\"\"\n",
      "\t\tfilepath = Path(self.filePathEdit.text())\n",
      "\n",
      "\t\ttry:\n",
      "\t\t\tself.stock_data = StockData(filepath)\n",
      "\t\t\tstart_date, end_date = self.stock_data.get_period()\n",
      "\t\t\tperiod = f\"{start_date} to {end_date}\"\n",
      "\n",
      "\t\t\t# auto-complete feauture\n",
      "\t\t\tself.startDateEdit.setText(start_date)\n",
      "\t\t\tself.endDateEdit.setText(end_date)\n",
      "\t\t\tself.periodEdit.setText(period)\n",
      "\t\t\tself.SMA1Edit.setText(\"15\")\n",
      "\t\t\tself.SMA2Edit.setText(\"50\")\n",
      "\t\t\tself.SMA1Checkbox.setChecked(False)\n",
      "\t\t\tself.SMA2Checkbox.setChecked(False)\n",
      "\n",
      "\t\t\tself.report(f\"Data loaded from {filepath}; period auto-selected: {start_date} to {end_date}.\")\n",
      "\t\t\tprint(self.stock_data.data)\n",
      "\n",
      "\t\texcept IOError as e:\n",
      "\t\t\tself.report(f\"Filepath provided is invalid or fail to open .csv file. {e}\")\n",
      "\n",
      "\t\texcept TypeError as e:\n",
      "\t\t\tself.report(f\"The return tuple is probably (nan, nan) because .csv is empty\")\n",
      "\n"
     ]
    }
   ],
   "source": [
    "print(inspect.getsource(Main.load_data))"
   ]
  },
  {
   "cell_type": "markdown",
   "metadata": {},
   "source": [
    "### `update_canvas(self)`"
   ]
  },
  {
   "cell_type": "code",
   "execution_count": 13,
   "metadata": {},
   "outputs": [
    {
     "name": "stdout",
     "output_type": "stream",
     "text": [
      "\tdef update_canvas(self):\n",
      "\t\t\"\"\"\n",
      "\t\tcreates a datetime object from the inputted date string of format YYYY-MM-DD.\n",
      "\t\tuses it to slice a copy of loaded stock_data to be used to update graphics.\n",
      "\t\tchecks checkboxes first to see if SMA1, SMA2, Buya and Sell plots need to be drawn.\n",
      "\t\tfinally, updates graphic accordingly\n",
      "\n",
      "\t\tError handling\n",
      "\t\tinvalid date format:\n",
      "\t\t\tdate format inside the .csv file is not of form YYYY-MM-DD\n",
      "\t\tnon-existent stock_data :\n",
      "\t\t\tthe selected range results in an empty dataframe or end date < start date\n",
      "\t\tnon-existent data point :\n",
      "\t\t\tdata of that date does not exist, or maybe because it is Out-Of-Bound\n",
      "\t\traised exceptions :\n",
      "\t\t\tSMA1 and SMA2 values are the same, or other exceptions raised\n",
      "\t\t\"\"\"\n",
      "\t\tself.ax.clear()\n",
      "\t\tself.date_format = '%Y-%m-%d'\n",
      "\n",
      "\t\ttry:\n",
      "\t\t\tstart_date = str(datetime.strptime(self.startDateEdit.text(), self.date_format).date())\n",
      "\t\t\tend_date = str(datetime.strptime(self.endDateEdit.text(), self.date_format).date())\n",
      "\t\t\tperiod = f\"{start_date} to {end_date}\"\n",
      "\t\t\tself.periodEdit.setText(period)\n",
      "\n",
      "\t\t\t# builds a list of graphs to plot by checking the tickboxes\n",
      "\t\t\tcolumn_headers = ['Close']\n",
      "\t\t\tformats = ['k-']\n",
      "\n",
      "\t\t\tif self.SMA1Checkbox.isChecked():\n",
      "\t\t\t\tself.stock_data._calculate_SMA(int(self.SMA1Edit.text()))\n",
      "\t\t\t\tcolumn_headers.append(f\"SMA{self.SMA1Edit.text()}\")\n",
      "\t\t\t\tformats.append('b-')\n",
      "\t\t\tif self.SMA2Checkbox.isChecked():\n",
      "\t\t\t\tself.stock_data._calculate_SMA(int(self.SMA2Edit.text()))\n",
      "\t\t\t\tcolumn_headers.append(f\"SMA{self.SMA2Edit.text()}\")\n",
      "\t\t\t\tformats.append('c-')\n",
      "\t\t\tif len(column_headers) == 3:\n",
      "\t\t\t\tself.stock_data._calculate_crossover(column_headers[1], column_headers[2], column_headers[1])\n",
      "\t\t\t\tcolumn_headers.append('Sell')\n",
      "\t\t\t\tformats.append('rv')\n",
      "\t\t\t\tcolumn_headers.append('Buy')\n",
      "\t\t\t\tformats.append('g^')\n",
      "\n",
      "\t\t\tself.selected_stock_data = self.stock_data.get_data(start_date, end_date)\n",
      "\t\t\tself.plot_graph(column_headers, formats)\n",
      "\n",
      "\t\t\tself.report(f\"Plotting {column_headers} data from period: {start_date} to {end_date}.\")\n",
      "\t\t\tprint(self.selected_stock_data)\n",
      "\n",
      "\t\texcept ValueError as e:\n",
      "\t\t\tself.report(f\"Time period has not been specified or does not match YYYY-MM-DD format, {e}.\")\n",
      "\n",
      "\t\texcept AssertionError as e:\n",
      "\t\t\tself.report(f\"Selected range is empty, {e}\")\n",
      "\n",
      "\t\texcept KeyError as e:\n",
      "\t\t\tself.report(f\"Data for this date does not exist: {e}\")\n",
      "\n",
      "\t\texcept Exception as e:\n",
      "\t\t\tself.report(f\"Exception encountered: {e}\")\n",
      "\n"
     ]
    }
   ],
   "source": [
    "print(inspect.getsource(Main.update_canvas))"
   ]
  },
  {
   "cell_type": "markdown",
   "metadata": {},
   "source": [
    "### `plot_graph(self, column_headers, formats)`"
   ]
  },
  {
   "cell_type": "code",
   "execution_count": 14,
   "metadata": {},
   "outputs": [
    {
     "name": "stdout",
     "output_type": "stream",
     "text": [
      "\tdef plot_graph(self, column_headers, formats):\n",
      "\t\t\"\"\"\n",
      "\t\tplots graphs specified under columnd_headers using the formats specified\n",
      "\n",
      "\t\tParameters\n",
      "\t\tcolumn_headers : [str, str, ...]\n",
      "\t\t\ta list containing column header names whose data are to be plotted\n",
      "\t\tformats : [str, str, ...]\n",
      "\t\t\ta list of matplotlib built-in style strings to indicate whether to plot line or scatterplot\n",
      "\t\t\tand the colours corresponding to each value in col_headers (hence, must be same length)\n",
      "\n",
      "\t\tError handling\n",
      "\t\tempty dataframe :\n",
      "\t\t\tselected dataframe is empty\n",
      "\t\t\"\"\"\n",
      "\t\tself.ax.clear()\n",
      "\t\tassert not self.selected_stock_data.empty\n",
      "\n",
      "\t\t# matplotlib has its own internal representation of datetime\n",
      "\t\t# date2num converts datetime.datetime to this internal representation\n",
      "\t\tx_data = list(mdates.date2num(\n",
      "\t\t                              [datetime.strptime(dates, self.date_format).date()\n",
      "\t\t                              for dates in self.selected_stock_data.index.values]\n",
      "\t\t                              ))\n",
      "\n",
      "\t\tcolors = ['black', 'blue', 'orange', 'red', 'green']\n",
      "\t\tfor i in range(len(column_headers)):\n",
      "\t\t\tif column_headers[i] in self.selected_stock_data.columns:\n",
      "\t\t\t\ty_data = list(self.selected_stock_data[column_headers[i]])\n",
      "\t\t\t\tself.ax.plot(x_data, y_data, formats[i], label=column_headers[i], color=colors[i])\n",
      "\t\t\t\tself.report(f\"{column_headers[i]} data is being plotted.\")\n",
      "\t\t\telse: self.report(f\"{column_headers[i]} data does not exist.\")\n",
      "\n",
      "\t\t# formatting\n",
      "\t\tmonths_locator = mdates.MonthLocator()\n",
      "\t\tmonths_format = mdates.DateFormatter('%b %Y')\n",
      "\t\tself.ax.xaxis.set_major_locator(months_locator)\n",
      "\t\tself.ax.xaxis.set_major_formatter(months_format)\n",
      "\t\tself.ax.format_xdata = mdates.DateFormatter(self.date_format)\n",
      "\t\tself.ax.format_ydata = lambda y: '$%1.2f' % y\n",
      "\t\tself.ax.grid(True)\n",
      "\t\tself.figure.autofmt_xdate()\n",
      "\t\tself.figure.legend()\n",
      "\t\tself.figure.tight_layout()\n",
      "\t\tself.canvas.draw()\n",
      "\n"
     ]
    }
   ],
   "source": [
    "print(inspect.getsource(Main.plot_graph))"
   ]
  },
  {
   "cell_type": "markdown",
   "metadata": {},
   "source": [
    "### `report(self, string)`"
   ]
  },
  {
   "cell_type": "code",
   "execution_count": 15,
   "metadata": {},
   "outputs": [
    {
     "name": "stdout",
     "output_type": "stream",
     "text": [
      "\tdef report(self, string):\n",
      "\t\t\"\"\"\n",
      "\t\tgiven a report (string), update the scroll area with this report\n",
      "\n",
      "\t\tParameters\n",
      "\t\tstring : str\n",
      "\t\t\tstring of the report, usually the error message itself.\n",
      "\t\t\"\"\"\n",
      "\t\treport_text = qtw.QLabel(string)\n",
      "\t\tself.scrollLayout.addWidget(report_text)\n",
      "\t\tprint(string)\n",
      "\n"
     ]
    }
   ],
   "source": [
    "print(inspect.getsource(Main.report))"
   ]
  },
  {
   "cell_type": "markdown",
   "metadata": {},
   "source": [
    "### `center(self)`"
   ]
  },
  {
   "cell_type": "code",
   "execution_count": 16,
   "metadata": {},
   "outputs": [
    {
     "name": "stdout",
     "output_type": "stream",
     "text": [
      "\tdef center(self):\n",
      "\t\t\"\"\"\n",
      "\t\tcenters the fixed main window size according to user screen size\n",
      "\t\t\"\"\"\n",
      "\t\tscreen = qtw.QDesktopWidget().screenGeometry()\n",
      "\t\tmain_window = self.geometry()\n",
      "\t\tx = (screen.width() - main_window.width()) / 2\n",
      "\t\ty = (screen.height() - main_window.height()) / 2 - 50\t# pulls the window up slightly (arbitrary)\n",
      "\t\tself.setFixedSize(main_window.width(), main_window.height())\n",
      "\t\tself.move(x, y)\n",
      "\n"
     ]
    }
   ],
   "source": [
    "print(inspect.getsource(Main.center))"
   ]
  },
  {
   "cell_type": "markdown",
   "metadata": {},
   "source": [
    "## Connecting `Widget` actions to `functions`"
   ]
  },
  {
   "cell_type": "markdown",
   "metadata": {},
   "source": [
    "blabla"
   ]
  },
  {
   "cell_type": "code",
   "execution_count": 11,
   "metadata": {},
   "outputs": [
    {
     "name": "stdout",
     "output_type": "stream",
     "text": [
      "\tdef __init__(self):\n",
      "\t\t\"\"\"\n",
      "\t\tinitializes and sets up GUI widgets and its connections\n",
      "\t\t\"\"\"\n",
      "\t\tsuper().__init__()\n",
      "\t\tself.setupUi(self)\n",
      "\t\tself.setWindowTitle(\"Stock Chart & Moving Average Application\")\n",
      "\n",
      "\t\t# sets up a new figure to plot on, then instantiates a canvas and toolbar object\n",
      "\t\tself.figure, self.ax = plt.subplots()\n",
      "\t\tself.canvas = FigureCanvas(self.figure)\n",
      "\t\tself.toolbar = NavigationToolbar(self.canvas, self)\n",
      "\n",
      "\t\t# attaches the toolbar and canvas to the canvas layout\n",
      "\t\tself.canvasLayout.addWidget(self.toolbar)\n",
      "\t\tself.canvasLayout.addWidget(self.canvas)\n",
      "\n",
      "\t\t# sets up a scroll area to display GUI statuses\n",
      "\t\tself.scrollWidget = qtw.QWidget()\n",
      "\t\tself.scrollLayout = qtw.QVBoxLayout()\n",
      "\t\tself.scrollWidget.setLayout(self.scrollLayout)\n",
      "\t\tself.scrollArea.setWidget(self.scrollWidget)\n",
      "\n",
      "\t\t# button & checkbox connections\n",
      "\t\tself.loadCSVButton.clicked.connect(self.load_data)\n",
      "\t\tself.updateWindowButton.clicked.connect(self.update_canvas)\n",
      "\t\tself.SMA1Checkbox.stateChanged.connect(self.update_canvas)\n",
      "\t\tself.SMA2Checkbox.stateChanged.connect(self.update_canvas)\n",
      "\n",
      "\t\t# auto-complete feauture\n",
      "\t\tself.filePathEdit.setText(\"../data/GOOG.csv\")\n",
      "\n"
     ]
    }
   ],
   "source": [
    "print(inspect.getsource(Main.__init__))"
   ]
  },
  {
   "cell_type": "markdown",
   "metadata": {},
   "source": [
    "## (Optional) Compiling `app.exe`"
   ]
  },
  {
   "cell_type": "markdown",
   "metadata": {},
   "source": []
  }
 ],
 "metadata": {
  "kernelspec": {
   "display_name": "Python 3",
   "language": "python",
   "name": "python3"
  },
  "language_info": {
   "codemirror_mode": {
    "name": "ipython",
    "version": 3
   },
   "file_extension": ".py",
   "mimetype": "text/x-python",
   "name": "python",
   "nbconvert_exporter": "python",
   "pygments_lexer": "ipython3",
   "version": "3.8.3"
  }
 },
 "nbformat": 4,
 "nbformat_minor": 4
}

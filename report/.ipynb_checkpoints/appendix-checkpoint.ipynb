{
 "cells": [
  {
   "cell_type": "markdown",
   "metadata": {},
   "source": [
    "# Appendix"
   ]
  },
  {
   "cell_type": "markdown",
   "metadata": {},
   "source": [
    "## Code Reference"
   ]
  },
  {
   "cell_type": "code",
   "execution_count": 16,
   "metadata": {},
   "outputs": [],
   "source": [
    "import sys\n",
    "sys.path.insert(1, '../src')\n",
    "\n",
    "from app import Main\n",
    "from stock_data import StockData\n",
    "import inspect # standard library used later to get info about the source code\n",
    "\n",
    "def print_code(code): # prints '{line} {code}' with 2 less indent and without the def header\n",
    "    codeline = lambda code, start : [(start + 1 + i, code[i]) for i in range(len(code))]\n",
    "    print(\"\".join([f\"{line} {text[2:]}\" if len(text) > 1 else f\"{line} {text}\" for line, text in codeline(code[0][1:], code[1])]))"
   ]
  },
  {
   "cell_type": "markdown",
   "metadata": {},
   "source": [
    "### `app.py`"
   ]
  },
  {
   "cell_type": "markdown",
   "metadata": {},
   "source": [
    "#### __ init __(self)"
   ]
  },
  {
   "cell_type": "code",
   "execution_count": 19,
   "metadata": {},
   "outputs": [
    {
     "name": "stdout",
     "output_type": "stream",
     "text": [
      "59 \"\"\"\n",
      "60 initializes and sets up GUI widgets and its connections\n",
      "61 \"\"\"\n",
      "62 super().__init__()\n",
      "63 self.setupUi(self)\n",
      "64 self.setWindowTitle(\"Stock Chart & Moving Average Application\")\n",
      "65 \n",
      "66 # sets up figure to plot on, instantiates canvas and toolbar\n",
      "67 self.figure, self.ax = plt.subplots()\n",
      "68 self.canvas = FigureCanvas(self.figure)\n",
      "69 self.toolbar = NavigationToolbar(self.canvas, self)\n",
      "70 \n",
      "71 # attaches the toolbar and canvas to the canvas layout\n",
      "72 self.canvasLayout.addWidget(self.toolbar)\n",
      "73 self.canvasLayout.addWidget(self.canvas)\n",
      "74 \n",
      "75 # sets up a scroll area to display GUI statuses\n",
      "76 self.scrollWidget = qtw.QWidget()\n",
      "77 self.scrollLayout = qtw.QVBoxLayout()\n",
      "78 self.scrollWidget.setLayout(self.scrollLayout)\n",
      "79 self.scrollArea.setWidget(self.scrollWidget)\n",
      "80 \n",
      "81 # button & checkbox connections\n",
      "82 self.loadCSVButton.clicked.connect(self.load_data)\n",
      "83 self.updateWindowButton.clicked.connect(self.update_canvas)\n",
      "84 self.SMA1Checkbox.stateChanged.connect(self.update_canvas)\n",
      "85 self.SMA2Checkbox.stateChanged.connect(self.update_canvas)\n",
      "86 \n",
      "87 # auto-complete feauture\n",
      "88 self.filePathEdit.setText(\"../data/GOOG.csv\")\n",
      "\n"
     ]
    }
   ],
   "source": [
    "print_code(inspect.getsourcelines(Main.__init__))"
   ]
  },
  {
   "cell_type": "markdown",
   "metadata": {},
   "source": [
    "#### `load_data(self)`"
   ]
  },
  {
   "cell_type": "code",
   "execution_count": 13,
   "metadata": {},
   "outputs": [
    {
     "name": "stdout",
     "output_type": "stream",
     "text": [
      "91 \"\"\"\n",
      "92 loads stock data .csv from inputted filepath string on the GUI\n",
      "93 as StockData object, also autocompletes all inputs\n",
      "94 using information provided by the csv.\n",
      "95 \n",
      "96 Error handling\n",
      "97 \tinvalid filepath :\n",
      "98 \t\tempty filepath or file could not be found.\n",
      "99 \tinvalid .csv :\n",
      "100 \t\t.csv file is empty, missing date column, etc.\n",
      "101 \"\"\"\n",
      "102 filepath = Path(self.filePathEdit.text())\n",
      "103 \n",
      "104 try:\n",
      "105 \tself.stock_data = StockData(filepath)\n",
      "106 \tstart_date, end_date = self.stock_data.get_period()\n",
      "107 \tperiod = f\"{start_date} to {end_date}\"\n",
      "108 \n",
      "109 \t# auto-complete feauture\n",
      "110 \tself.startDateEdit.setText(start_date)\n",
      "111 \tself.endDateEdit.setText(end_date)\n",
      "112 \tself.periodEdit.setText(period)\n",
      "113 \tself.SMA1Edit.setText(\"15\")\n",
      "114 \tself.SMA2Edit.setText(\"50\")\n",
      "115 \tself.SMA1Checkbox.setChecked(False)\n",
      "116 \tself.SMA2Checkbox.setChecked(False)\n",
      "117 \n",
      "118 \tself.report(f\"Data loaded from {filepath}; period auto-selected: {start_date} to {end_date}.\")\n",
      "119 \tprint(self.stock_data.data)\n",
      "120 \n",
      "121 except IOError as e:\n",
      "122 \tself.report(f\"Filepath provided is invalid or fail to open .csv file. {e}\")\n",
      "123 \n",
      "124 except TypeError as e:\n",
      "125 \tself.report(f\"The return tuple is probably (nan, nan) because .csv is empty\")\n",
      "\n"
     ]
    }
   ],
   "source": [
    "print_code(inspect.getsourcelines(Main.load_data))"
   ]
  },
  {
   "cell_type": "markdown",
   "metadata": {},
   "source": [
    "#### `update_canvas(self)`"
   ]
  },
  {
   "cell_type": "code",
   "execution_count": 14,
   "metadata": {},
   "outputs": [
    {
     "name": "stdout",
     "output_type": "stream",
     "text": [
      "128 \"\"\"\n",
      "129 creates a datetime object from the inputted date string\n",
      "130 of format YYYY-MM-DD. uses it to slice a copy of loaded\n",
      "131 stock_data to be used to update graphics. checks\n",
      "132 checkboxes first to see if SMA1, SMA2, Buy and Sell plots\n",
      "133 need to be drawn. finally, updates graphic accordingly.\n",
      "134 \n",
      "135 Error handling\n",
      "136 invalid date format:\n",
      "137 \tdate format inside the .csv file is not YYYY-MM-DD\n",
      "138 non-existent stock_data :\n",
      "139 \tthe selected range results in an empty dataframe\n",
      "140 \tor end date < start date\n",
      "141 non-existent data point :\n",
      "142 \tdata of that date does not exist,\n",
      "143 \tor maybe because it is Out-Of-Bound\n",
      "144 raised exceptions :\n",
      "145 \tSMA1 and SMA2 values are the same,\n",
      "146 \tor other exceptions raised\n",
      "147 \"\"\"\n",
      "148 self.ax.clear()\n",
      "149 self.date_format = '%Y-%m-%d'\n",
      "150 \n",
      "151 try:\n",
      "152 \tstart_date = str(datetime.strptime(self.startDateEdit.text(), self.date_format).date())\n",
      "153 \tend_date = str(datetime.strptime(self.endDateEdit.text(), self.date_format).date())\n",
      "154 \tperiod = f\"{start_date} to {end_date}\"\n",
      "155 \tself.periodEdit.setText(period)\n",
      "156 \n",
      "157 \t# builds a list of graphs to plot by checking the tickboxes\n",
      "158 \tcolumn_headers = ['Close']\n",
      "159 \tformats = ['k-']\n",
      "160 \n",
      "161 \tif self.SMA1Checkbox.isChecked():\n",
      "162 \t\tself.stock_data._calculate_SMA(int(self.SMA1Edit.text()))\n",
      "163 \t\tcolumn_headers.append(f\"SMA{self.SMA1Edit.text()}\")\n",
      "164 \t\tformats.append('b-')\n",
      "165 \tif self.SMA2Checkbox.isChecked():\n",
      "166 \t\tself.stock_data._calculate_SMA(int(self.SMA2Edit.text()))\n",
      "167 \t\tcolumn_headers.append(f\"SMA{self.SMA2Edit.text()}\")\n",
      "168 \t\tformats.append('c-')\n",
      "169 \tif len(column_headers) == 3:\n",
      "170 \t\tself.stock_data._calculate_crossover(column_headers[1], column_headers[2], column_headers[1])\n",
      "171 \t\tcolumn_headers.append('Sell')\n",
      "172 \t\tformats.append('rv')\n",
      "173 \t\tcolumn_headers.append('Buy')\n",
      "174 \t\tformats.append('g^')\n",
      "175 \n",
      "176 \tself.selected_stock_data = self.stock_data.get_data(start_date, end_date)\n",
      "177 \tself.plot_graph(column_headers, formats)\n",
      "178 \n",
      "179 \tself.report(f\"Plotting {column_headers} data from period: {start_date} to {end_date}.\")\n",
      "180 \tprint(self.selected_stock_data)\n",
      "181 \n",
      "182 except ValueError as e:\n",
      "183 \tself.report(f\"Time period has not been specified or does not match YYYY-MM-DD format, {e}.\")\n",
      "184 \n",
      "185 except AssertionError as e:\n",
      "186 \tself.report(f\"Selected range is empty, {e}\")\n",
      "187 \n",
      "188 except KeyError as e:\n",
      "189 \tself.report(f\"Data for this date does not exist: {e}\")\n",
      "190 \n",
      "191 except Exception as e:\n",
      "192 \tself.report(f\"Exception encountered: {e}\")\n",
      "\n"
     ]
    }
   ],
   "source": [
    "print_code(inspect.getsourcelines(Main.update_canvas))"
   ]
  },
  {
   "cell_type": "markdown",
   "metadata": {},
   "source": [
    "#### `plot_graph(self, column_headers, formats)`"
   ]
  },
  {
   "cell_type": "code",
   "execution_count": 15,
   "metadata": {},
   "outputs": [
    {
     "name": "stdout",
     "output_type": "stream",
     "text": [
      "195 \"\"\"\n",
      "196 plots graphs specified under columnd_headers using the formats\n",
      "197 \n",
      "198 Parameters\n",
      "199 column_headers : [str, str, ...]\n",
      "200 \ta list containing column header names with data to be plotted\n",
      "201 formats : [str, str, ...]\n",
      "202 \ta list of matplotlib built-in style strings to indicate\n",
      "203 \twhether to plot line or scatterplot and the colours\n",
      "204 \tcorresponding to each value in col_headers\n",
      "205 \t(hence, must be same length)\n",
      "206 \n",
      "207 Error handling\n",
      "208 empty dataframe :\n",
      "209 \tselected dataframe is empty\n",
      "210 \"\"\"\n",
      "211 self.ax.clear()\n",
      "212 assert not self.selected_stock_data.empty\n",
      "213 \n",
      "214 # matplotlib has its own internal representation of datetime\n",
      "215 # date2num converts datetime.datetime to this internal representation\n",
      "216 x_data = list(mdates.date2num(\n",
      "217                               [datetime.strptime(dates, self.date_format).date()\n",
      "218                               for dates in self.selected_stock_data.index.values]\n",
      "219                               ))\n",
      "220 \n",
      "221 colors = ['black', 'blue', 'orange', 'red', 'green']\n",
      "222 for i in range(len(column_headers)):\n",
      "223 \tif column_headers[i] in self.selected_stock_data.columns:\n",
      "224 \t\ty_data = list(self.selected_stock_data[column_headers[i]])\n",
      "225 \t\tself.ax.plot(x_data, y_data, formats[i], label=column_headers[i], color=colors[i])\n",
      "226 \t\tself.report(f\"{column_headers[i]} data is being plotted.\")\n",
      "227 \telse: self.report(f\"{column_headers[i]} data does not exist.\")\n",
      "228 \n",
      "229 # formatting\n",
      "230 months_locator = mdates.MonthLocator()\n",
      "231 months_format = mdates.DateFormatter('%b %Y')\n",
      "232 self.ax.xaxis.set_major_locator(months_locator)\n",
      "233 self.ax.xaxis.set_major_formatter(months_format)\n",
      "234 self.ax.format_xdata = mdates.DateFormatter(self.date_format)\n",
      "235 self.ax.format_ydata = lambda y: '$%1.2f' % y\n",
      "236 self.ax.grid(True)\n",
      "237 self.figure.autofmt_xdate()\n",
      "238 self.figure.legend()\n",
      "239 self.figure.tight_layout()\n",
      "240 self.canvas.draw()\n",
      "\n"
     ]
    }
   ],
   "source": [
    "print_code(inspect.getsourcelines(Main.plot_graph))"
   ]
  },
  {
   "cell_type": "markdown",
   "metadata": {},
   "source": [
    "#### `report(self, string)`"
   ]
  },
  {
   "cell_type": "code",
   "execution_count": 17,
   "metadata": {},
   "outputs": [
    {
     "name": "stdout",
     "output_type": "stream",
     "text": [
      "243 \"\"\"\n",
      "244 given a report (string), update the scroll area with this report\n",
      "245 \n",
      "246 Parameters\n",
      "247 string : str\n",
      "248 \tstring of the report, usually the error message itself.\n",
      "249 \"\"\"\n",
      "250 report_text = qtw.QLabel(string)\n",
      "251 self.scrollLayout.addWidget(report_text)\n",
      "252 print(string)\n",
      "\n"
     ]
    }
   ],
   "source": [
    "print_code(inspect.getsourcelines(Main.report))"
   ]
  },
  {
   "cell_type": "markdown",
   "metadata": {},
   "source": [
    "#### `center(self)`"
   ]
  },
  {
   "cell_type": "code",
   "execution_count": 18,
   "metadata": {},
   "outputs": [
    {
     "name": "stdout",
     "output_type": "stream",
     "text": [
      "255 \"\"\"\n",
      "256 centers the fixed main window size according to user screen size\n",
      "257 \"\"\"\n",
      "258 screen = qtw.QDesktopWidget().screenGeometry()\n",
      "259 main_window = self.geometry()\n",
      "260 x = (screen.width() - main_window.width()) / 2\n",
      "261 \n",
      "262 # pulls the window up slightly (arbitrary)\n",
      "263 y = (screen.height() - main_window.height()) / 2 - 50\n",
      "264 self.setFixedSize(main_window.width(), main_window.height())\n",
      "265 self.move(x, y)\n",
      "\n"
     ]
    }
   ],
   "source": [
    "print_code(inspect.getsourcelines(Main.center))"
   ]
  },
  {
   "cell_type": "markdown",
   "metadata": {},
   "source": [
    "### `stock_data.py`"
   ]
  },
  {
   "cell_type": "markdown",
   "metadata": {},
   "source": [
    "#### __ init __(self)"
   ]
  },
  {
   "cell_type": "code",
   "execution_count": 20,
   "metadata": {},
   "outputs": [
    {
     "name": "stdout",
     "output_type": "stream",
     "text": [
      "18 \"\"\"\n",
      "19 initializes StockData object by parsing stock data .csv file into a dataframe\n",
      "20 (assumes 'Date' column exists and uses it for index), also checks and handles missing data\n",
      "21 \n",
      "22 Parameters\n",
      "23 filepath : str\n",
      "24 \tfilepath to the stock data .csv file, can be relative or absolute\n",
      "25 \n",
      "26 Raises\n",
      "27 IOError :\n",
      "28 \tfailed I/O operation, e.g: invalid filepath, fail to open .csv\n",
      "29 \"\"\"\n",
      "30 self.filepath = filepath\n",
      "31 self.data = pd.read_csv(filepath).set_index('Date')\n",
      "32 self.check_data()\n",
      "\n"
     ]
    }
   ],
   "source": [
    "print_code(inspect.getsourcelines(StockData.__init__))"
   ]
  },
  {
   "cell_type": "markdown",
   "metadata": {},
   "source": [
    "#### check_data(self, overwrite=True)"
   ]
  },
  {
   "cell_type": "code",
   "execution_count": 21,
   "metadata": {},
   "outputs": [
    {
     "name": "stdout",
     "output_type": "stream",
     "text": [
      "35 \"\"\"\n",
      "36 checks and handles missing data by filling in missing values by interpolation\n",
      "37 \n",
      "38 Parameters\n",
      "39 overwrite : bool (True)\n",
      "40 \tif True, overwrites original source stock data .csv file\n",
      "41 \n",
      "42 Returns\n",
      "43 self : StockData\n",
      "44 \"\"\"\n",
      "45 # function to fill in missing values with average with previous data and after (interpolation)\n",
      "46 self.data = self.data.interpolate()\n",
      "47 self.data.to_csv(self.filepath, index=overwrite)\n",
      "48 return self\n",
      "\n"
     ]
    }
   ],
   "source": [
    "print_code(inspect.getsourcelines(StockData.check_data))"
   ]
  },
  {
   "cell_type": "markdown",
   "metadata": {},
   "source": [
    "#### get_data(self, start_date, end_date)"
   ]
  },
  {
   "cell_type": "code",
   "execution_count": 22,
   "metadata": {},
   "outputs": [
    {
     "name": "stdout",
     "output_type": "stream",
     "text": [
      "51 \"\"\"\n",
      "52 returns a subset of the stock data ranging from start_date to end_date inclusive\n",
      "53 \n",
      "54 Parameters\n",
      "55 start_date : str\n",
      "56 \tstart date of stock data range, must be of format YYYY-MM-DD\n",
      "57 end_date : str\n",
      "58 \tend date of stokc data range, must be of format YYYY-MM-DD\n",
      "59 \n",
      "60 Returns:\n",
      "61 selected_data : DataFrame\n",
      "62 \tstock data dataframe indexed from specified start to end date inclusive\n",
      "63 \n",
      "64 Raises\n",
      "65 KeyError :\n",
      "66 \tdata for this date does not exist\n",
      "67 AssertionError :\n",
      "68 \tselected range is empty\n",
      "69 \"\"\"\n",
      "70 self.selected_data = self.data[str(start_date):str(end_date)]\n",
      "71 return self.selected_data\n",
      "\n"
     ]
    }
   ],
   "source": [
    "print_code(inspect.getsourcelines(StockData.get_data))"
   ]
  },
  {
   "cell_type": "markdown",
   "metadata": {},
   "source": [
    "#### get_period(self)"
   ]
  },
  {
   "cell_type": "code",
   "execution_count": 23,
   "metadata": {},
   "outputs": [
    {
     "name": "stdout",
     "output_type": "stream",
     "text": [
      "74 \"\"\"\n",
      "75 returns a string tuple of the first and last index which make up the maximum period of StockData\n",
      "76 \n",
      "77 Returns\n",
      "78 period : (str, str)\n",
      "79 \n",
      "80 Raises\n",
      "81 TypeError :\n",
      "82 \tthe return tuple is probably (nan, nan) because .csv is empty\n",
      "83 \"\"\"\n",
      "84 index = list(self.data.index)\n",
      "85 (first, last) = (index[0], index[-1])\n",
      "86 return (first, last)\n",
      "\n"
     ]
    }
   ],
   "source": [
    "print_code(inspect.getsourcelines(StockData.get_period))"
   ]
  },
  {
   "cell_type": "markdown",
   "metadata": {},
   "source": [
    "#### _calculate_SMA(self, n, col='Close')"
   ]
  },
  {
   "cell_type": "code",
   "execution_count": 24,
   "metadata": {},
   "outputs": [
    {
     "name": "stdout",
     "output_type": "stream",
     "text": [
      "89 \"\"\"\n",
      "90 calculates simple moving average (SMA) and augments the stock dataframe with this SMA(n) data as a new column\n",
      "91 \n",
      "92 Parameters\n",
      "93 n : int\n",
      "94 \tthe amount of stock data to use to calculate average\n",
      "95 col : str ('Close')\n",
      "96 \tthe column head title of the values to use to calculate average\n",
      "97 \n",
      "98 Returns\n",
      "99 self : StockData\n",
      "100 \"\"\"\n",
      "101 col_head = f'SMA{n}'\n",
      "102 if col_head not in self.data.columns:\n",
      "103 \tsma = self.data[col].rolling(n).mean()\n",
      "104 \tself.data[f'SMA{n}'] = np.round(sma, 4)\n",
      "105 \tself.data.to_csv(self.filepath, index=True)\n",
      "106 return self\n",
      "\n"
     ]
    }
   ],
   "source": [
    "print_code(inspect.getsourcelines(StockData._calculate_SMA))"
   ]
  },
  {
   "cell_type": "markdown",
   "metadata": {},
   "source": [
    "#### _calculate_crossover(self, SMA1, SMA2, col='Close')"
   ]
  },
  {
   "cell_type": "code",
   "execution_count": 25,
   "metadata": {},
   "outputs": [
    {
     "name": "stdout",
     "output_type": "stream",
     "text": [
      "109 \"\"\"\n",
      "110 calculates the crossover positions and values, augments the stock dataframe with 2 new columns\n",
      "111 'Sell' and 'Buy' containing the value at which SMA crossover happens\n",
      "112 \n",
      "113 Parameters\n",
      "114 SMA1 : str\n",
      "115 \tthe first column head title containing the SMA values\n",
      "116 SMA2 : str\n",
      "117 \tthe second column head title containing the SMA values\n",
      "118 col : str ('Close')\n",
      "119 \tthe column head title whose values will copied into 'Buy' and 'Sell' columns\n",
      "120 \tto indicate crossovers had happen on that index\n",
      "121 \n",
      "122 Returns\n",
      "123 self : StockData\n",
      "124 \n",
      "125 Raises\n",
      "126 Exception :\n",
      "127 \tSMA1 and SMA2 provided are the same, they must be different\n",
      "128 \"\"\"\n",
      "129 if SMA1 < SMA2: signal = self.data[SMA1] - self.data[SMA2]\n",
      "130 elif SMA1 > SMA2: signal = self.data[SMA2] - self.data[SMA1]\n",
      "131 else: raise Exception(f\"{SMA1} & {SMA2} provided are the same. They must be different SMA.\")\n",
      "132 \n",
      "133 signal[signal > 0] = 1\n",
      "134 signal[signal <= 0] = 0\n",
      "135 diff = signal.diff()\n",
      "136 \n",
      "137 self.data['Sell'] = np.nan\n",
      "138 self.data['Buy'] = np.nan\n",
      "139 self.data.loc[diff.index[diff < 0], 'Sell'] = self.data.loc[diff.index[diff < 0], col]\n",
      "140 self.data.loc[diff.index[diff > 0], 'Buy'] = self.data.loc[diff.index[diff > 0], col]\n",
      "141 \n",
      "142 self.data.to_csv(self.filepath, index=True)\n",
      "143 return self\n",
      "\n"
     ]
    }
   ],
   "source": [
    "print_code(inspect.getsourcelines(StockData._calculate_crossover))"
   ]
  },
  {
   "cell_type": "markdown",
   "metadata": {},
   "source": [
    "#### plot_graph(self, col_headers, style, ax, show=True)"
   ]
  },
  {
   "cell_type": "code",
   "execution_count": 26,
   "metadata": {},
   "outputs": [
    {
     "name": "stdout",
     "output_type": "stream",
     "text": [
      "146 \"\"\"\n",
      "147 plots columns of selected values as line plot and/or columns of values as scatter plot\n",
      "148 as specified by style to an Axes object\n",
      "149 \n",
      "150 Parameters\n",
      "151 col_headers : [str, str, ...]\n",
      "152 \ta list containing column header names whose data are to be plotted\n",
      "153 style : [str, str, ...]\n",
      "154 \ta list of matplotlib built-in style strings to indicate whether to plot line or scatterplot\n",
      "155 \tand the colours corresponding to each value in col_headers (hence, must be same length)\n",
      "156 ax : Axes\n",
      "157 \tmatplotlib axes object on which the plot will be drawn\n",
      "158 \n",
      "159 Raises\n",
      "160 AttributeError :\n",
      "161 \tself.selected_data has not been specified, call StockData.get_data(start, end) before plotting\n",
      "162 AssertionError :\n",
      "163 \tself.selected_data is empty, perhaps due to OOB or invalid range\n",
      "164 \"\"\"\n",
      "165 assert not self.selected_data.empty\n",
      "166 self.selected_data[col_headers].plot(style=style,\n",
      "167                                      ax=ax,\n",
      "168                                      grid=True,\n",
      "169                                      x_compat=True,\n",
      "170                                      linewidth=1)\n",
      "171 if show: plt.show()\n",
      "\n"
     ]
    }
   ],
   "source": [
    "print_code(inspect.getsourcelines(StockData.plot_graph))"
   ]
  },
  {
   "cell_type": "markdown",
   "metadata": {},
   "source": [
    "#### calculate_SMA(self, n)"
   ]
  },
  {
   "cell_type": "code",
   "execution_count": 27,
   "metadata": {},
   "outputs": [
    {
     "name": "stdout",
     "output_type": "stream",
     "text": [
      "174 \"\"\"\n",
      "175 calculates simple moving average (SMA) and augments the stock dataframe with this SMA(n) data as a new column\n",
      "176 \n",
      "177 Parameters\n",
      "178 n : int\n",
      "179 \tthe amount of stock data to use to calculate average\n",
      "180 col : str ('Close')\n",
      "181 \tthe column head title of the values to use to calculate average\n",
      "182 \n",
      "183 Returns\n",
      "184 self : StockData\n",
      "185 \"\"\"\n",
      "186 col_head = 'SMA' + str(n)\n",
      "187 df = self.data.reset_index()\n",
      "188 \n",
      "189 if col_head not in df.columns:\n",
      "190 \t#Extract full dataframe from the actual data(to check if there is enough data for sma)\n",
      "191 \tdateList = self.data.index.values.tolist() #List of data in self dataframe\n",
      "192 \treturnList = []\n",
      "193 \tfor date in dateList: #for date in dateList\n",
      "194 \t\tdateIndex = df[df[\"Date\"]==date].index.values[0] # find the index of date in the full data\n",
      "195 \t\tif dateIndex < n: # if date index is less than n: append None\n",
      "196 \t\t\treturnList.append(np.nan)\n",
      "197 \t\telse:\n",
      "198 \t\t\tsum = 0\n",
      "199 \t\t\tfor i in range(n):\n",
      "200 \t\t\t\tsum += df.iloc[dateIndex-i][\"Adj Close\"]\n",
      "201 \t\t\t\t# else sum of data from dateIndex to dateIndex-i(0,1,2...n)\n",
      "202 \t\t\treturnList.append(sum/n)  #append the SMA for each day to a list\n",
      "203 \n",
      "204 \tself.data[col_head] = returnList\n",
      "205 \tprint(self.data)\n",
      "206 \tself.data.to_csv(self.filepath, index=True)\n",
      "207 \n",
      "208 return self\n",
      "\n"
     ]
    }
   ],
   "source": [
    "print_code(inspect.getsourcelines(StockData.calculate_SMA))"
   ]
  },
  {
   "cell_type": "markdown",
   "metadata": {},
   "source": [
    "#### calculate_crossover(self, SMAa, SMAb)"
   ]
  },
  {
   "cell_type": "code",
   "execution_count": 28,
   "metadata": {},
   "outputs": [
    {
     "name": "stdout",
     "output_type": "stream",
     "text": [
      "211 \"\"\"\n",
      "212 calculates the crossover positions and values, augments the stock dataframe with 2 new columns\n",
      "213 'Sell' and 'Buy' containing the value at which SMA crossover happens\n",
      "214 \n",
      "215 Parameters\n",
      "216 SMA1 : str\n",
      "217 \tthe first column head title containing the SMA values\n",
      "218 SMA2 : str\n",
      "219 \tthe second column head title containing the SMA values\n",
      "220 col : str ('Close')\n",
      "221 \tthe column head title whose values will copied into 'Buy' and 'Sell' columns\n",
      "222 \tto indicate crossovers had happen on that index\n",
      "223 \n",
      "224 Returns\n",
      "225 self : StockData\n",
      "226 \n",
      "227 Raises\n",
      "228 Exception :\n",
      "229 \tSMA1 and SMA2 provided are the same, they must be different\n",
      "230 \"\"\"\n",
      "231 col_head1 = 'Position'\n",
      "232 col_head2 = 'Signal'\n",
      "233 col_head3 = 'Buy'\n",
      "234 col_head4 = 'Sell'\n",
      "235 df = self.data\n",
      "236 \n",
      "237 SMAlist = self.data.index.values.tolist() # to ensure the correct number of elements in the loop\n",
      "238 if SMAa < SMAb: # extracts the SMA from the specific column in self.data where SMA data will be\n",
      "239 \tSMA1 = df[SMAa].tolist()\n",
      "240 \tSMA2 = df[SMAb].tolist()\n",
      "241 elif SMAa > SMAb:\n",
      "242 \tSMA1 = df[SMAb].tolist()\n",
      "243 \tSMA2 = df[SMAa].tolist()\n",
      "244 else: # SMAa == SMAb\n",
      "245 \traise ValueError(f\"Given {SMAa} & {SMAb} are the same. Must be different SMA.\")\n",
      "246 \n",
      "247 stockPosition = []  # which SMA line is on top\n",
      "248 stockSignal = []  \t# the buy/sell signal --> the 1s and -1s\n",
      "249 buySignal = []  \t\t# filtered out location of buy signals\n",
      "250 sellSignal = []  \t\t# filtered out location of sell signals\n",
      "251 \n",
      "252 for i in range(len(SMAlist)):  # goes through every element in the SMA values\n",
      "253 \tif SMA1[i] > SMA2[i]: stockPosition.append(1)  \t\t# SMA1 above SMA2\n",
      "254 \telif SMA1[i] < SMA2[i]: stockPosition.append(0)  \t# SMA2 above SMA1\n",
      "255 \telif SMA1[i] == SMA2[i]: stockPosition.append(stockPosition[i-1]) # if the SMAs are equal, repeat the previous entry because no crossover has occured yet\n",
      "256 \telse: stockPosition.append(np.nan) #if no data, leave blank\n",
      "257 \n",
      "258 for j in range(len(stockPosition)):  \t\t\t# find the places where crossover occurs\n",
      "259 \tif j == 0: stockSignal.append(np.nan) \t# 'shifts' the data one period to the right to ensure crossovers are reflected on the correct date\n",
      "260 \telse: stockSignal.append(stockPosition[j] - stockPosition[j-1]) # calculation for the crossover signals\n",
      "261 \n",
      "262 for k in range(len(stockSignal)): # finding location of buy signals\n",
      "263 \tif stockSignal[k] == 1:\n",
      "264 \t\tvalue = (self.data[SMAa].tolist()[k] + self.data[SMAb].tolist()[k]) / 2\n",
      "265 \t\tbuySignal.append(value) # adds '1' at the location of buy signals in a separate column\n",
      "266 \telse: buySignal.append(np.nan) # if no signal leave blank\n",
      "267 \n",
      "268 for k in range(len(stockSignal)): #finding location of sell signals\n",
      "269 \tif stockSignal[k] == -1:\n",
      "270 \t\tvalue = (self.data[SMAa].tolist()[k] + self.data[SMAb].tolist()[k]) / 2\n",
      "271 \t\tsellSignal.append(value) # adds '-1' at the location of sell signals in a separate column\n",
      "272 \telse: sellSignal.append(np.nan) # if no signal leave blank\n",
      "273 \n",
      "274 self.data[col_head3] = buySignal\n",
      "275 self.data[col_head4] = sellSignal\n",
      "276 \n",
      "277 print(self.data)\n",
      "278 self.data.to_csv(self.filepath, index=True)\n",
      "279 return self\n",
      "\n"
     ]
    }
   ],
   "source": [
    "print_code(inspect.getsourcelines(StockData.calculate_crossover))"
   ]
  }
 ],
 "metadata": {
  "kernelspec": {
   "display_name": "Python 3",
   "language": "python",
   "name": "python3"
  },
  "language_info": {
   "codemirror_mode": {
    "name": "ipython",
    "version": 3
   },
   "file_extension": ".py",
   "mimetype": "text/x-python",
   "name": "python",
   "nbconvert_exporter": "python",
   "pygments_lexer": "ipython3",
   "version": "3.8.3"
  }
 },
 "nbformat": 4,
 "nbformat_minor": 4
}

{
 "cells": [
  {
   "cell_type": "markdown",
   "metadata": {},
   "source": [
    "# Python Packages"
   ]
  },
  {
   "cell_type": "markdown",
   "metadata": {},
   "source": [
    "## Modules"
   ]
  },
  {
   "cell_type": "markdown",
   "metadata": {},
   "source": [
    "Modules are files containing a set of functions you want to include in your application.\n",
    "Modules are useful because they can store a handy function that you may need to use often into it. You can then call the function from the module whenever you need it.\n",
    "\n",
    "In python, there is a way to put definitions in a file and use them in a script. These files are known as modules. Definitions and functions in a module can be imported into other modules.\n",
    "\n",
    "To create a module, you would need to save a code into a file with the suffix `.py` appended.\n",
    "\n",
    "A docstring is a string literal that usually appears as the first statement in a module. It is used to explain what the module does. The docstring becomes a `__doc__` special attribute of that object.\n",
    "\n",
    "There are several built-in modules in python which can be imported and called at any time.\n",
    "\n",
    "Example: \n"
   ]
  },
  {
   "cell_type": "markdown",
   "metadata": {},
   "source": [
    "```\n",
    "import platform\n",
    "\n",
    "x = platform.system()\n",
    "print(x)\n",
    "```"
   ]
  },
  {
   "cell_type": "markdown",
   "metadata": {},
   "source": [
    "You can also use the `dir()` function to list all the defined names belonging to the platform module.\n",
    "\n",
    "Example:\n"
   ]
  },
  {
   "cell_type": "markdown",
   "metadata": {},
   "source": [
    "```\n",
    "import platform\n",
    "\n",
    "x = dir(platform)\n",
    "print(x)\n",
    "```"
   ]
  },
  {
   "cell_type": "markdown",
   "metadata": {},
   "source": [
    "###  Import"
   ]
  },
  {
   "cell_type": "markdown",
   "metadata": {},
   "source": [
    "Python modules can get access to code from another module by importing the file/function using import. When import is used, it searches for the module initially in the local scope by calling __import__() function. The values returned by the function are then reflected in the output of the initial code.\n",
    "\n",
    "The basic import statement is executed in two steps. Firstly, it finds a module, loads and initializes it. Secondly, defines names in the local namespace for the scope where the import statement occurs.\n",
    "\n",
    "Import statements should be carried out in separate lines\n",
    "\n",
    "Examples:\n"
   ]
  },
  {
   "cell_type": "markdown",
   "metadata": {},
   "source": [
    "```\n",
    "Import os\n",
    "\n",
    "Import sys\n",
    "```"
   ]
  },
  {
   "cell_type": "markdown",
   "metadata": {},
   "source": [
    "When the requested modules is retrieved successfully, there would be 3 main ways it would be made available in the local namespace.\n",
    "\n",
    "Firstly, using `import` and defining the module. If the module imported is a top level module, its name would be bound to the local namespace as a reference to the imported module.\n",
    "\n",
    "Example: \n"
   ]
  },
  {
   "cell_type": "markdown",
   "metadata": {},
   "source": [
    "```\n",
    "Import stockdata\n",
    "```"
   ]
  },
  {
   "cell_type": "markdown",
   "metadata": {},
   "source": [
    "Secondly, you can create an alias when you import a module by using `as` keyword.\n",
    "\n",
    "Example: \n"
   ]
  },
  {
   "cell_type": "markdown",
   "metadata": {},
   "source": [
    "```\n",
    "Import stockdata as SD\n",
    "\n",
    "```"
   ]
  },
  {
   "cell_type": "markdown",
   "metadata": {},
   "source": [
    "Thirdly, if the module imported is not a top level module, the name of the top level package that contains the module is bound in the local namespace. The imported module must be accessed using its full qualified name.\n",
    "\n",
    "Example: \n"
   ]
  },
  {
   "cell_type": "markdown",
   "metadata": {},
   "source": [
    "import pandas.dataframe\n"
   ]
  },
  {
   "cell_type": "markdown",
   "metadata": {},
   "source": [
    "We can also use `from` together with the `import` statement.\n",
    "\n",
    "Imports the module, and creates references to all public objects defined by that module in the current namespace or whatever name you mentioned.\n",
    "After you've run this statement, you can simply use a plain `()` name to refer to things defined in the `module(x)`. But `X` itself is not defined, so `X.name` doesn't work. \n",
    " \n"
   ]
  },
  {
   "cell_type": "markdown",
   "metadata": {},
   "source": [
    "## Packages"
   ]
  },
  {
   "cell_type": "markdown",
   "metadata": {},
   "source": [
    "There are two types of packages in Python \n",
    "\n",
    "1. Regular packages\n",
    "\n",
    "    Regular packages are traditional packages as they existed in Python 3.2 and earlier. A regular package is typically implemented as a directory containing an `__init__.py` file.\n",
    "When a regular package is imported, this `__init__.py` file is implicitly executed, and the objects it defines are bound to names in the package’s namespace.\n",
    "\n",
    "\n",
    "2. Namespace packages \n",
    "\n",
    "\tWith namespace packages, there is no `parent/__init__.py` file.  There may be multiple parent directories found during import search, where each one is provided by a different portion. \n",
    "    \n",
    "A namespace package is a composite of various portions, where each portion contributes a subpackage to the parent package. Portions may reside in different locations on the file system.  \n"
   ]
  },
  {
   "cell_type": "markdown",
   "metadata": {},
   "source": [
    "### Searching for package"
   ]
  },
  {
   "cell_type": "markdown",
   "metadata": {},
   "source": [
    "To begin the search, Python needs the fully qualified name of the module (or package, but for the purposes of this discussion, the difference is immaterial) being imported. This name may come from various arguments to the import statement, or from the parameters to the `importlib.import_module()` or `__import__()` functions. This name will be used in various phases of the import search, and it may be the dotted path to a submodule, e.g. `foo.bar.baz`. In this case, Python first tries to import `foo`, then `foo.bar`, and finally `foo.bar.baz`. If any of the intermediate imports fail, a `ModuleNotFoundError` is raised.\n",
    "\n"
   ]
  },
  {
   "cell_type": "markdown",
   "metadata": {},
   "source": [
    "## Pandas and dataframe"
   ]
  },
  {
   "cell_type": "markdown",
   "metadata": {},
   "source": [
    "In computer programming, Pandas is a software library written for the Python programming language for data manipulation and analysis. In particular, it offers data structures and operations for manipulating numerical tables and time series. \n",
    "\n",
    "Dataframe is a 2-dimensional labelled data structure with columns of potentially different types. There are 3 components in a dataframe: rows, columns and data. Also, dataframe is generally the most commonly used pandas object. \n",
    "\n",
    "Let us start with an example:\n"
   ]
  },
  {
   "cell_type": "markdown",
   "metadata": {},
   "source": [
    "```\n",
    "Import pandas as pd \n",
    "df = pd.DataFrame ({\"a\" : [4 ,5, 6], \"b\" : [7, 8, 9], \"c\" : [10, 11, 12]}, \n",
    "index = [1, 2, 3])   \n",
    "```"
   ]
  },
  {
   "cell_type": "markdown",
   "metadata": {},
   "source": [
    "which would give us:\n",
    "```\n",
    "   a  b   c\n",
    "1  4  7  10\n",
    "2  5  8  11\n",
    "3  6  9  12\n",
    "```"
   ]
  },
  {
   "cell_type": "markdown",
   "metadata": {},
   "source": [
    "To start, we have to import Pandas using `import pandas as pd` first, which imports Pandas and assign it to a declared name by developer called `pd`.\n",
    "\n",
    "Here we define the dataframe by putting in the data directly. However, a more common way to install dataframe is to read from other files, such as .csv file. If we want to use a .csv file, type \n"
   ]
  },
  {
   "cell_type": "markdown",
   "metadata": {},
   "source": [
    "```\n",
    "pd.read_csv(filepath)\n",
    "```"
   ]
  },
  {
   "cell_type": "markdown",
   "metadata": {},
   "source": [
    "For a complete list for importing different file types, check https://pandas.pydata.org/pandas-docs/stable/reference/io.html."
   ]
  },
  {
   "cell_type": "markdown",
   "metadata": {},
   "source": [
    "After importing an entire dataframe, pandas can extract particular sets of data such as:\n",
    "```\n",
    "df.head(2) \n",
    "```\n",
    "which gives us:\n",
    "```\n",
    "   a  b   c\n",
    "1  4  7  10\n",
    "2  5  8  11\n",
    "```"
   ]
  },
  {
   "cell_type": "markdown",
   "metadata": {},
   "source": [
    "This will return only first 2 rows of data and there are similar functions like `df.tail(n)` which will return only last 2 rows of data. "
   ]
  },
  {
   "cell_type": "markdown",
   "metadata": {},
   "source": [
    "other functions like `df.loc` allows you to extract data based on specific search terms. For example:"
   ]
  },
  {
   "cell_type": "markdown",
   "metadata": {},
   "source": [
    "```\n",
    "df.loc[1] \n",
    "```\n",
    "gives us:\n",
    "```\n",
    "a     4\n",
    "b     7\n",
    "c    10\n",
    "Name: 1, dtype: int64\n",
    "```"
   ]
  },
  {
   "cell_type": "markdown",
   "metadata": {},
   "source": [
    "`df.loc` will allow you to get rows/columns with particular labels from the index. As our example shows, `df.loc[1]` returns the row named '1' as well as its name and data type.\n"
   ]
  },
  {
   "cell_type": "markdown",
   "metadata": {},
   "source": [
    "Using `[[]]` will return another dataframe that has all the data for both '1' as well as '2' such as:\n",
    "```\n",
    "df.loc[[1,2]]\n",
    "```\n",
    "which gives us:\n",
    "```\n",
    "\ta\tb\tc\n",
    "1\t4\t7\t10\n",
    "2\t5\t8\t11\n",
    "```"
   ]
  },
  {
   "cell_type": "markdown",
   "metadata": {},
   "source": [
    "\n",
    "\n",
    "On the other hand, `df.iloc[]` searches for data based on its position. The 'i' in `iloc` refers to integer. For example:\n",
    "```\n",
    "df.iloc[1]\n",
    "```\n",
    "gives us:\n",
    "```\n",
    "a     5\n",
    "b     8\n",
    "c    11\n",
    "Name: 2, dtype: int64\n",
    "```"
   ]
  },
  {
   "cell_type": "markdown",
   "metadata": {},
   "source": [
    "`df.iloc` may look similar to `df.loc` but their functions are different. When we type `df.loc[1]` we are finding the row named '1', while if we type `df.iloc[1]` it will return the row in position 1. Remember, in python indexing starts from 0, hence the row in position 1 is actually the second row in the dataframe (`df.iloc[0]`\n",
    "will return the first row).\n"
   ]
  },
  {
   "cell_type": "markdown",
   "metadata": {},
   "source": [
    "You can also manipulate and append the dataframe using functions such as:\n",
    "```\n",
    "df['d'] = df['a']+df['b']  \n",
    "\n",
    "```\n",
    "which gives us:\n",
    "```\n",
    "   a  b   c   d\n",
    "1  4  7  10  11\n",
    "2  5  8  11  13\n",
    "3  6  9  12  15\n",
    "```"
   ]
  },
  {
   "cell_type": "markdown",
   "metadata": {},
   "source": [
    "This creates a new column 'd' in the dataframe that is the sum of column 'a' and 'b'. \n",
    "\n",
    "Other than that, pandas can also generate useful summaries of the data. For example:\n"
   ]
  },
  {
   "cell_type": "markdown",
   "metadata": {},
   "source": [
    "```\n",
    "df.describe()\n",
    "```\n",
    "gives us:\n",
    "```\n",
    "\ta\tb\tc\n",
    "count\t3.0\t3.0\t3.0\n",
    "mean\t5.0\t8.0\t11.0\n",
    "std\t1.0\t1.0\t1.0\n",
    "min\t4.0\t7.0\t10.0\n",
    "25%\t4.5\t7.5\t10.5\n",
    "50%\t5.0\t8.0\t11.0\n",
    "75%\t5.5\t8.5\t11.5\n",
    "max\t6.0\t9.0\t12.0\n",
    "```"
   ]
  },
  {
   "cell_type": "markdown",
   "metadata": {},
   "source": [
    "This will show the summary statistics for the numeral columns. For more specific statistics, you can use functions like `df.mean()`, which describes the means of all columns and `df.corr()`, which returns the correlation between columns in a dataframe."
   ]
  },
  {
   "cell_type": "markdown",
   "metadata": {},
   "source": [
    "```\n",
    "df.to_csv(filename)\n",
    "```"
   ]
  },
  {
   "cell_type": "markdown",
   "metadata": {},
   "source": [
    "This will allow you to export the data you have into a .csv file and there are similar functions like df.to_excel (convert data into excel file) "
   ]
  },
  {
   "cell_type": "markdown",
   "metadata": {},
   "source": [
    "## Numpy"
   ]
  },
  {
   "cell_type": "markdown",
   "metadata": {},
   "source": [
    "NumPy(Numerical Python) is the fundamental package for scientific computing in Python. It is a Python library that provides a multidimensional array object, various derived objects, and an assortment of routines for fast operations on arrays, including mathematical, logical, shape manipulation, sorting, selecting, I/O, discrete Fourier transforms, basic linear algebra, basic statistical operations, random simulation and much more. \n",
    "\n",
    "The ndarray object is the core of the NumPy package. This encapsulates n-dimensional arrays of homogeneous data types, with many operations being performed in compiled code for performance. There are several important differences between NumPy arrays and the standard Python sequences:\n"
   ]
  },
  {
   "cell_type": "markdown",
   "metadata": {},
   "source": [
    "- NumPy arrays have a fixed size at creation which is different from Python lists. To change the size of an ndarray, a new array needs to be created and the original has to be deleted.\n",
    "       \n",
    "       \n",
    "- The elements in a NumPy array are all required to be of the same data type. The exception: one can have arrays of objects.\n",
    "    \n",
    "    \n",
    "- NumPy arrays facilitate advanced mathematical and other types of operations on large numbers of data. Typically, such operations are executed more efficiently and with less code than is possible using Python’s built-in sequences.\n",
    "\n",
    "\n",
    "- A growing plethora of scientific and mathematical Python-based packages are using NumPy arrays; though these typically support Python-sequence input, they convert such input to NumPy arrays prior to processing, and they often output NumPy arrays. In other words, in order to efficiently use much (perhaps even most) of today’s scientific/mathematical Python-based software, just knowing how to use Python’s built-in sequence types is insufficient - one also needs to know how to use NumPy arrays.\n"
   ]
  },
  {
   "cell_type": "markdown",
   "metadata": {},
   "source": [
    "In order to use NumPy, we have to import numpy using `import numpy as np` which imports numpy and assign it to a declared name by developer called `np`. Developer have the freedom to name the declared name, but it is highly recommended to use `np`) To initialize NumPy, we can do it like the following example:"
   ]
  },
  {
   "cell_type": "markdown",
   "metadata": {},
   "source": [
    "```\n",
    "Import numpy as np\n",
    "Index = np.array([0, 1, 2, 3, 4]) #converting array [0, 1, 2, 3, 4] to a numpy array\n",
    "Index2 = np.array(1) #converting ndarray with the value 1\n",
    "Index3 = np.array([[0, 1, 2, 3, 4],[0, 1, 2]])\n",
    "#converting 2d array [[0, 1, 2, 3, 4],[0, 1, 2]] to a numpy array\n",
    "\n",
    "```"
   ]
  },
  {
   "cell_type": "markdown",
   "metadata": {},
   "source": [
    "As previously mentioned, ndarray requires all the elements to be the same type, therefore if a list of mixture of integers and float will be converted to a list of float. "
   ]
  },
  {
   "cell_type": "markdown",
   "metadata": {},
   "source": [
    "```\n",
    "Index4 = np.array([0,1,2,3.0] \n",
    "#all elements will be converted to float\n",
    "print(index4) \n",
    "\n",
    "```"
   ]
  },
  {
   "cell_type": "markdown",
   "metadata": {},
   "source": [
    "### Numpy round"
   ]
  },
  {
   "cell_type": "markdown",
   "metadata": {},
   "source": [
    "The numpy.round is an inbuilt function in NumPy that is used to round off every single element in the numpy array(ndarray). The `numpy.round` will take in 2 arguments: the first argument will be the numpy array and the second argument will be the decimal place to round up to. The following example will demonstrate the usage and syntax of numpy.rounds"
   ]
  },
  {
   "cell_type": "markdown",
   "metadata": {},
   "source": [
    "```\n",
    "Import numpy as np\n",
    "Index = np.array([0.5, 1.35, 2.68, 3.10, 4.9000])\n",
    "#converting array [0.5, 1.35, 2.68, 3.10, 4.9000] to a numpy array\n",
    "np.round(data, 2) #numpy will round up every element in the numpy array to two decimal places \n",
    "\n",
    "```"
   ]
  },
  {
   "cell_type": "markdown",
   "metadata": {},
   "source": [
    "### Numpy NaN"
   ]
  },
  {
   "cell_type": "markdown",
   "metadata": {},
   "source": [
    "The numpy.nan is a floating point representation(float) of Not a Number (NaN). It is similar to Python’s `none`.\n",
    "NaN can be assigned to an index in a numpy array and dataframes. The following example will demonstrate it:\n"
   ]
  },
  {
   "cell_type": "markdown",
   "metadata": {},
   "source": [
    "```\n",
    "\n",
    "Import numpy as np\n",
    "index = np.array(1) #creating a ndarray with the value 1\n",
    "Index = np.nan #assign np.nan to index \n",
    "print(index)\n",
    "\n",
    "index2 = np.array([1.0, 2.0 ,3.0]) \n",
    "#creating ndarray with the array[1.0, 2.0, 3.0]. At least one of the element needs to be float\n",
    "Index2[0] = np.nan #assign index2[0] as np.nan\n",
    "print(index)\n",
    "```\n"
   ]
  },
  {
   "cell_type": "markdown",
   "metadata": {},
   "source": [
    "## Datetime"
   ]
  },
  {
   "cell_type": "markdown",
   "metadata": {},
   "source": [
    "`datetime` is a module that provides classes for manipulating dates and times. In Python, date alone is not a data type of its own, but if we use `datetime` to work with dates as date objects. \n",
    "\n",
    "To use `datetime`, we have to import it first with the following statement. This will import the classes in date time into the Python file. \n"
   ]
  },
  {
   "cell_type": "markdown",
   "metadata": {},
   "source": [
    "```\n",
    "from datetime import datetime\n",
    "```\n",
    "OR\n",
    "```\n",
    "Import datetime\n",
    "```"
   ]
  },
  {
   "cell_type": "markdown",
   "metadata": {},
   "source": [
    "### Strptime"
   ]
  },
  {
   "cell_type": "markdown",
   "metadata": {},
   "source": [
    "strptime is a function in datetime that creates a datetime object from the given string. Do note that not every string can create a `datetime` object, it needs to be in a certain format. strptime() class function contains two parameters: a string (to be converted to `datetime`) and format code. It will raise a `ValueError` exception if both arguments do not match. For Example:\n"
   ]
  },
  {
   "cell_type": "markdown",
   "metadata": {},
   "source": [
    "```\n",
    "From datetime import datetime \n",
    "dateString = “12/11/2018 09:15:32”\n",
    "dateObj = datetime.strptime(dateString, “%d/%m/%Y %H:%M:%S”)\n",
    "print(dateObj)\n",
    "```\n",
    "gives us:\n",
    "```\n",
    "2018-11-12 09:15:32\n",
    "```"
   ]
  },
  {
   "cell_type": "markdown",
   "metadata": {},
   "source": [
    "For more information on the format codes that can be used, check here:https://docs.python.org/3/library/datetime.html"
   ]
  },
  {
   "cell_type": "markdown",
   "metadata": {},
   "source": [
    "## Matplotlib"
   ]
  },
  {
   "cell_type": "markdown",
   "metadata": {},
   "source": [
    "Matplotlib is an open-sourced, low level graph plotting library in python and it allows us to visualise data.  Similarly, we need to import matplotlib at start:"
   ]
  },
  {
   "cell_type": "markdown",
   "metadata": {},
   "source": [
    "```\n",
    "import matplotlib\n",
    "```"
   ]
  },
  {
   "cell_type": "markdown",
   "metadata": {},
   "source": [
    "### pyplot"
   ]
  },
  {
   "cell_type": "markdown",
   "metadata": {},
   "source": [
    "pyplot submodule is mostly used in Matplotlib and we also need to import it first."
   ]
  },
  {
   "cell_type": "markdown",
   "metadata": {},
   "source": [
    "```\n",
    "import matplotlib.pyplot as plt #R\n",
    "import numpy as np\n",
    "\n",
    "xpoints = np.array([3, 21])\n",
    "ypoints = np.array([8, 56])\n",
    "\n",
    "plt.plot(xpoints, ypoints) \n",
    "plt.show()\n",
    "```\n",
    "will plot the following graph:\n",
    "\n",
    "![matploltlib-plot](asset/img/matplotlib-plot.png)"
   ]
  },
  {
   "cell_type": "markdown",
   "metadata": {},
   "source": [
    "The plot(x,y) function allows us to draws a line from point to point. Parameter 1 is an array containing the points on the x-axis, which is horizontal, and parameter 2 is an array containing the points on the y-axis, which is vertical. plot(y) is also possible and here x is an index array which start from 0 to N-1. "
   ]
  },
  {
   "cell_type": "markdown",
   "metadata": {},
   "source": [
    "## Date"
   ]
  },
  {
   "cell_type": "markdown",
   "metadata": {},
   "source": [
    "Beyond python, Matplotlib provides sophisticated date plotting capabilities. Start with importing matplotlib.dates as mdates."
   ]
  },
  {
   "cell_type": "markdown",
   "metadata": {},
   "source": [
    "```\n",
    "import matplotlib.dates as mdates\n",
    "```"
   ]
  },
  {
   "cell_type": "markdown",
   "metadata": {},
   "source": [
    "As the datetime objects are different in python and matplotlib, date2num function allows us to convert datetime objects to Matplotlib dates and num2date provides the opposite, which coverts Matplotlib dates to datetime objects.\n",
    "\n",
    "Also, syntax like DateFormatter(fmt,tz) use strftime format strings. Here, fmt means a strftime format string and is always required; tz means the timezone and can be set to none to ignore the timezone information.\n"
   ]
  }
 ],
 "metadata": {
  "kernelspec": {
   "display_name": "Python 3",
   "language": "python",
   "name": "python3"
  },
  "language_info": {
   "codemirror_mode": {
    "name": "ipython",
    "version": 3
   },
   "file_extension": ".py",
   "mimetype": "text/x-python",
   "name": "python",
   "nbconvert_exporter": "python",
   "pygments_lexer": "ipython3",
   "version": "3.8.3"
  }
 },
 "nbformat": 4,
 "nbformat_minor": 4
}

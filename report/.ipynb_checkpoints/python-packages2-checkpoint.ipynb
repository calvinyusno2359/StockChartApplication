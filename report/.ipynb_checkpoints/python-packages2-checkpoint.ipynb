{
 "cells": [
  {
   "cell_type": "markdown",
   "metadata": {},
   "source": [
    "# Python Packages"
   ]
  },
  {
   "cell_type": "markdown",
   "metadata": {},
   "source": [
    "## Modules"
   ]
  },
  {
   "cell_type": "markdown",
   "metadata": {},
   "source": [
    "Modules are files containing a set of functions you want to include in your application.\n",
    "Modules are useful because they can store a handy function that you may need to use often into it. You can then call the function from the module whenever you need it.\n",
    "\n",
    "In python, there is a way to put definitions in a file and use them in a script. These files are known as modules. Definitions and functions in a module can be imported into other modules.\n",
    "\n",
    "To create a module, you would need to save a code into a file with the suffix `.py` appended.\n",
    "\n",
    "A docstring is a string literal that usually appears as the first statement in a module. It is used to explain what the module does. The docstring becomes a `__doc__` special attribute of that object.\n",
    "\n",
    "There are several built-in modules in python which can be imported and called at any time.\n",
    "\n",
    "Example: \n"
   ]
  },
  {
   "cell_type": "markdown",
   "metadata": {},
   "source": []
  }
 ],
 "metadata": {
  "kernelspec": {
   "display_name": "Python 3",
   "language": "python",
   "name": "python3"
  },
  "language_info": {
   "codemirror_mode": {
    "name": "ipython",
    "version": 3
   },
   "file_extension": ".py",
   "mimetype": "text/x-python",
   "name": "python",
   "nbconvert_exporter": "python",
   "pygments_lexer": "ipython3",
   "version": "3.8.3"
  }
 },
 "nbformat": 4,
 "nbformat_minor": 4
}

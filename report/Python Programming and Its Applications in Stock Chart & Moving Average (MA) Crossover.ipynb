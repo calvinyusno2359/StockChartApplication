{
 "cells": [
  {
   "cell_type": "markdown",
   "metadata": {},
   "source": [
    "# `main_window.py`"
   ]
  },
  {
   "cell_type": "markdown",
   "metadata": {},
   "source": [
    "As mentioned, `main_window.py`'s main responsibility is to **define the graphic user interface (GUI) itself**. It does so by:\n",
    "\n",
    "1. Defining each `Widget` objects' and their names within the GUI\n",
    "2. Defining the location, size and other physical attributes of each `Widgets`\n",
    "\n",
    "It does **NOT** define the functionalities of the `Widgets` found in the GUI. That is the job of `app.py`.\n",
    "\n",
    "While it is possible to create `main_window.py` by manually writing a python script file from scratch, it is cumbersome. Instead, the following method was used develop the Stock Chart Application:\n",
    "\n",
    "1. Install `Qt Designer` application\n",
    "2. Use `Qt Designer` to build the GUI file called: `main_window.ui`\n",
    "3. Pip install `PyQt5` for python\n",
    "4. Use `pyuic5` (a utility script that comes with `PyQt5`) to compile `main_window.ui` into `main_window.py`\n",
    "\n",
    "The above-mentioned `main_window.py`'s development process is summarized in the graphics below:\n",
    "\n",
    "![main_window.py development process](asset/img/main_window-process.png)\n",
    "\n",
    "This method is **recommended** because it is user-friendly and changes made can be seen visually on the `Qt Designer` itself before it is applied. Thus, not requiring the developer to run the python file after every changes or even knowing how do so at all.\n",
    "\n",
    "This section of the report will now go through the 4 steps of developing `main_window.py` mentioned."
   ]
  },
  {
   "cell_type": "markdown",
   "metadata": {},
   "source": [
    "## Installing `Qt Designer`"
   ]
  },
  {
   "cell_type": "markdown",
   "metadata": {},
   "source": [
    "The installation process of `Qt Designer` is similar to any other application.\n",
    "\n",
    "1. Go to: https://build-system.fman.io/qt-designer-download\n",
    "2. Click either the `Windows` or `Mac` option. Depending on your computer's Operating System\n",
    "3. Select a location for the Qt Setup Application `.exe` to be downloaded\n",
    "4. Double click on the Qt Setup Application `.exe` and follow its installation procedure\n",
    "5. Check that you have `Qt Designer` installed after the installation has completed"
   ]
  },
  {
   "cell_type": "markdown",
   "metadata": {},
   "source": [
    "## Building `main_window.ui` with `Qt Designer`"
   ]
  },
  {
   "cell_type": "markdown",
   "metadata": {},
   "source": [
    "### Defining the GUI\n",
    "First, open `Qt Designer`. The following window and prompts will appear:\n",
    "\n",
    "![Opening Qt-designer](asset/img/qt-designer.png)\n",
    "\n",
    "Choose `Widget` under the `template\\forms` prompt and press the `Create` Button to begin designing `main_window.ui`. \n",
    "\n",
    "This is simply a starting template of our GUI, but it is important as the `Widget` option will later be used to inform `app.py` of the type of GUI being inherited. \n",
    "\n",
    "> *Learning Point: `Qt Designer` + `PyQt5` Template*\n",
    "\n",
    "> *The information about the template is specified when the `.ui` file is started.*\n",
    "> *The information is important because it specifies they **type** of GUI being inherited later.*\n",
    "> *In this case, the `Widget` called `UI_Form` is going to be inherited by `app.py`*"
   ]
  },
  {
   "cell_type": "markdown",
   "metadata": {},
   "source": [
    "### Defining the `Widgets` inside the GUI\n",
    "Second, start designing the `main_window.ui` GUI as shown in the image below:\n",
    "\n",
    "![main_window.ui](asset/img/qt-designer-gui.png)\n",
    "\n",
    "To 'design' the GUI, simply **drag and drop** the appropriate **type** of `Widget` from the left side-bar called `Widget Box` into the GUI `Widget`. \n",
    "\n",
    "This does imply that our GUI is a `Widget` (because we specify it as such in the `template\\forms` option) containing `Widgets`. \n",
    "\n",
    "For convenience, the **type** of the `Widget` used to make the GUI shown above has ben annotated with <font color='red'>red boxes and numbers</font> to show where to find each **type** of `Widgets` used to build the GUI.\n",
    "\n",
    "> *Learning Point: `Qt Designer` + `PyQt5 Widget` Types*\n",
    "\n",
    "> 1. `Vertical Layout` *: a layout to mark certain area* \n",
    "> 2. `Push Button` *: an interactive button*\n",
    "> 3. `Check Box` *: an interactive checkbox*\n",
    "> 4. `Line Edit` *: a place to enter a line of text*\n",
    "> 5. `Label` *: a non-interactive label to display texts*"
   ]
  },
  {
   "cell_type": "markdown",
   "metadata": {},
   "source": [
    "For each `Widget` being dragged and dropped into the GUI, remember to **name them accordingly** by editing the value of the `objectName` in the <font color='blue'>Property Editor (blue box)</font>. There are also other attributes values to play with!\n",
    "\n",
    "For instance, this Stock Chart Application has its window **fixed to a specific size**. This can be done by specifying the following properties in the <font color='blue'>Property Editor</font> of the `UI Form` <font color='orange'>(found in the Object Inspector)</font>: \n",
    "\n",
    "1. Set `geometry` to: `[(0, 0), 1120 x 950]`\n",
    "2. Set `sizePolicy` to: `[Fixed, Fixed, 0, 0]`\n",
    "\n",
    "Tips: To preview the GUI inside `Qt Designer`, press `Ctrl + R` (for Windows users only).\n",
    "\n",
    "> *Learning Point: `Qt Designer` + `PyQt5 Widget` Attributes*\n",
    "\n",
    "> *Different `Widget` will have different attributes. They can be found in the Property Editor.*\n",
    "> *Some important attributes include: `objectName`, `geometry`, `sizePolicy`, `font`, etc...*\n",
    "\n",
    "Also, do refer to the  <font color='orange'>Object Inspector (yellow box)</font> in the `main_window.ui` image for a list of the **names of the widget** and their associated `Widget` **type**.\n",
    "\n",
    "For example: name (Object): `SMA1CheckBox`, class (type): `QCheckBox`."
   ]
  },
  {
   "cell_type": "markdown",
   "metadata": {},
   "source": [
    "In short, these 2 actions: **dragging and dropping `Widgets` and editing values in `Property Editor`** correspond to what were initially meant by:\n",
    "\n",
    "> 1. Defining each `Widget` objects' and their names within the GUI\n",
    "> 2. Defining the location, size and other physical attributes of each `Widgets`\n",
    "\n",
    "Finally, to save the `main_window.ui` file, press: `File > Save As` option on the top left hand corner of the window."
   ]
  },
  {
   "cell_type": "markdown",
   "metadata": {},
   "source": [
    "## Installing PyQt5"
   ]
  },
  {
   "cell_type": "markdown",
   "metadata": {},
   "source": [
    "Installing `PyQt5` is similar to installing any other python packages using `PIP`. Simply run the following command from the computer's terminal:\n",
    "```\n",
    "pip install PyQt5\n",
    "```\n",
    "`PyQt5` is a package comprising a comprehensive set of Python bindings for `Qt Designer v5`. As part of its package, it comes with a utility script called `pyuic5` which will be used to compile `.ui` files created using `Qt Designer` into a `.py` python module file."
   ]
  },
  {
   "cell_type": "markdown",
   "metadata": {},
   "source": [
    "## Compiling `main_window.ui` into `main_window.py`"
   ]
  },
  {
   "cell_type": "markdown",
   "metadata": {},
   "source": [
    "To compile the `main_window.ui` file into `main_window.py`, simply run the following command from the computer's terminal:\n",
    "\n",
    "```\n",
    "pyuic5 -x -o .\\src\\main_window.py .\\src\\main_window.ui\n",
    "```\n",
    "\n",
    "- The two flags `-x -o` are **required** for the program to work.\n",
    "- The two arguments passed are also **required** as they are the `output` file path and the `input` file path.\n",
    "\n",
    "Note: the two file paths assume that the command is run from the `root` directory and the `main_window.ui` file is saved in a directory called `src`."
   ]
  },
  {
   "cell_type": "markdown",
   "metadata": {},
   "source": [
    "# `app.py`"
   ]
  },
  {
   "cell_type": "markdown",
   "metadata": {},
   "source": [
    "While `main_window.py`'s responsibility is to **define the graphics user interface**, `app.py`'s responsibility is to **define the functionalities of the GUI**. This is achieved by doing 2 things:\n",
    "\n",
    "1. Defining `functions` to accomplish certain actions\n",
    "2. Connecting `Widget` actions to these `functions`\n",
    "\n",
    "For example, if we want the `Update Window Button` to plot the stock prices in the GUI's canvas. We will have to create a `function` that plots the graph into the canvas and then connect the `Update Window Button` to this `function`.\n",
    "\n",
    "However, before doing so, `app.py` must first know the `Widget names` defined in `main_window.py`. \n",
    "\n",
    "For example, the `Update Window Button` is actually named: `updateWindowButton`. This name is defined on the previous section, when `main_window.ui` was designed using `Qt Designer` and the `objectName` is specified inside the Property Editor!\n",
    "\n",
    "This is why, on the previous step, it is **recommended** to name the `Widgets` **accordingly!**\n",
    "\n",
    "This section of the report will go through the 3 steps of developing `app.py` + 1 optional step to compile `app.exe`, as summarized in the graphics below.\n",
    "\n",
    "![app.py development process](asset/img/app-process.png)"
   ]
  },
  {
   "cell_type": "markdown",
   "metadata": {},
   "source": [
    "## Inheriting `Widgets` from `main_window.py` "
   ]
  },
  {
   "cell_type": "markdown",
   "metadata": {},
   "source": [
    "The goal of this section is to ensure that `app.py` is **runnable without any error** and shows the **exact same** GUI as if previewing `main_window.ui`.\n",
    "\n",
    "![app.py running correctly](asset/img/gui.png)\n",
    "\n",
    "This result shows that `app.py` has successfully inherited all the properties of `main_window.py`, which includes all the `Widgets` defined when `main_window.ui` was created! These `Widgets` include `updateWindowButton`, `SMA1Checkbox`, `filePathEdit`, etc...\n",
    "\n",
    "To achieve this, simply start from the generic starter code for all `PyQt5` application and then add the following:\n",
    "\n",
    "1. Import `matplotlib`, `PyQt5` and the GUI's Widget class called `UI_Form` from `main_window`\n",
    "2. Pass `QWidget` and `UI_Form` as argument to `Main` class to specify inheritance from `QWidget` and `UI_Form` class\n",
    "3. Call the superclass' (`UI_Form`) initializing function and setup function\n",
    "4. Finally, after the inherited GUI has been initialized, add the `canvas` and `toolbar` widget to the `canvasLayout`\n",
    "\n",
    "This is exactly shown in the code below, running them should result in the image shown above:"
   ]
  },
  {
   "cell_type": "code",
   "execution_count": null,
   "metadata": {},
   "outputs": [],
   "source": [
    "import sys\n",
    "\n",
    "# Step 1\n",
    "# standard matplotlib import statements\n",
    "import matplotlib.pyplot as plt\n",
    "import matplotlib.dates as mdates\n",
    "\n",
    "# import matplotlib backend for Qt5\n",
    "from matplotlib.backends.backend_qt5agg import FigureCanvasQTAgg as FigureCanvas\n",
    "from matplotlib.backends.backend_qt5agg import NavigationToolbar2QT as NavigationToolbar\n",
    "\n",
    "# standard PyQt5 import statements\n",
    "from PyQt5 import QtCore as qtc\n",
    "from PyQt5 import QtWidgets as qtw\n",
    "\n",
    "# importing the class to be inherited from\n",
    "from main_window import Ui_Form\n",
    "\n",
    "class Main(qtw.QWidget, Ui_Form): # Step 2\n",
    "    def __init__(self):\n",
    "        # Step 3\n",
    "        # calling Ui_Form's initializing and setup function\n",
    "        super().__init__()\n",
    "        self.setupUi(self)\n",
    "        self.setWindowTitle(\"Stock Chart & Moving Average Application\")\n",
    "\n",
    "        # Step 4\n",
    "        # sets up figure to plot on, instantiates canvas and toolbar\n",
    "        self.figure, self.ax = plt.subplots()\n",
    "        self.canvas = FigureCanvas(self.figure)\n",
    "        self.toolbar = NavigationToolbar(self.canvas, self)\n",
    "\n",
    "        # attaches the toolbar and canvas to the canvas layout\n",
    "        self.canvasLayout.addWidget(self.toolbar)\n",
    "        self.canvasLayout.addWidget(self.canvas)\n",
    "\n",
    "if __name__ == \"__main__\":\n",
    "    app = qtw.QApplication([])\n",
    "    main = Main()\n",
    "    main.show()\n",
    "    sys.exit(app.exec_())"
   ]
  },
  {
   "cell_type": "markdown",
   "metadata": {},
   "source": [
    "> *Learning Point: Inheriting `Widgets` from `main_window.py`*\n",
    "\n",
    "> *When `main_window.ui` is converted into `main_window.py` using `pyuic5`, the `Widget` class called `Ui_Form` is created.*\n",
    "> *This `Ui_Form` class has access to all the `Widgets` previously defined inside `main_window.ui` using `Qt Designer`!*\n",
    "> *They're accessible to `Ui_Form` as regular python `Attributes`. e.g: `self.updateWindowButton`, etc...*\n",
    "> *Thus, by inheriting from `Ui_Form`, `app.py`'s `Main` class can also access these `Widgets` through its `Attributes`.*\n",
    "> *LIkewise, `functions` defined in `Ui_Form` are also inherited and accessible to `Main`*.\n",
    "\n",
    "> *Learning Point: Defining & Adding `Widgets` programmatically*\n",
    "\n",
    "> *Sometimes, it is more convenient to define `Widgets` programmatically then through `Qt Designer`.*\n",
    "> *As shown from the code snippet above, this is also possible and uses the **exact same core principles** as in `main_window.py`*\n",
    "> 1. *Defining each `Widget` objects' and their names within the GUI.*\n",
    "> *Exemplified with lines such as:*\n",
    "> *`self.canvas = FigureCanvas(self.figure)` or similar instantiation line: `button = QPushButton('Button Name', self)`*\n",
    "> 2. *Defining the location, size and other physical attributes of each `Widgets`.*\n",
    "> *Exemplified with lines such as:*\n",
    "> *`self.canvasLayout.addWidget(self.canvas)`*"
   ]
  },
  {
   "cell_type": "markdown",
   "metadata": {},
   "source": [
    "Now that `app.py` is able to access the `Widgets` defined in `main_window.py` by means of Python inheritance. It is now possible to implement `app.py`'s main responsibility:\n",
    "\n",
    "> 1. Defining `functions` to accomplish certain actions\n",
    "> 2. Connecting `Widget` actions to these `functions`"
   ]
  },
  {
   "cell_type": "markdown",
   "metadata": {},
   "source": [
    "## Defining `functions` in `app.py`"
   ]
  },
  {
   "cell_type": "markdown",
   "metadata": {},
   "source": [
    "Before defining the `functions` in `app.py`, it is important to first be aware of the scope of each `functions` needed to execute the app's entire process. By referring to the User Manual's 5-step guide, it is possible to breakdown the entire app's functionalities into 3 major functions + 2 minor functions:\n",
    "\n",
    "1. `load_data(self)` : invoked when `Load CSV File Button` is pressed\n",
    "\n",
    "> loads stock data .csv from inputted filepath string on the GUI as StockData object,\n",
    "> also autocompletes all inputs using information provided by the csv.\n",
    "> (Handles the actions from Step 1-2 of User Manual).\n",
    "\n",
    "2. `update_canvas(self)` : invoked when `Load Update Window Button` is pressed\n",
    "\n",
    "> creates a datetime object from the inputted date string of format YYYY-MM-DD.\n",
    "> uses it to slice a copy of loaded stock_data to be used to update graphics.\n",
    "> checks checkboxes first to see if SMA1, SMA2, Buya and Sell plots need to be drawn.\n",
    "> finally, updates graphic accordingly.\n",
    "> (Handles the actions from Step 3-5 of User Manual).\n",
    "\n",
    "3. `plot_graph(self, column_headers, formats)` : invoked when `update_canvas function` is called\n",
    "\n",
    "> plots graphs specified under columnd_headers using the formats specified\n",
    "> (Helps to handles the actions from Step 5 of User Manual).\n",
    "\n",
    "4. `report(self, string)` : invoked when any of the 3 major functions are called\n",
    "\n",
    "> given a report (string), update the scroll area with this report\n",
    "\n",
    "5. `center(self)` : invoked `__init__(self)` is called (i.e. during the startup of application)\n",
    "\n",
    "> centers the fixed main window size according to user screen size"
   ]
  },
  {
   "cell_type": "code",
   "execution_count": 15,
   "metadata": {
    "scrolled": false
   },
   "outputs": [
    {
     "name": "stdout",
     "output_type": "stream",
     "text": [
      "\n",
      "3 Major Functions' Scope:\n",
      "    1. load_data(self)\n",
      "    \n",
      "\t\tloads stock data .csv from inputted filepath string on the GUI as StockData object,\n",
      "\t\talso autocompletes all inputs using information provided by the csv.\n",
      "\n",
      "\t\tError handling\n",
      "\t\t\tinvalid filepath :\n",
      "\t\t\t\tempty filepath or file could not be found or opened.\n",
      "\t\t\tinvalid .csv :\n",
      "\t\t\t\t.csv file is empty, missing date column, etc.\n",
      "\t\t\n",
      "    2. update_canvas(self)\n",
      "    \n",
      "\t\tcreates a datetime object from the inputted date string of format YYYY-MM-DD.\n",
      "\t\tuses it to slice a copy of loaded stock_data to be used to update graphics.\n",
      "\t\tchecks checkboxes first to see if SMA1, SMA2, Buya and Sell plots need to be drawn.\n",
      "\t\tfinally, updates graphic accordingly\n",
      "\n",
      "\t\tError handling\n",
      "\t\tinvalid date format:\n",
      "\t\t\tdate format inside the .csv file is not of form YYYY-MM-DD\n",
      "\t\tnon-existent stock_data :\n",
      "\t\t\tthe selected range results in an empty dataframe or end date < start date\n",
      "\t\tnon-existent data point :\n",
      "\t\t\tdata of that date does not exist, or maybe because it is Out-Of-Bound\n",
      "\t\traised exceptions :\n",
      "\t\t\tSMA1 and SMA2 values are the same, or other exceptions raised\n",
      "\t\t\n",
      "    3. plot_graph(self, column_headers, formats)\n",
      "    \n",
      "\t\tplots graphs specified under columnd_headers using the formats specified\n",
      "\n",
      "\t\tParameters\n",
      "\t\tcolumn_headers : [str, str, ...]\n",
      "\t\t\ta list containing column header names whose data are to be plotted\n",
      "\t\tformats : [str, str, ...]\n",
      "\t\t\ta list of matplotlib built-in style strings to indicate whether to plot line or scatterplot\n",
      "\t\t\tand the colours corresponding to each value in col_headers (hence, must be same length)\n",
      "\n",
      "\t\tError handling\n",
      "\t\tempty dataframe :\n",
      "\t\t\tselected dataframe is empty\n",
      "\t\t\n",
      "2 Minor Functions' Scope:\n",
      "    1. report(self, string)\n",
      "    \n",
      "\t\tgiven a report (string), update the scroll area with this report\n",
      "\n",
      "\t\tParameters\n",
      "\t\tstring : str\n",
      "\t\t\tstring of the report, usually the error message itself.\n",
      "\t\t\n",
      "    2. center(self)\n",
      "    \n",
      "\t\tcenters the fixed main window size according to user screen size\n",
      "\t\t\n",
      "\n"
     ]
    }
   ],
   "source": [
    "import sys\n",
    "sys.path.insert(1, '../src')\n",
    "\n",
    "from app import Main\n",
    "import main_window\n",
    "import inspect # standard library used later to get info about the source code\n",
    "\n",
    "function_1 = Main.load_data.__doc__\n",
    "function_2 = Main.update_canvas.__doc__\n",
    "function_3 = Main.plot_graph.__doc__\n",
    "function_4 = Main.report.__doc__\n",
    "function_5 = Main.center.__doc__\n",
    "\n",
    "print(f\"\"\"\n",
    "3 Major Functions' Scope:\n",
    "    1. load_data(self)\n",
    "    {function_1}\n",
    "    2. update_canvas(self)\n",
    "    {function_2}\n",
    "    3. plot_graph(self, column_headers, formats)\n",
    "    {function_3}\n",
    "2 Minor Functions' Scope:\n",
    "    1. report(self, string)\n",
    "    {function_4}\n",
    "    2. center(self)\n",
    "    {function_5}\n",
    "\"\"\")"
   ]
  },
  {
   "cell_type": "code",
   "execution_count": null,
   "metadata": {},
   "outputs": [],
   "source": []
  },
  {
   "cell_type": "code",
   "execution_count": null,
   "metadata": {},
   "outputs": [],
   "source": []
  },
  {
   "cell_type": "markdown",
   "metadata": {},
   "source": [
    "### `load_data(self)`"
   ]
  },
  {
   "cell_type": "code",
   "execution_count": 7,
   "metadata": {},
   "outputs": [
    {
     "name": "stdout",
     "output_type": "stream",
     "text": [
      "\tdef load_data(self):\n",
      "\t\t\"\"\"\n",
      "\t\tloads stock data .csv from inputted filepath string on the GUI as StockData object,\n",
      "\t\talso autocompletes all inputs using information provided by the csv.\n",
      "\n",
      "\t\tError handling\n",
      "\t\t\tinvalid filepath :\n",
      "\t\t\t\tempty filepath or file could not be found or opened.\n",
      "\t\t\tinvalid .csv :\n",
      "\t\t\t\t.csv file is empty, missing date column, etc.\n",
      "\t\t\"\"\"\n",
      "\t\tfilepath = Path(self.filePathEdit.text())\n",
      "\n",
      "\t\ttry:\n",
      "\t\t\tself.stock_data = StockData(filepath)\n",
      "\t\t\tstart_date, end_date = self.stock_data.get_period()\n",
      "\t\t\tperiod = f\"{start_date} to {end_date}\"\n",
      "\n",
      "\t\t\t# auto-complete feauture\n",
      "\t\t\tself.startDateEdit.setText(start_date)\n",
      "\t\t\tself.endDateEdit.setText(end_date)\n",
      "\t\t\tself.periodEdit.setText(period)\n",
      "\t\t\tself.SMA1Edit.setText(\"15\")\n",
      "\t\t\tself.SMA2Edit.setText(\"50\")\n",
      "\t\t\tself.SMA1Checkbox.setChecked(False)\n",
      "\t\t\tself.SMA2Checkbox.setChecked(False)\n",
      "\n",
      "\t\t\tself.report(f\"Data loaded from {filepath}; period auto-selected: {start_date} to {end_date}.\")\n",
      "\t\t\tprint(self.stock_data.data)\n",
      "\n",
      "\t\texcept IOError as e:\n",
      "\t\t\tself.report(f\"Filepath provided is invalid or fail to open .csv file. {e}\")\n",
      "\n",
      "\t\texcept TypeError as e:\n",
      "\t\t\tself.report(f\"The return tuple is probably (nan, nan) because .csv is empty\")\n",
      "\n"
     ]
    }
   ],
   "source": [
    "print(inspect.getsource(Main.load_data))"
   ]
  },
  {
   "cell_type": "markdown",
   "metadata": {},
   "source": [
    "### `update_canvas(self)`"
   ]
  },
  {
   "cell_type": "code",
   "execution_count": 13,
   "metadata": {},
   "outputs": [
    {
     "name": "stdout",
     "output_type": "stream",
     "text": [
      "\tdef update_canvas(self):\n",
      "\t\t\"\"\"\n",
      "\t\tcreates a datetime object from the inputted date string of format YYYY-MM-DD.\n",
      "\t\tuses it to slice a copy of loaded stock_data to be used to update graphics.\n",
      "\t\tchecks checkboxes first to see if SMA1, SMA2, Buya and Sell plots need to be drawn.\n",
      "\t\tfinally, updates graphic accordingly\n",
      "\n",
      "\t\tError handling\n",
      "\t\tinvalid date format:\n",
      "\t\t\tdate format inside the .csv file is not of form YYYY-MM-DD\n",
      "\t\tnon-existent stock_data :\n",
      "\t\t\tthe selected range results in an empty dataframe or end date < start date\n",
      "\t\tnon-existent data point :\n",
      "\t\t\tdata of that date does not exist, or maybe because it is Out-Of-Bound\n",
      "\t\traised exceptions :\n",
      "\t\t\tSMA1 and SMA2 values are the same, or other exceptions raised\n",
      "\t\t\"\"\"\n",
      "\t\tself.ax.clear()\n",
      "\t\tself.date_format = '%Y-%m-%d'\n",
      "\n",
      "\t\ttry:\n",
      "\t\t\tstart_date = str(datetime.strptime(self.startDateEdit.text(), self.date_format).date())\n",
      "\t\t\tend_date = str(datetime.strptime(self.endDateEdit.text(), self.date_format).date())\n",
      "\t\t\tperiod = f\"{start_date} to {end_date}\"\n",
      "\t\t\tself.periodEdit.setText(period)\n",
      "\n",
      "\t\t\t# builds a list of graphs to plot by checking the tickboxes\n",
      "\t\t\tcolumn_headers = ['Close']\n",
      "\t\t\tformats = ['k-']\n",
      "\n",
      "\t\t\tif self.SMA1Checkbox.isChecked():\n",
      "\t\t\t\tself.stock_data._calculate_SMA(int(self.SMA1Edit.text()))\n",
      "\t\t\t\tcolumn_headers.append(f\"SMA{self.SMA1Edit.text()}\")\n",
      "\t\t\t\tformats.append('b-')\n",
      "\t\t\tif self.SMA2Checkbox.isChecked():\n",
      "\t\t\t\tself.stock_data._calculate_SMA(int(self.SMA2Edit.text()))\n",
      "\t\t\t\tcolumn_headers.append(f\"SMA{self.SMA2Edit.text()}\")\n",
      "\t\t\t\tformats.append('c-')\n",
      "\t\t\tif len(column_headers) == 3:\n",
      "\t\t\t\tself.stock_data._calculate_crossover(column_headers[1], column_headers[2], column_headers[1])\n",
      "\t\t\t\tcolumn_headers.append('Sell')\n",
      "\t\t\t\tformats.append('rv')\n",
      "\t\t\t\tcolumn_headers.append('Buy')\n",
      "\t\t\t\tformats.append('g^')\n",
      "\n",
      "\t\t\tself.selected_stock_data = self.stock_data.get_data(start_date, end_date)\n",
      "\t\t\tself.plot_graph(column_headers, formats)\n",
      "\n",
      "\t\t\tself.report(f\"Plotting {column_headers} data from period: {start_date} to {end_date}.\")\n",
      "\t\t\tprint(self.selected_stock_data)\n",
      "\n",
      "\t\texcept ValueError as e:\n",
      "\t\t\tself.report(f\"Time period has not been specified or does not match YYYY-MM-DD format, {e}.\")\n",
      "\n",
      "\t\texcept AssertionError as e:\n",
      "\t\t\tself.report(f\"Selected range is empty, {e}\")\n",
      "\n",
      "\t\texcept KeyError as e:\n",
      "\t\t\tself.report(f\"Data for this date does not exist: {e}\")\n",
      "\n",
      "\t\texcept Exception as e:\n",
      "\t\t\tself.report(f\"Exception encountered: {e}\")\n",
      "\n"
     ]
    }
   ],
   "source": [
    "print(inspect.getsource(Main.update_canvas))"
   ]
  },
  {
   "cell_type": "markdown",
   "metadata": {},
   "source": [
    "### `plot_graph(self, column_headers, formats)`"
   ]
  },
  {
   "cell_type": "code",
   "execution_count": 14,
   "metadata": {},
   "outputs": [
    {
     "name": "stdout",
     "output_type": "stream",
     "text": [
      "\tdef plot_graph(self, column_headers, formats):\n",
      "\t\t\"\"\"\n",
      "\t\tplots graphs specified under columnd_headers using the formats specified\n",
      "\n",
      "\t\tParameters\n",
      "\t\tcolumn_headers : [str, str, ...]\n",
      "\t\t\ta list containing column header names whose data are to be plotted\n",
      "\t\tformats : [str, str, ...]\n",
      "\t\t\ta list of matplotlib built-in style strings to indicate whether to plot line or scatterplot\n",
      "\t\t\tand the colours corresponding to each value in col_headers (hence, must be same length)\n",
      "\n",
      "\t\tError handling\n",
      "\t\tempty dataframe :\n",
      "\t\t\tselected dataframe is empty\n",
      "\t\t\"\"\"\n",
      "\t\tself.ax.clear()\n",
      "\t\tassert not self.selected_stock_data.empty\n",
      "\n",
      "\t\t# matplotlib has its own internal representation of datetime\n",
      "\t\t# date2num converts datetime.datetime to this internal representation\n",
      "\t\tx_data = list(mdates.date2num(\n",
      "\t\t                              [datetime.strptime(dates, self.date_format).date()\n",
      "\t\t                              for dates in self.selected_stock_data.index.values]\n",
      "\t\t                              ))\n",
      "\n",
      "\t\tcolors = ['black', 'blue', 'orange', 'red', 'green']\n",
      "\t\tfor i in range(len(column_headers)):\n",
      "\t\t\tif column_headers[i] in self.selected_stock_data.columns:\n",
      "\t\t\t\ty_data = list(self.selected_stock_data[column_headers[i]])\n",
      "\t\t\t\tself.ax.plot(x_data, y_data, formats[i], label=column_headers[i], color=colors[i])\n",
      "\t\t\t\tself.report(f\"{column_headers[i]} data is being plotted.\")\n",
      "\t\t\telse: self.report(f\"{column_headers[i]} data does not exist.\")\n",
      "\n",
      "\t\t# formatting\n",
      "\t\tmonths_locator = mdates.MonthLocator()\n",
      "\t\tmonths_format = mdates.DateFormatter('%b %Y')\n",
      "\t\tself.ax.xaxis.set_major_locator(months_locator)\n",
      "\t\tself.ax.xaxis.set_major_formatter(months_format)\n",
      "\t\tself.ax.format_xdata = mdates.DateFormatter(self.date_format)\n",
      "\t\tself.ax.format_ydata = lambda y: '$%1.2f' % y\n",
      "\t\tself.ax.grid(True)\n",
      "\t\tself.figure.autofmt_xdate()\n",
      "\t\tself.figure.legend()\n",
      "\t\tself.figure.tight_layout()\n",
      "\t\tself.canvas.draw()\n",
      "\n"
     ]
    }
   ],
   "source": [
    "print(inspect.getsource(Main.plot_graph))"
   ]
  },
  {
   "cell_type": "markdown",
   "metadata": {},
   "source": [
    "### `report(self, string)`"
   ]
  },
  {
   "cell_type": "code",
   "execution_count": 15,
   "metadata": {},
   "outputs": [
    {
     "name": "stdout",
     "output_type": "stream",
     "text": [
      "\tdef report(self, string):\n",
      "\t\t\"\"\"\n",
      "\t\tgiven a report (string), update the scroll area with this report\n",
      "\n",
      "\t\tParameters\n",
      "\t\tstring : str\n",
      "\t\t\tstring of the report, usually the error message itself.\n",
      "\t\t\"\"\"\n",
      "\t\treport_text = qtw.QLabel(string)\n",
      "\t\tself.scrollLayout.addWidget(report_text)\n",
      "\t\tprint(string)\n",
      "\n"
     ]
    }
   ],
   "source": [
    "print(inspect.getsource(Main.report))"
   ]
  },
  {
   "cell_type": "markdown",
   "metadata": {},
   "source": [
    "### `center(self)`"
   ]
  },
  {
   "cell_type": "code",
   "execution_count": 16,
   "metadata": {},
   "outputs": [
    {
     "name": "stdout",
     "output_type": "stream",
     "text": [
      "\tdef center(self):\n",
      "\t\t\"\"\"\n",
      "\t\tcenters the fixed main window size according to user screen size\n",
      "\t\t\"\"\"\n",
      "\t\tscreen = qtw.QDesktopWidget().screenGeometry()\n",
      "\t\tmain_window = self.geometry()\n",
      "\t\tx = (screen.width() - main_window.width()) / 2\n",
      "\t\ty = (screen.height() - main_window.height()) / 2 - 50\t# pulls the window up slightly (arbitrary)\n",
      "\t\tself.setFixedSize(main_window.width(), main_window.height())\n",
      "\t\tself.move(x, y)\n",
      "\n"
     ]
    }
   ],
   "source": [
    "print(inspect.getsource(Main.center))"
   ]
  },
  {
   "cell_type": "markdown",
   "metadata": {},
   "source": [
    "## Connecting `Widget` actions to `functions`"
   ]
  },
  {
   "cell_type": "markdown",
   "metadata": {},
   "source": [
    "blabla"
   ]
  },
  {
   "cell_type": "code",
   "execution_count": 11,
   "metadata": {},
   "outputs": [
    {
     "name": "stdout",
     "output_type": "stream",
     "text": [
      "\tdef __init__(self):\n",
      "\t\t\"\"\"\n",
      "\t\tinitializes and sets up GUI widgets and its connections\n",
      "\t\t\"\"\"\n",
      "\t\tsuper().__init__()\n",
      "\t\tself.setupUi(self)\n",
      "\t\tself.setWindowTitle(\"Stock Chart & Moving Average Application\")\n",
      "\n",
      "\t\t# sets up a new figure to plot on, then instantiates a canvas and toolbar object\n",
      "\t\tself.figure, self.ax = plt.subplots()\n",
      "\t\tself.canvas = FigureCanvas(self.figure)\n",
      "\t\tself.toolbar = NavigationToolbar(self.canvas, self)\n",
      "\n",
      "\t\t# attaches the toolbar and canvas to the canvas layout\n",
      "\t\tself.canvasLayout.addWidget(self.toolbar)\n",
      "\t\tself.canvasLayout.addWidget(self.canvas)\n",
      "\n",
      "\t\t# sets up a scroll area to display GUI statuses\n",
      "\t\tself.scrollWidget = qtw.QWidget()\n",
      "\t\tself.scrollLayout = qtw.QVBoxLayout()\n",
      "\t\tself.scrollWidget.setLayout(self.scrollLayout)\n",
      "\t\tself.scrollArea.setWidget(self.scrollWidget)\n",
      "\n",
      "\t\t# button & checkbox connections\n",
      "\t\tself.loadCSVButton.clicked.connect(self.load_data)\n",
      "\t\tself.updateWindowButton.clicked.connect(self.update_canvas)\n",
      "\t\tself.SMA1Checkbox.stateChanged.connect(self.update_canvas)\n",
      "\t\tself.SMA2Checkbox.stateChanged.connect(self.update_canvas)\n",
      "\n",
      "\t\t# auto-complete feauture\n",
      "\t\tself.filePathEdit.setText(\"../data/GOOG.csv\")\n",
      "\n"
     ]
    }
   ],
   "source": [
    "print(inspect.getsource(Main.__init__))"
   ]
  },
  {
   "cell_type": "markdown",
   "metadata": {},
   "source": [
    "## (Optional) Compiling `app.exe`"
   ]
  },
  {
   "cell_type": "markdown",
   "metadata": {},
   "source": []
  }
 ],
 "metadata": {
  "kernelspec": {
   "display_name": "Python 3",
   "language": "python",
   "name": "python3"
  },
  "language_info": {
   "codemirror_mode": {
    "name": "ipython",
    "version": 3
   },
   "file_extension": ".py",
   "mimetype": "text/x-python",
   "name": "python",
   "nbconvert_exporter": "python",
   "pygments_lexer": "ipython3",
   "version": "3.8.3"
  }
 },
 "nbformat": 4,
 "nbformat_minor": 4
}

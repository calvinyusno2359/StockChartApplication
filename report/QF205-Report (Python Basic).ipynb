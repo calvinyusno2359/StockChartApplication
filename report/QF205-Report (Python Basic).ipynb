{
 "cells": [
  {
   "cell_type": "markdown",
   "metadata": {},
   "source": [
    "# Python Programming and Its Application in Stock Chart & Moving Average Crossover"
   ]
  },
  {
   "cell_type": "code",
   "execution_count": 2,
   "metadata": {
    "scrolled": false
   },
   "outputs": [
    {
     "name": "stdout",
     "output_type": "stream",
     "text": [
      "Help on class StockData in module src.stock_data:\n",
      "\n",
      "class StockData(builtins.object)\n",
      " |  handles and operates on yahoo stock data (.csv)\n",
      " |  \n",
      " |  Attributes\n",
      " |  .filepath : str\n",
      " |          filepath to the source stock data .csv file used to initialize StockData\n",
      " |  .data : DataFrame\n",
      " |          dataframe containing the stock data, indexed by datetime string of format YYYY=MM-DD\n",
      " |  .selected_data : DataFrame\n",
      " |          dataframe ontaining the selected stock data, indexed by datetime string of format YYYY=MM-DD\n",
      " |  \n",
      " |  Methods defined here:\n",
      " |  \n",
      " |  __init__(self, filepath)\n",
      " |      initializes StockData object by parsing stock data .csv file into a dataframe\n",
      " |      (assumes 'Date' column exists and uses it for index), also checks and handles missing data\n",
      " |      \n",
      " |      Parameters\n",
      " |      filepath : str\n",
      " |              filepath to the stock data .csv file, can be relative or absolute\n",
      " |      \n",
      " |      Raises\n",
      " |      IOError :\n",
      " |              failed I/O operation, e.g: invalid filepath, fail to open .csv\n",
      " |  \n",
      " |  calculate_SMA(self, n)\n",
      " |      calculates simple moving average (SMA) and augments the stock dataframe with this SMA(n) data as a new column\n",
      " |      \n",
      " |      Parameters\n",
      " |      n : int\n",
      " |              the amount of stock data to use to calculate average\n",
      " |      col : str ('Close')\n",
      " |              the column head title of the values to use to calculate average\n",
      " |      \n",
      " |      Returns\n",
      " |      self : StockData\n",
      " |  \n",
      " |  calculate_crossover(self, SMAa, SMAb)\n",
      " |      calculates the crossover positions and values, augments the stock dataframe with 2 new columns 'Sell' and 'Buy' containing the value at which SMA crossover happens\n",
      " |      \n",
      " |      Parameters\n",
      " |      SMA1 : str\n",
      " |              the first column head title containing the SMA values\n",
      " |      SMA2 : str\n",
      " |              the second column head title containing the SMA values\n",
      " |      col : str ('Close')\n",
      " |              the column head title whose values will copied into 'Buy' and 'Sell' column to indicate crossovers had happen on that index\n",
      " |      \n",
      " |      Returns\n",
      " |      self : StockData\n",
      " |      \n",
      " |      Raises\n",
      " |      Exception :\n",
      " |              SMA1 and SMA2 provided are the same, they must be different\n",
      " |  \n",
      " |  check_data(self, overwrite=True)\n",
      " |      checks and handles missing data by filling in missing values by interpolation\n",
      " |      \n",
      " |      Parameters\n",
      " |      overwrite : bool (True)\n",
      " |              if True, overwrites original source stock data .csv file\n",
      " |      \n",
      " |      Returns\n",
      " |      self : StockData\n",
      " |  \n",
      " |  get_data(self, start_date, end_date)\n",
      " |      returns a subset of the stock data ranging from start_date to end_date inclusive\n",
      " |      \n",
      " |      Parameters\n",
      " |      start_date : str\n",
      " |              start date of stock data range, must be of format YYYY-MM-DD\n",
      " |      end_date : str\n",
      " |              end date of stokc data range, must be of format YYYY-MM-DD\n",
      " |      \n",
      " |      Returns:\n",
      " |      selected_data : DataFrame\n",
      " |              stock data dataframe indexed from specified start to end date inclusive\n",
      " |      \n",
      " |      Raises\n",
      " |      KeyError :\n",
      " |              data for this date does not exist\n",
      " |      AssertionError :\n",
      " |              selected range is empty\n",
      " |  \n",
      " |  get_period(self)\n",
      " |      returns a string tuple of the first and last index which make up the maximum period of StockData\n",
      " |      \n",
      " |      Returns\n",
      " |      period : (str, str)\n",
      " |      \n",
      " |      Raises\n",
      " |      TypeError :\n",
      " |              the return tuple is probably (nan, nan) because .csv is empty\n",
      " |  \n",
      " |  plot_graph(self, col_headers, style, ax, show=True)\n",
      " |      plots columns of selected values as line plot and/or columns of values as scatter plot as specified by style to an Axes object\n",
      " |      \n",
      " |      Parameters\n",
      " |      col_headers : [str, str, ...]\n",
      " |              a list containing column header names whose data are to be plotted\n",
      " |      style : [str, str, ...]\n",
      " |              a list of matplotlib built-in style strings to indicate whether to plot line or scatter and the colours corresponding to each value in col_headers (hence, must be same length)\n",
      " |      ax : Axes\n",
      " |              matplotlib axes object on which the plot will be drawn\n",
      " |      \n",
      " |      Raises\n",
      " |      AttributeError :\n",
      " |              self.selected_data has not been specified, call StockData.get_data(start, end) before plotting\n",
      " |      AssertionError :\n",
      " |              self.selected_data is empty, perhaps due to OOB or invalid range\n",
      " |  \n",
      " |  ----------------------------------------------------------------------\n",
      " |  Data descriptors defined here:\n",
      " |  \n",
      " |  __dict__\n",
      " |      dictionary for instance variables (if defined)\n",
      " |  \n",
      " |  __weakref__\n",
      " |      list of weak references to the object (if defined)\n",
      "\n"
     ]
    }
   ],
   "source": [
    "from src.stock_data import *\n",
    "\n",
    "help(StockData)"
   ]
  },
  {
   "cell_type": "markdown",
   "metadata": {},
   "source": [
    "# Table Content"
   ]
  },
  {
   "cell_type": "markdown",
   "metadata": {},
   "source": [
    "### Python Basics\n",
    "#### 1. Variables \n",
    "#### 2. Data types\n",
    "#### 3. Type conversation\n",
    "#### 4. Concatenation and Operations\n",
    "#### 5. Assignment Statement\n",
    "#### 6. Comments\n",
    "#### 7. Indentation\n",
    "#### 8. Functions\n",
    "#### 9. Loops\n"
   ]
  },
  {
   "cell_type": "markdown",
   "metadata": {},
   "source": [
    "### Variables \n"
   ]
  },
  {
   "cell_type": "markdown",
   "metadata": {},
   "source": [
    "Variables are containers for storing data values. Unlike other programming languages, a variable is created the moment you first assign a value to it.\n",
    "to assign a value to a variable, use the (=) sign.\n",
    "\n",
    "Use print() to see the value assigned to the variable"
   ]
  },
  {
   "cell_type": "code",
   "execution_count": 5,
   "metadata": {},
   "outputs": [
    {
     "name": "stdout",
     "output_type": "stream",
     "text": [
      "apple 1 2\n"
     ]
    }
   ],
   "source": [
    "x = 'apple'\n",
    "Y = 1 \n",
    "_1 = 2\n",
    "print (x,Y,_1)"
   ]
  },
  {
   "cell_type": "markdown",
   "metadata": {},
   "source": [
    "Variable names in Python can be any length and can consist of uppercase and lowercase letters (A-Z, a-z), digits (0-9), and the underscore character (_). An additional restriction is that, although a variable name can contain digits, the first character of a variable name cannot be a digit.\n",
    "\n"
   ]
  },
  {
   "cell_type": "code",
   "execution_count": 6,
   "metadata": {},
   "outputs": [
    {
     "ename": "SyntaxError",
     "evalue": "invalid syntax (<ipython-input-6-f38a6c9f9c71>, line 1)",
     "output_type": "error",
     "traceback": [
      "\u001b[1;36m  File \u001b[1;32m\"<ipython-input-6-f38a6c9f9c71>\"\u001b[1;36m, line \u001b[1;32m1\u001b[0m\n\u001b[1;33m    1apple = apple\u001b[0m\n\u001b[1;37m         ^\u001b[0m\n\u001b[1;31mSyntaxError\u001b[0m\u001b[1;31m:\u001b[0m invalid syntax\n"
     ]
    }
   ],
   "source": [
    "1apple = apple"
   ]
  },
  {
   "cell_type": "markdown",
   "metadata": {},
   "source": [
    "#### Data types\n"
   ]
  },
  {
   "cell_type": "markdown",
   "metadata": {},
   "source": [
    "Common Data types that are used in the projects includes\n",
    "\n",
    "Text type\n",
    "- String (str)\n",
    "\n",
    "Numeric type\n",
    "- Integer (int)\n",
    "- Float (float)\n",
    "\n",
    "Sequence Type\n",
    "- list\n",
    "- range\n",
    "\n",
    "Using Print(type()) we can see the data type. "
   ]
  },
  {
   "cell_type": "markdown",
   "metadata": {},
   "source": [
    "##### Text type\n",
    "String(str)\n",
    "\n",
    "Strings literal are denoted by single (' ') or double quotes (\" \")\n",
    "\n",
    "Examples of String"
   ]
  },
  {
   "cell_type": "code",
   "execution_count": 14,
   "metadata": {},
   "outputs": [
    {
     "name": "stdout",
     "output_type": "stream",
     "text": [
      "<class 'str'>\n"
     ]
    }
   ],
   "source": [
    "x = 'apple'\n",
    "y = \"pear\"\n",
    "print(type(x))"
   ]
  },
  {
   "cell_type": "markdown",
   "metadata": {},
   "source": [
    "We can find the length of the variable by using the in build function len()"
   ]
  },
  {
   "cell_type": "code",
   "execution_count": 15,
   "metadata": {},
   "outputs": [
    {
     "name": "stdout",
     "output_type": "stream",
     "text": [
      "5\n",
      "4\n"
     ]
    }
   ],
   "source": [
    "print(len(x))\n",
    "print(len(y))"
   ]
  },
  {
   "cell_type": "markdown",
   "metadata": {},
   "source": [
    "#### Numeric type\n",
    "\n",
    "Integer (Int)\n",
    "\n",
    "Int are whole integers which has no decimal points and have unlimited length. \n",
    "Examples of Integers. \n",
    "Underscore are allowed between integer groupings\n"
   ]
  },
  {
   "cell_type": "code",
   "execution_count": 36,
   "metadata": {},
   "outputs": [
    {
     "name": "stdout",
     "output_type": "stream",
     "text": [
      "<class 'int'>\n"
     ]
    }
   ],
   "source": [
    "x = 1_3\n",
    "y = -2\n",
    "print(type(x))"
   ]
  },
  {
   "cell_type": "markdown",
   "metadata": {},
   "source": [
    "Wrong examples:\n",
    "\n",
    "Example z gives a invalid token error because leading zero in a non-zero decimal number are not allowed"
   ]
  },
  {
   "cell_type": "code",
   "execution_count": 32,
   "metadata": {},
   "outputs": [
    {
     "ename": "SyntaxError",
     "evalue": "invalid token (<ipython-input-32-360f18516b30>, line 1)",
     "output_type": "error",
     "traceback": [
      "\u001b[1;36m  File \u001b[1;32m\"<ipython-input-32-360f18516b30>\"\u001b[1;36m, line \u001b[1;32m1\u001b[0m\n\u001b[1;33m    z = 01\u001b[0m\n\u001b[1;37m         ^\u001b[0m\n\u001b[1;31mSyntaxError\u001b[0m\u001b[1;31m:\u001b[0m invalid token\n"
     ]
    }
   ],
   "source": [
    "z = 01"
   ]
  },
  {
   "cell_type": "markdown",
   "metadata": {},
   "source": [
    "Float(float)\n",
    "\n",
    "Float are Floating point numbers that contains one or more decimals\n",
    "\n",
    "underscore are allowed between float groupings\n"
   ]
  },
  {
   "cell_type": "code",
   "execution_count": 33,
   "metadata": {},
   "outputs": [
    {
     "name": "stdout",
     "output_type": "stream",
     "text": [
      "<class 'float'>\n"
     ]
    }
   ],
   "source": [
    "x = 1.0\n",
    "y = -3.14_24\n",
    "print(type(y))"
   ]
  },
  {
   "cell_type": "markdown",
   "metadata": {},
   "source": [
    "Int can be coverted to float, vice versa.\n"
   ]
  },
  {
   "cell_type": "code",
   "execution_count": 43,
   "metadata": {},
   "outputs": [
    {
     "name": "stdout",
     "output_type": "stream",
     "text": [
      "<class 'int'>\n",
      "1\n",
      "<class 'float'>\n",
      "1.0\n",
      "<class 'int'>\n",
      "1\n"
     ]
    }
   ],
   "source": [
    "x = 1 \n",
    "print(type((x)))\n",
    "print(x)\n",
    "x = float(x)\n",
    "print(type((x)))\n",
    "print(x)\n",
    "x= int(x)\n",
    "print(type((x)))\n",
    "print(x)"
   ]
  },
  {
   "cell_type": "markdown",
   "metadata": {},
   "source": [
    "Wrong examples:\n",
    "\n",
    "Example z gives a syntax error because as the underscore is not between digits."
   ]
  },
  {
   "cell_type": "code",
   "execution_count": 35,
   "metadata": {},
   "outputs": [
    {
     "ename": "SyntaxError",
     "evalue": "invalid syntax (<ipython-input-35-16e45c8381ba>, line 1)",
     "output_type": "error",
     "traceback": [
      "\u001b[1;36m  File \u001b[1;32m\"<ipython-input-35-16e45c8381ba>\"\u001b[1;36m, line \u001b[1;32m1\u001b[0m\n\u001b[1;33m    z = 31._3\u001b[0m\n\u001b[1;37m            ^\u001b[0m\n\u001b[1;31mSyntaxError\u001b[0m\u001b[1;31m:\u001b[0m invalid syntax\n"
     ]
    }
   ],
   "source": [
    "z = 31._3"
   ]
  },
  {
   "cell_type": "markdown",
   "metadata": {},
   "source": [
    "#### Sequence type \n",
    "\n",
    "List\n",
    "\n",
    "List is a collection which is ordered and changeable. \n",
    "\n",
    "A single list may contain DataTypes like Integers, Strings, as well as Objects. Lists are mutable, and hence, they can be altered even after their creation.\n",
    "\n",
    "The elements in a list are indexed according to a definite sequence and the indexing of a list is done with 0 being the first index. "
   ]
  },
  {
   "cell_type": "code",
   "execution_count": 11,
   "metadata": {},
   "outputs": [
    {
     "name": "stdout",
     "output_type": "stream",
     "text": [
      "['a', 1, 'c']\n",
      "a\n"
     ]
    }
   ],
   "source": [
    "list_example= ['a',1,'c']\n",
    "\n",
    "print(list_example)\n",
    "print(list_example[0])"
   ]
  },
  {
   "cell_type": "markdown",
   "metadata": {},
   "source": [
    "We can find the length of the list by using len()\n"
   ]
  },
  {
   "cell_type": "code",
   "execution_count": 16,
   "metadata": {},
   "outputs": [
    {
     "name": "stdout",
     "output_type": "stream",
     "text": [
      "3\n"
     ]
    }
   ],
   "source": [
    "print(len(list_example))"
   ]
  },
  {
   "cell_type": "markdown",
   "metadata": {},
   "source": [
    "#### range\n",
    "\n",
    "The range() function is used to generate a sequence of numbers over time.\n",
    "\n",
    "We can create a start, stop and step while using the range() function.\n",
    "\n",
    "The syntax of range function is : range(start,stop,step)\n",
    "\n",
    "Start is where the range start (inclusive), stop is where the range stops at (exclusive), step determines each increment"
   ]
  },
  {
   "cell_type": "code",
   "execution_count": 21,
   "metadata": {},
   "outputs": [
    {
     "name": "stdout",
     "output_type": "stream",
     "text": [
      "range(0, 5)\n",
      "range(2, 5)\n",
      "range(1, 10, 2)\n"
     ]
    }
   ],
   "source": [
    "print(range(5))\n",
    "print(range(2,5))\n",
    "print(range(1,10,2))"
   ]
  },
  {
   "cell_type": "markdown",
   "metadata": {},
   "source": [
    "### Type conversion \n",
    "\n",
    "\n"
   ]
  },
  {
   "cell_type": "markdown",
   "metadata": {},
   "source": [
    "We can convert one type of data to another with int(),float() and str(). \n"
   ]
  },
  {
   "cell_type": "code",
   "execution_count": 25,
   "metadata": {},
   "outputs": [
    {
     "name": "stdout",
     "output_type": "stream",
     "text": [
      "<class 'int'>\n",
      "<class 'str'>\n",
      "<class 'float'>\n",
      "1.0\n"
     ]
    }
   ],
   "source": [
    "x = 1\n",
    "print(type(x))\n",
    "\n",
    "x = str(x)\n",
    "print(type(x))\n",
    "\n",
    "x = float(x)\n",
    "print(type(x))\n",
    "\n",
    "print(x)\n"
   ]
  },
  {
   "cell_type": "markdown",
   "metadata": {},
   "source": [
    "\n",
    "However, converting data type to an invalid literal would give a invalid literal error."
   ]
  },
  {
   "cell_type": "code",
   "execution_count": 39,
   "metadata": {},
   "outputs": [
    {
     "ename": "ValueError",
     "evalue": "invalid literal for int() with base 10: 'apple'",
     "output_type": "error",
     "traceback": [
      "\u001b[1;31m---------------------------------------------------------------------------\u001b[0m",
      "\u001b[1;31mValueError\u001b[0m                                Traceback (most recent call last)",
      "\u001b[1;32m<ipython-input-39-7753f23209e0>\u001b[0m in \u001b[0;36m<module>\u001b[1;34m\u001b[0m\n\u001b[0;32m      1\u001b[0m \u001b[0mx\u001b[0m \u001b[1;33m=\u001b[0m \u001b[1;34m'apple'\u001b[0m\u001b[1;33m\u001b[0m\u001b[1;33m\u001b[0m\u001b[0m\n\u001b[1;32m----> 2\u001b[1;33m \u001b[0mx\u001b[0m \u001b[1;33m=\u001b[0m \u001b[0mint\u001b[0m\u001b[1;33m(\u001b[0m\u001b[0mx\u001b[0m\u001b[1;33m)\u001b[0m\u001b[1;33m\u001b[0m\u001b[1;33m\u001b[0m\u001b[0m\n\u001b[0m\u001b[0;32m      3\u001b[0m \u001b[0mprint\u001b[0m\u001b[1;33m(\u001b[0m\u001b[0mtype\u001b[0m\u001b[1;33m(\u001b[0m\u001b[0mx\u001b[0m\u001b[1;33m)\u001b[0m\u001b[1;33m)\u001b[0m\u001b[1;33m\u001b[0m\u001b[1;33m\u001b[0m\u001b[0m\n",
      "\u001b[1;31mValueError\u001b[0m: invalid literal for int() with base 10: 'apple'"
     ]
    }
   ],
   "source": [
    "x = 'apple'\n",
    "x = int(x)\n",
    "print(type(x))"
   ]
  },
  {
   "cell_type": "markdown",
   "metadata": {},
   "source": [
    "### Concatenation and Operations"
   ]
  },
  {
   "cell_type": "markdown",
   "metadata": {},
   "source": [
    "concatenate by using (+) operator\n",
    "Multiply using (*) operator\n",
    "Minus using (-) operator\n",
    "Divide using (/) operator\n",
    "Modulus using (%) operator - to find remainder\n",
    "Exponentiation using (* *) operator\n",
    "Floor division using (//) operator\n"
   ]
  },
  {
   "cell_type": "code",
   "execution_count": 17,
   "metadata": {},
   "outputs": [
    {
     "name": "stdout",
     "output_type": "stream",
     "text": [
      "hibye\n",
      "hihi\n",
      "5\n",
      "1\n",
      "6\n",
      "1.5\n",
      "1\n",
      "9\n",
      "1\n"
     ]
    }
   ],
   "source": [
    "x = 'hi'\n",
    "y = 'bye'\n",
    "z = 2\n",
    "print(x+y)\n",
    "print(x*2)\n",
    "x = 3 \n",
    "y = 2 \n",
    "print(x+y)\n",
    "print(x-y)\n",
    "print(x*y)\n",
    "print(x/y)\n",
    "print(x%y)\n",
    "print(x**y)\n",
    "print(x//y)"
   ]
  },
  {
   "cell_type": "markdown",
   "metadata": {},
   "source": [
    "#### Operator precedence"
   ]
  },
  {
   "cell_type": "markdown",
   "metadata": {},
   "source": [
    "Operator have different precedence. It is important to take note of the precedence of the operator in order to accurately represent your equations. We can also use the Brackets to represent the precedence.\n",
    "\n",
    "This is the operator precedence from Lowest to highest precedence."
   ]
  },
  {
   "cell_type": "markdown",
   "metadata": {},
   "source": [
    "1. +,-\n",
    "2. *,/,//,%\n",
    "3. **\n",
    "\n",
    "Examples of Operator precedence"
   ]
  },
  {
   "cell_type": "code",
   "execution_count": 16,
   "metadata": {},
   "outputs": [
    {
     "name": "stdout",
     "output_type": "stream",
     "text": [
      "28\n",
      "256\n",
      "14.0\n"
     ]
    }
   ],
   "source": [
    "print(3**2 * 3 +1)\n",
    "\n",
    "print(2**2**3)\n",
    "\n",
    "print((20+2*4) / 2)"
   ]
  },
  {
   "cell_type": "markdown",
   "metadata": {},
   "source": [
    "#### Logical operators\n"
   ]
  },
  {
   "cell_type": "markdown",
   "metadata": {},
   "source": [
    "A logical operator is a symbol or word used to connect two or more expressions such that the value of the compound expression produced depends only on that of the original expressions and on the meaning of the operator. Common logical operators include AND, OR, and NOT.\n",
    "\n",
    "\n",
    "For and it \n",
    "\n",
    "For or Returns True if one of the statements is true\n",
    "\n",
    "For not Reverse the result, returns False if the result is true\n",
    "Examples:"
   ]
  },
  {
   "cell_type": "code",
   "execution_count": 10,
   "metadata": {},
   "outputs": [
    {
     "name": "stdout",
     "output_type": "stream",
     "text": [
      "False\n",
      "True\n",
      "True\n"
     ]
    }
   ],
   "source": [
    "x = 5\n",
    "y = 5\n",
    "z = 5\n",
    "print(x < 3 and x < 10)\n",
    "print(y > 3 or y < 10)\n",
    "print (not(z < 4))"
   ]
  },
  {
   "cell_type": "markdown",
   "metadata": {},
   "source": [
    "### Assignment Statement"
   ]
  },
  {
   "cell_type": "markdown",
   "metadata": {},
   "source": [
    "We can (re)bind names to values and also modify attributes or mutable objects using assignment statements. \n",
    "\n",
    "When assigning the variable x to a different value, we can see that variable x id is also changed by using the in-build function id().\n",
    "\n",
    "However, it is possible that two objects with non-overlapping lifetimes can have the same id() value.\n"
   ]
  },
  {
   "cell_type": "code",
   "execution_count": 21,
   "metadata": {},
   "outputs": [
    {
     "name": "stdout",
     "output_type": "stream",
     "text": [
      "140703391719824\n",
      "140703391719888\n",
      "3\n"
     ]
    }
   ],
   "source": [
    "x=1 \n",
    "print(id(x))\n",
    "x=3\n",
    "print(id(x))\n",
    "print(x)"
   ]
  },
  {
   "cell_type": "markdown",
   "metadata": {},
   "source": [
    "### Comments"
   ]
  },
  {
   "cell_type": "markdown",
   "metadata": {},
   "source": [
    "We can use write comments on our code by using the hash character(#).\n",
    "\n",
    "A comment signifies the end of the logical line most of the time, unless implicit line joining rules are invoked."
   ]
  },
  {
   "cell_type": "code",
   "execution_count": 22,
   "metadata": {},
   "outputs": [],
   "source": [
    "x = 1 # x is being assigned the value 1\n"
   ]
  },
  {
   "cell_type": "code",
   "execution_count": 23,
   "metadata": {},
   "outputs": [
    {
     "ename": "SyntaxError",
     "evalue": "unexpected character after line continuation character (<ipython-input-23-bda2e21dbab5>, line 1)",
     "output_type": "error",
     "traceback": [
      "\u001b[1;36m  File \u001b[1;32m\"<ipython-input-23-bda2e21dbab5>\"\u001b[1;36m, line \u001b[1;32m1\u001b[0m\n\u001b[1;33m    x = 1 \\ #explicit line joining\u001b[0m\n\u001b[1;37m                                  ^\u001b[0m\n\u001b[1;31mSyntaxError\u001b[0m\u001b[1;31m:\u001b[0m unexpected character after line continuation character\n"
     ]
    }
   ],
   "source": [
    "x = 1 \\ #explicit line joining\n",
    "print(x)"
   ]
  },
  {
   "cell_type": "markdown",
   "metadata": {},
   "source": [
    "#### Indentation"
   ]
  },
  {
   "cell_type": "markdown",
   "metadata": {},
   "source": [
    "Indentations begins at the start of the logical line which is used to determine the grouping of the statements.\n",
    "\n",
    "Indentation are rejected if there are an inconsistent mix of tabs and spaces. This causes a Tab Error."
   ]
  },
  {
   "cell_type": "code",
   "execution_count": 26,
   "metadata": {},
   "outputs": [
    {
     "name": "stdout",
     "output_type": "stream",
     "text": [
      "yes\n"
     ]
    }
   ],
   "source": [
    "if 1<4:\n",
    "    print('yes')\n",
    "else:\n",
    "    print('no')\n",
    "    \n",
    "    "
   ]
  },
  {
   "cell_type": "code",
   "execution_count": 35,
   "metadata": {},
   "outputs": [
    {
     "ename": "IndentationError",
     "evalue": "expected an indented block (<ipython-input-35-a7c8ff9be281>, line 4)",
     "output_type": "error",
     "traceback": [
      "\u001b[1;36m  File \u001b[1;32m\"<ipython-input-35-a7c8ff9be281>\"\u001b[1;36m, line \u001b[1;32m4\u001b[0m\n\u001b[1;33m    print('no')\u001b[0m\n\u001b[1;37m        ^\u001b[0m\n\u001b[1;31mIndentationError\u001b[0m\u001b[1;31m:\u001b[0m expected an indented block\n"
     ]
    }
   ],
   "source": [
    "if 1>4:\n",
    "    print('yes')\n",
    "else:\n",
    "print('no')"
   ]
  },
  {
   "cell_type": "markdown",
   "metadata": {},
   "source": [
    "### Functions\n"
   ]
  },
  {
   "cell_type": "markdown",
   "metadata": {},
   "source": [
    "A function is a block of organized, reusable code that is used to perform a single, related action. Functions provide better modularity for your application and a high degree of code reusing.\n",
    "\n",
    "You can pass data, known as parameters, into a function.\n",
    "A function can return data as a result.\n",
    "\n",
    "\n",
    "\n",
    "We use def to define a function. def is followed by the function name and a parentheses and a colon punctuation. \n",
    "\n",
    "This is a basic example of a function that prints a string\n"
   ]
  },
  {
   "cell_type": "code",
   "execution_count": null,
   "metadata": {},
   "outputs": [],
   "source": [
    "def my_function():\n",
    "  print(\"Hello from a function\")\n"
   ]
  },
  {
   "cell_type": "markdown",
   "metadata": {},
   "source": [
    "By typing \"my_function()\", this would call the function and run the action it in which is to print \n",
    "\n",
    "\"Hello from a function\""
   ]
  },
  {
   "cell_type": "code",
   "execution_count": null,
   "metadata": {},
   "outputs": [],
   "source": [
    "my_function()"
   ]
  },
  {
   "cell_type": "markdown",
   "metadata": {},
   "source": [
    "Information can be passed into functions as arguments.\n",
    "\n",
    "Arguments are specified after the function name, inside the parentheses. You can add as many arguments as you want, just separate them with a comma.\n",
    "\n",
    "We use the return function to send back an output\n",
    "\n",
    "Examples of Parameters: Sum(x,y)\n",
    "\n",
    "A parameter is the variable listed inside the parentheses in the function definition.\n",
    "\n",
    "Examples of arguments: Sum(1,2)\n",
    "\n",
    "An argument is the value that is sent to the function when it is called.\n"
   ]
  },
  {
   "cell_type": "markdown",
   "metadata": {},
   "source": [
    "Example of how a function with arguments and parameter.\n",
    "\n",
    "Step 1: Create the function\n",
    "Step 2: Define the parameters\n",
    "Step 3: Action in the function \n",
    "Step 4: The desired output"
   ]
  },
  {
   "cell_type": "code",
   "execution_count": 1,
   "metadata": {},
   "outputs": [],
   "source": [
    "def sum(x,y):\n",
    "    return (x+y)"
   ]
  },
  {
   "cell_type": "markdown",
   "metadata": {},
   "source": [
    "Step 2: call the function and input the arguments"
   ]
  },
  {
   "cell_type": "code",
   "execution_count": 2,
   "metadata": {},
   "outputs": [
    {
     "name": "stdout",
     "output_type": "stream",
     "text": [
      "3\n"
     ]
    }
   ],
   "source": [
    "total_sum = sum(1,2)\n",
    "print(total_sum)"
   ]
  },
  {
   "cell_type": "markdown",
   "metadata": {},
   "source": [
    "It is good practice to make sure you have the same number of arguments and parameter.\n",
    "\n",
    "If we are missing an argument, there would be a TypeError stating that the function is missing a required positional argument"
   ]
  },
  {
   "cell_type": "code",
   "execution_count": 5,
   "metadata": {},
   "outputs": [
    {
     "ename": "TypeError",
     "evalue": "sum() missing 1 required positional argument: 'y'",
     "output_type": "error",
     "traceback": [
      "\u001b[1;31m---------------------------------------------------------------------------\u001b[0m",
      "\u001b[1;31mTypeError\u001b[0m                                 Traceback (most recent call last)",
      "\u001b[1;32m<ipython-input-5-303c189156ab>\u001b[0m in \u001b[0;36m<module>\u001b[1;34m\u001b[0m\n\u001b[1;32m----> 1\u001b[1;33m \u001b[0mtotal_sum\u001b[0m \u001b[1;33m=\u001b[0m \u001b[0msum\u001b[0m\u001b[1;33m(\u001b[0m\u001b[1;36m1\u001b[0m\u001b[1;33m,\u001b[0m\u001b[1;33m)\u001b[0m\u001b[1;33m\u001b[0m\u001b[1;33m\u001b[0m\u001b[0m\n\u001b[0m\u001b[0;32m      2\u001b[0m \u001b[0mprint\u001b[0m\u001b[1;33m(\u001b[0m\u001b[0mtotal_sum\u001b[0m\u001b[1;33m)\u001b[0m\u001b[1;33m\u001b[0m\u001b[1;33m\u001b[0m\u001b[0m\n\u001b[0;32m      3\u001b[0m \u001b[1;33m\u001b[0m\u001b[0m\n",
      "\u001b[1;31mTypeError\u001b[0m: sum() missing 1 required positional argument: 'y'"
     ]
    }
   ],
   "source": [
    "total_sum = sum(1)\n",
    "print(total_sum)\n",
    "\n"
   ]
  },
  {
   "cell_type": "markdown",
   "metadata": {},
   "source": [
    "If we input more arguments than the parameter, we would also get a TypeError stating the function sum() takes 2 positional arguments but 3 were given."
   ]
  },
  {
   "cell_type": "code",
   "execution_count": 6,
   "metadata": {},
   "outputs": [
    {
     "ename": "TypeError",
     "evalue": "sum() takes 2 positional arguments but 3 were given",
     "output_type": "error",
     "traceback": [
      "\u001b[1;31m---------------------------------------------------------------------------\u001b[0m",
      "\u001b[1;31mTypeError\u001b[0m                                 Traceback (most recent call last)",
      "\u001b[1;32m<ipython-input-6-5c272ec8fe3b>\u001b[0m in \u001b[0;36m<module>\u001b[1;34m\u001b[0m\n\u001b[1;32m----> 1\u001b[1;33m \u001b[0mtotal_sum\u001b[0m \u001b[1;33m=\u001b[0m \u001b[0msum\u001b[0m\u001b[1;33m(\u001b[0m\u001b[1;36m1\u001b[0m\u001b[1;33m,\u001b[0m\u001b[1;36m2\u001b[0m\u001b[1;33m,\u001b[0m\u001b[1;36m3\u001b[0m\u001b[1;33m)\u001b[0m\u001b[1;33m\u001b[0m\u001b[1;33m\u001b[0m\u001b[0m\n\u001b[0m\u001b[0;32m      2\u001b[0m \u001b[0mprint\u001b[0m\u001b[1;33m(\u001b[0m\u001b[0mtotal_sum\u001b[0m\u001b[1;33m)\u001b[0m\u001b[1;33m\u001b[0m\u001b[1;33m\u001b[0m\u001b[0m\n",
      "\u001b[1;31mTypeError\u001b[0m: sum() takes 2 positional arguments but 3 were given"
     ]
    }
   ],
   "source": [
    "total_sum = sum(1,2,3)\n",
    "print(total_sum)"
   ]
  },
  {
   "cell_type": "markdown",
   "metadata": {},
   "source": [
    "For Arbitrary Arguments, *args\n",
    "\n",
    "If you do not know how many arguments that will be passed into your function, add a * before the parameter name in the function definition.\n",
    "\n",
    "This way the function will receive a tuple of arguments, and can access the items accordingly:"
   ]
  },
  {
   "cell_type": "code",
   "execution_count": 9,
   "metadata": {},
   "outputs": [
    {
     "name": "stdout",
     "output_type": "stream",
     "text": [
      "The best friend is Eden\n"
     ]
    }
   ],
   "source": [
    "def name(*friend):\n",
    "  print(\"The best friend is \" + friend[2])\n",
    "\n",
    "name(\"Bob\", \"Tom\", \"Eden\")"
   ]
  },
  {
   "cell_type": "markdown",
   "metadata": {},
   "source": [
    "Keyword Arguments\n",
    "\n",
    "You can also send arguments with the key = value syntax.\n",
    "\n",
    "This way the order of the arguments does not matter."
   ]
  },
  {
   "cell_type": "code",
   "execution_count": 11,
   "metadata": {},
   "outputs": [
    {
     "name": "stdout",
     "output_type": "stream",
     "text": [
      "My favourite fruit is pear\n"
     ]
    }
   ],
   "source": [
    "def fruits(fruit3, fruit2, fruit1):\n",
    "    \n",
    "  print(\"My favourite fruit is \" + fruit2)\n",
    "\n",
    "fruits(fruit1 = \"apple\", fruit2 = \"pear\", fruit3 = \"orange\")"
   ]
  },
  {
   "cell_type": "markdown",
   "metadata": {},
   "source": [
    "Arbitrary Keyword Arguments\n",
    "\n",
    "**kwargs\n",
    "If you do not know how many keyword arguments that will be passed into your function, add two asterisk: ** before the parameter name in the function definition.\n",
    "\n",
    "This way the function will receive a dictionary of arguments, and can access the items accordingly:"
   ]
  },
  {
   "cell_type": "code",
   "execution_count": 22,
   "metadata": {},
   "outputs": [
    {
     "name": "stdout",
     "output_type": "stream",
     "text": [
      "My favourite fruit is pear\n"
     ]
    }
   ],
   "source": [
    "%reset -f\n",
    "\n",
    "def fruit_function(**fruit):\n",
    "  print(\"My favourite fruit is \" + fruit[\"fruit2\"])\n",
    "\n",
    "\n",
    "fruit_function(fruit1 = \"apple\", fruit2 = \"pear\")"
   ]
  },
  {
   "cell_type": "markdown",
   "metadata": {},
   "source": [
    "### Loops"
   ]
  },
  {
   "cell_type": "markdown",
   "metadata": {},
   "source": [
    "Loops allow the code to iterate and repeat itself within set parameters. Loops allow you to automate processes within the program using a few lines of code. \n",
    "\n",
    "Loops typically come in two forms: 1. the For statement 2. the While statement\n",
    "\n",
    "The for statement iterates over the elements of a sequence, such as a string, list, range, or other iterable objects. With the for loop you can automatically execute the code once for each item in the sequence.\n",
    "\n",
    "An example of a for loop would be:"
   ]
  },
  {
   "cell_type": "code",
   "execution_count": null,
   "metadata": {},
   "outputs": [],
   "source": [
    "dateList = [\"01-01-2000\", \"31-12-2020\", \"05-06-2018\", \"04-10-2010\"]\n",
    "for date in dateList:\n",
    "    print(date)"
   ]
  },
  {
   "cell_type": "markdown",
   "metadata": {},
   "source": [
    "The 'date' between `for` and `in` in the code is arbitary, and can be replaced by any other letter or string.\n",
    "\n",
    "In this case \"date\" is known as the target_list, while the actual list of dates is known as the expression_list.\n",
    "The target list can also have multiple values matching the number of values within the expression_list such as:\n",
    "\n",
    "\n"
   ]
  },
  {
   "cell_type": "code",
   "execution_count": null,
   "metadata": {},
   "outputs": [],
   "source": [
    "for (i,j) in [(1,2), (3,4), (5,6)]:\n",
    "    print(i)\n",
    "    print(j)"
   ]
  },
  {
   "cell_type": "markdown",
   "metadata": {},
   "source": [
    "the number of values in the target_list not matching the number of values in the expression_list will give an error:"
   ]
  },
  {
   "cell_type": "code",
   "execution_count": 2,
   "metadata": {},
   "outputs": [
    {
     "ename": "ValueError",
     "evalue": "not enough values to unpack (expected 3, got 2)",
     "output_type": "error",
     "traceback": [
      "\u001b[1;31m---------------------------------------------------------------------------\u001b[0m",
      "\u001b[1;31mValueError\u001b[0m                                Traceback (most recent call last)",
      "\u001b[1;32m<ipython-input-2-0e03c00705c4>\u001b[0m in \u001b[0;36m<module>\u001b[1;34m\u001b[0m\n\u001b[1;32m----> 1\u001b[1;33m \u001b[1;32mfor\u001b[0m \u001b[1;33m(\u001b[0m\u001b[0mi\u001b[0m\u001b[1;33m,\u001b[0m\u001b[0mj\u001b[0m\u001b[1;33m,\u001b[0m\u001b[0mk\u001b[0m\u001b[1;33m)\u001b[0m \u001b[1;32min\u001b[0m \u001b[1;33m[\u001b[0m\u001b[1;33m(\u001b[0m\u001b[1;36m1\u001b[0m\u001b[1;33m,\u001b[0m\u001b[1;36m2\u001b[0m\u001b[1;33m)\u001b[0m\u001b[1;33m,\u001b[0m \u001b[1;33m(\u001b[0m\u001b[1;36m3\u001b[0m\u001b[1;33m,\u001b[0m\u001b[1;36m4\u001b[0m\u001b[1;33m)\u001b[0m\u001b[1;33m,\u001b[0m \u001b[1;33m(\u001b[0m\u001b[1;36m5\u001b[0m\u001b[1;33m,\u001b[0m\u001b[1;36m6\u001b[0m\u001b[1;33m)\u001b[0m\u001b[1;33m]\u001b[0m\u001b[1;33m:\u001b[0m\u001b[1;33m\u001b[0m\u001b[1;33m\u001b[0m\u001b[0m\n\u001b[0m\u001b[0;32m      2\u001b[0m     \u001b[0mprint\u001b[0m\u001b[1;33m(\u001b[0m\u001b[0mi\u001b[0m\u001b[1;33m)\u001b[0m\u001b[1;33m\u001b[0m\u001b[1;33m\u001b[0m\u001b[0m\n\u001b[0;32m      3\u001b[0m     \u001b[0mprint\u001b[0m\u001b[1;33m(\u001b[0m\u001b[0mj\u001b[0m\u001b[1;33m)\u001b[0m\u001b[1;33m\u001b[0m\u001b[1;33m\u001b[0m\u001b[0m\n\u001b[0;32m      4\u001b[0m     \u001b[0mprint\u001b[0m\u001b[1;33m(\u001b[0m\u001b[0mk\u001b[0m\u001b[1;33m)\u001b[0m\u001b[1;33m\u001b[0m\u001b[1;33m\u001b[0m\u001b[0m\n",
      "\u001b[1;31mValueError\u001b[0m: not enough values to unpack (expected 3, got 2)"
     ]
    }
   ],
   "source": [
    "for (i,j,k) in [(1,2), (3,4), (5,6)]:\n",
    "    print(i)\n",
    "    print(j)\n",
    "    print(k)"
   ]
  },
  {
   "cell_type": "markdown",
   "metadata": {},
   "source": [
    "For loops can also be used in conjunction with the `range()` function such as in:\n"
   ]
  },
  {
   "cell_type": "code",
   "execution_count": null,
   "metadata": {},
   "outputs": [],
   "source": [
    "n = 5\n",
    "for i in range(n):\n",
    "    print(i)"
   ]
  },
  {
   "cell_type": "markdown",
   "metadata": {},
   "source": [
    "On the other hand, the while statement repeatedly tests an expression and executes the code for as long as the expression is true. \n",
    "\n",
    "An example of a while loop would be:"
   ]
  },
  {
   "cell_type": "code",
   "execution_count": null,
   "metadata": {},
   "outputs": [],
   "source": [
    "i = 1\n",
    "while i < 6:\n",
    "    print(i)\n",
    "    i += 1"
   ]
  },
  {
   "cell_type": "markdown",
   "metadata": {},
   "source": [
    "as long as i is less than 6, the code will print the current value of i before adding 1 to the value of i. When the value of i reaches 6 the loop will automatically end."
   ]
  },
  {
   "cell_type": "markdown",
   "metadata": {},
   "source": [
    "### If/elif/else\n",
    "\n"
   ]
  },
  {
   "cell_type": "markdown",
   "metadata": {},
   "source": [
    "`If`...`elif`...`else` statement is used for decision making in Python. If statement is represented by “if” and it will only be executed when the statement is true. \n",
    "Else if statement is represented by `elif` and it will only execute when the statement is true and if the previous statement was not true.\n",
    "Else statement is represented by `else` and it will only execute when all previous statement were not true.\n",
    "Note: the statements must have a boolean output and each statement blocks have to be indented.\n",
    "\n",
    "Example:\n"
   ]
  },
  {
   "cell_type": "code",
   "execution_count": 5,
   "metadata": {},
   "outputs": [
    {
     "name": "stdout",
     "output_type": "stream",
     "text": [
      "a is greater than b\n"
     ]
    }
   ],
   "source": [
    "a = 200\n",
    "b = 33\n",
    "\n",
    "if b > a: #if b is greater than a, python would run the action in the if condition. The following code with continue to run\n",
    "  print(\"b is greater than a\")\n",
    "elif a == b: #if a and b are equal and the previous condition is false, python would run the action in the elif condition. \n",
    "  print(\"a and b are equal\")\n",
    "else: # python would run the else condition if all previous conditions are false\n",
    "  print(\"a is greater than b\")"
   ]
  },
  {
   "cell_type": "markdown",
   "metadata": {},
   "source": [
    "There is also an alternative way to write if/else/elif statements that are one liner.\n"
   ]
  },
  {
   "cell_type": "code",
   "execution_count": 7,
   "metadata": {},
   "outputs": [
    {
     "name": "stdout",
     "output_type": "stream",
     "text": [
      "a is greater than b\n"
     ]
    }
   ],
   "source": [
    "a = 200\n",
    "b = 33\n",
    "if b > a: print(\"b is greater than a\")\n",
    "else: print(\"a is greater than b\")"
   ]
  },
  {
   "cell_type": "markdown",
   "metadata": {},
   "source": [
    "More examples "
   ]
  },
  {
   "cell_type": "code",
   "execution_count": 11,
   "metadata": {},
   "outputs": [
    {
     "name": "stdout",
     "output_type": "stream",
     "text": [
      "5 less than 8\n"
     ]
    }
   ],
   "source": [
    "dateIndex = 5\n",
    "\n",
    "if dateIndex < 3: #10 is more than 3, therefore this statement is false\n",
    "       print(dateIndex, 'less than 3');\n",
    "elif dateIndex < 8: #since previous statement is false, it will land on elif statement. Since 10 is more than 8, therefore it is false\n",
    "\t print(dateIndex, 'less than 8');\t\n",
    "else: #since all previous statements is false, it will execute the else block\n",
    "\t print(dateIndex);\n"
   ]
  },
  {
   "cell_type": "markdown",
   "metadata": {},
   "source": [
    "Indentations are important in `if/else/elif` conditional statements. If the indentations are not properly used after declaring the `if/else/elif` statements, there will be an indentation error. \n",
    "dateIndex+1 = 5 statement wont give you an boolean output which will give you an error. The correct statement is dateIndex+1 == 5, which will give you either true or false.\n",
    "Bad example:\n",
    "If dateIndex+1 = 5:\n",
    "print(dateIndex);\n",
    "else:\n",
    "print(dateIndex);\n"
   ]
  },
  {
   "cell_type": "markdown",
   "metadata": {},
   "source": [
    "### Tuple\n"
   ]
  },
  {
   "cell_type": "markdown",
   "metadata": {},
   "source": [
    "Tuple is one of the basic sequences. It is immutable and usually used to store collections of data. \n",
    "Tuple may be constructed in different number of ways:\n",
    "using a pair parentheses to denote the empty tuple: \n",
    "`()`\n",
    "Using a trailing comma for singleton tuple: \n",
    "1, \n",
    "or \n",
    "`(1,)`\n",
    "Separating items with commas: \n",
    "1, 2, 3 \n",
    "or \n",
    "`(1, 2, 3)`\n",
    "Using the tuple() built-in: \n",
    "tuple() \n",
    "or \n",
    "`tuple([1,2,3])` #tuple(iterable)\n",
    "\n",
    "The constructor builds a tuple whose items are the same and in the same order as iterable’s items. Iterable may be either a sequence, a container that supports iteration, or an iterator object. If iterable is already a tuple, it is returned unchanged. For example, `tuple(‘haha’)` returns `(‘h’, ‘a’, ‘h’, ’a’)` and `tuple([a, b, c])` returns `(a, b, c)`. If no argument is given, the constructor creates a new empty tuple, ().\n",
    "Note: Comma is what makes a tuple, not the parentheses. Parentheses are only compulsory when constructing an empty tuple or when they are needed to avoid syntactic ambiguity.\n",
    "Example\n",
    "`f(z, y, x)` #this is a function with 3 arguments\n",
    "`f((z, y, x))` #this is a function with a 3-tuple as the only argument\n",
    "\n"
   ]
  },
  {
   "cell_type": "code",
   "execution_count": 14,
   "metadata": {},
   "outputs": [
    {
     "data": {
      "text/plain": [
       "('h', 'a', 'h', 'a')"
      ]
     },
     "execution_count": 14,
     "metadata": {},
     "output_type": "execute_result"
    }
   ],
   "source": [
    "tuple('haha')"
   ]
  },
  {
   "cell_type": "code",
   "execution_count": 16,
   "metadata": {},
   "outputs": [
    {
     "data": {
      "text/plain": [
       "('1',)"
      ]
     },
     "execution_count": 16,
     "metadata": {},
     "output_type": "execute_result"
    }
   ],
   "source": [
    "tuple('1')"
   ]
  },
  {
   "cell_type": "markdown",
   "metadata": {},
   "source": [
    "###  F-strings"
   ]
  },
  {
   "cell_type": "markdown",
   "metadata": {},
   "source": [
    "A new string formatting mechanism known as Literal String Interpolation or more commonly as `F-strings` (because of the leading f character preceding the string literal). The idea behind `f-strings` is to make string interpolation simpler. We would input variables in {} that will be replaced with their values.\n",
    "\n",
    "\n",
    "Examples:"
   ]
  },
  {
   "cell_type": "code",
   "execution_count": 17,
   "metadata": {},
   "outputs": [
    {
     "name": "stdout",
     "output_type": "stream",
     "text": [
      "Hello, My name is bob and I'm 23 years old.\n"
     ]
    }
   ],
   "source": [
    "name = 'bob'\n",
    "age = 23\n",
    "print(f\"Hello, My name is {name} and I'm {age} years old.\")\n"
   ]
  },
  {
   "cell_type": "markdown",
   "metadata": {},
   "source": [
    "### Try Except"
   ]
  },
  {
   "cell_type": "markdown",
   "metadata": {},
   "source": [
    "The try and except block in Python is used to catch and handle exceptions. The try block lets you test a block for exceptions. The  except block lets you catch and handle the exceptions if there are any.\n",
    "\n",
    "Example:\n"
   ]
  },
  {
   "cell_type": "code",
   "execution_count": 20,
   "metadata": {},
   "outputs": [
    {
     "name": "stdout",
     "output_type": "stream",
     "text": [
      "You cannot divide by 0\n"
     ]
    }
   ],
   "source": [
    "num1 = 1\n",
    "num2 = 0\n",
    "try: #Python will try to run the code in the try block\n",
    "\tprint(num1/num2) #There is a division by 0 situation and python raise a ZeroDivisionError\n",
    "except ZeroDivisionError as e:#Except block catches the ZeroDivisionError exception and run the except block \n",
    "\tprint(\"You cannot divide by 0\" ) #Python prints “You cannot divide by 0”\n"
   ]
  },
  {
   "cell_type": "markdown",
   "metadata": {},
   "source": [
    "### Assert Statement"
   ]
  },
  {
   "cell_type": "markdown",
   "metadata": {},
   "source": [
    "The `assert` Statement: When it encounters an assert statement, Python evaluates the accompanying expression, which is hopefully true. If the expression is false, Python raises an AssertionError exception. If the assertion fails, Python uses ArgumentExpression as the argument for the AssertionError.\n",
    " \n",
    "Examples:\n",
    "\n",
    "We first have to `assert` a condition\n"
   ]
  },
  {
   "cell_type": "code",
   "execution_count": null,
   "metadata": {},
   "outputs": [],
   "source": [
    "assert condition"
   ]
  },
  {
   "cell_type": "markdown",
   "metadata": {},
   "source": [
    "We then set a conditional statement to immediately trigger an error if the condition is false. The AssertionError() is a function that is predetermined by the user and it would run when the if condition is trigger."
   ]
  },
  {
   "cell_type": "code",
   "execution_count": null,
   "metadata": {},
   "outputs": [],
   "source": [
    "if not condition: raise AssertionError()"
   ]
  },
  {
   "cell_type": "markdown",
   "metadata": {},
   "source": [
    "### Exception"
   ]
  },
  {
   "cell_type": "markdown",
   "metadata": {},
   "source": [
    "Exceptions are errors that were detected during execution. Exception can arise even if a statement and expression is syntactically correct, the cause is due to python not being able to cope with the code. It comes in different types and the type is printed as part of the error message.\n",
    "\n",
    "Examples:\n"
   ]
  },
  {
   "cell_type": "code",
   "execution_count": null,
   "metadata": {},
   "outputs": [],
   "source": [
    "ValueError # Raised when an operation or function receives an argument that has the right type but an inappropriate value, and the situation is not described by a more precise exception such as IndexError.\n",
    "AssertionError #Raised when an assert statement fails\n",
    " \n",
    "KeyError # Raised when a mapping (dictionary) key is not found in the set of existing keys.\n",
    "\n",
    "ZeroDivisionError # Raised when the second argument of a division or modulo operation is zero. The associated value is a string indicating the type of the operands and the operation.\n"
   ]
  },
  {
   "cell_type": "markdown",
   "metadata": {},
   "source": [
    "Exception error message comes in form of a stack traceback and it shows the context where the exception occurred. \n",
    "\n",
    "Example \n"
   ]
  },
  {
   "cell_type": "code",
   "execution_count": null,
   "metadata": {},
   "outputs": [],
   "source": [
    "#Assertion Stack traceback message\n",
    "Traceback (most recent call last):\n",
    "  File \"/home/bafc2f900d9791144fbf59f477cd4059.py\", line 4, in \n",
    "    assert y!=0, \"Invalid Operation\" # denominator can't be 0\n",
    "    \n",
    "AssertionError: Invalid Operation\n",
    "# We can tell that this is an AssertionError from the name of this exception and the assertion error occurred in line 4 of the code.\n"
   ]
  },
  {
   "cell_type": "markdown",
   "metadata": {},
   "source": [
    "Exceptions are not unconditionally fatal as it is possible to write programs that handle selected exceptions. To handle exceptions, Try Except is required. Look at the following example, it assigns two variables num1 and num2 with a value of 1 and 0 respectively. Python will try to execute the try block but num1 is divided by 0 which raises a ZeroDivisionError. The except block will catch the exception ZeroDivisionError and execute the except block.\n"
   ]
  },
  {
   "cell_type": "code",
   "execution_count": 23,
   "metadata": {},
   "outputs": [
    {
     "name": "stdout",
     "output_type": "stream",
     "text": [
      "You cannot divide by 0\n"
     ]
    }
   ],
   "source": [
    "num1 = 1\n",
    "num2 = 0\n",
    "try:\n",
    "\tprint(num1/num2)\n",
    "except ZeroDivisionError as e:\n",
    "\tprint(\"You cannot divide by 0\")\n",
    "\n",
    "    "
   ]
  },
  {
   "cell_type": "markdown",
   "metadata": {},
   "source": [
    "### Lambda"
   ]
  },
  {
   "cell_type": "markdown",
   "metadata": {},
   "source": [
    "A `lambda` function is a small anonymous function. A `lambda` function can take any number of arguments, but can only have one expression.\n",
    "\n",
    "Examples:"
   ]
  },
  {
   "cell_type": "code",
   "execution_count": 24,
   "metadata": {},
   "outputs": [
    {
     "name": "stdout",
     "output_type": "stream",
     "text": [
      "15\n"
     ]
    }
   ],
   "source": [
    "\n",
    "x = lambda a : a + 10 # 5 is assigned to a, this would return a value of 15\n",
    "print(x(5))"
   ]
  },
  {
   "cell_type": "code",
   "execution_count": 25,
   "metadata": {},
   "outputs": [
    {
     "name": "stdout",
     "output_type": "stream",
     "text": [
      "13\n"
     ]
    }
   ],
   "source": [
    "x = lambda a, b, c : a + b + c # lamda can take any number of arguments.\n",
    "print(x(5, 6, 2))"
   ]
  },
  {
   "cell_type": "markdown",
   "metadata": {},
   "source": [
    "\n",
    "The power of `lambda` is better shown when you use them as an anonymous function inside another function. Say you have a function definition that takes one argument, and that argument will be multiplied with an unknown number\n",
    "\n",
    "Examples:\n",
    "\n"
   ]
  },
  {
   "cell_type": "code",
   "execution_count": 26,
   "metadata": {},
   "outputs": [
    {
     "name": "stdout",
     "output_type": "stream",
     "text": [
      "33\n"
     ]
    }
   ],
   "source": [
    "def myfunc(n): # we define a function with parameter (n)\n",
    "  return lambda a : a * n # this returns a value of 3*11=33\n",
    "\n",
    "mytripler = myfunc(3) \n",
    "\n",
    "print(mytripler(11))\n"
   ]
  },
  {
   "cell_type": "markdown",
   "metadata": {},
   "source": [
    "### Classes & Object & __init__\n"
   ]
  },
  {
   "cell_type": "markdown",
   "metadata": {},
   "source": [
    "Python is an object oriented programming language. Almost everything in Python is an object, with its properties and methods. A `Class` is like an object constructor, or a \"blueprint\" for creating objects. Classes allow us to bundle data and functionalities together.\n",
    "\n",
    "To create a `class` we have to use the keyword `class`\n",
    "\n",
    "Example:"
   ]
  },
  {
   "cell_type": "code",
   "execution_count": 27,
   "metadata": {},
   "outputs": [],
   "source": [
    "class MyClass:\n",
    "  x = 5\n"
   ]
  },
  {
   "cell_type": "markdown",
   "metadata": {},
   "source": [
    "Creating a new class would also create a new type of `object`. This would create a new instance of that type to be made.\n",
    "Now we can use the class named MyClass to create `objects`:\n",
    "\n",
    "Examples:\n"
   ]
  },
  {
   "cell_type": "code",
   "execution_count": 28,
   "metadata": {},
   "outputs": [
    {
     "name": "stdout",
     "output_type": "stream",
     "text": [
      "5\n"
     ]
    }
   ],
   "source": [
    "p1 = MyClass()\n",
    "print(p1.x)\n"
   ]
  },
  {
   "cell_type": "markdown",
   "metadata": {},
   "source": [
    "All classes have a function called ‘__init__()’, which is always executed when the class is being initiated.\n",
    "Use the ‘__init__()’ function to assign values to object properties, or other operations that are necessary to do when the object is being created:\n",
    "\n",
    "Create a class named Person, use the ‘__init__()’ function to assign values for name and age\n",
    "\n",
    "Example:\n"
   ]
  },
  {
   "cell_type": "code",
   "execution_count": 30,
   "metadata": {},
   "outputs": [
    {
     "name": "stdout",
     "output_type": "stream",
     "text": [
      "John\n",
      "36\n"
     ]
    }
   ],
   "source": [
    "class Person:\n",
    "  def __init__(self, name, age): #create a function with parameters self, name, age\n",
    "    self.name = name \n",
    "    self.age = age\n",
    "\n",
    "p1 = Person(\"John\", 36)\n",
    "\n",
    "print(p1.name) # this would print the \n",
    "print(p1.age)\n",
    "\n"
   ]
  },
  {
   "cell_type": "markdown",
   "metadata": {},
   "source": [
    "If one more argument is given when creating an object, there would be a “TypeError: __init__() takes 3 positional arguments but 4 were given” \n",
    "\n",
    "Bad Example: \n"
   ]
  },
  {
   "cell_type": "code",
   "execution_count": 31,
   "metadata": {},
   "outputs": [
    {
     "ename": "TypeError",
     "evalue": "__init__() takes 3 positional arguments but 4 were given",
     "output_type": "error",
     "traceback": [
      "\u001b[1;31m---------------------------------------------------------------------------\u001b[0m",
      "\u001b[1;31mTypeError\u001b[0m                                 Traceback (most recent call last)",
      "\u001b[1;32m<ipython-input-31-25e376e34c50>\u001b[0m in \u001b[0;36m<module>\u001b[1;34m\u001b[0m\n\u001b[0;32m      4\u001b[0m     \u001b[0mself\u001b[0m\u001b[1;33m.\u001b[0m\u001b[0mage\u001b[0m \u001b[1;33m=\u001b[0m \u001b[0mage\u001b[0m\u001b[1;33m\u001b[0m\u001b[1;33m\u001b[0m\u001b[0m\n\u001b[0;32m      5\u001b[0m \u001b[1;33m\u001b[0m\u001b[0m\n\u001b[1;32m----> 6\u001b[1;33m \u001b[0mp1\u001b[0m \u001b[1;33m=\u001b[0m \u001b[0mPerson\u001b[0m\u001b[1;33m(\u001b[0m\u001b[1;34m\"John\"\u001b[0m\u001b[1;33m,\u001b[0m \u001b[1;36m36\u001b[0m\u001b[1;33m,\u001b[0m \u001b[1;36m46\u001b[0m\u001b[1;33m)\u001b[0m\u001b[1;33m\u001b[0m\u001b[1;33m\u001b[0m\u001b[0m\n\u001b[0m\u001b[0;32m      7\u001b[0m \u001b[1;33m\u001b[0m\u001b[0m\n\u001b[0;32m      8\u001b[0m \u001b[0mprint\u001b[0m\u001b[1;33m(\u001b[0m\u001b[0mp1\u001b[0m\u001b[1;33m.\u001b[0m\u001b[0mname\u001b[0m\u001b[1;33m)\u001b[0m \u001b[1;31m# this would print the\u001b[0m\u001b[1;33m\u001b[0m\u001b[1;33m\u001b[0m\u001b[0m\n",
      "\u001b[1;31mTypeError\u001b[0m: __init__() takes 3 positional arguments but 4 were given"
     ]
    }
   ],
   "source": [
    "class Person:\n",
    "  def __init__(self, name, age): #create a function with parameters self, name, age\n",
    "    self.name = name \n",
    "    self.age = age\n",
    "\n",
    "p1 = Person(\"John\", 36, 46)\n",
    "\n",
    "print(p1.name) # this would print the \n",
    "print(p1.age)\n"
   ]
  },
  {
   "cell_type": "markdown",
   "metadata": {},
   "source": [
    "\n",
    "If one less argument is given when creating an object, there would be a “TypeError: __init__() missing 1 required positional argument: 'gender'”\n",
    "\n",
    "Bad Example:"
   ]
  },
  {
   "cell_type": "code",
   "execution_count": 32,
   "metadata": {},
   "outputs": [
    {
     "ename": "TabError",
     "evalue": "inconsistent use of tabs and spaces in indentation (<ipython-input-32-e8fbb26d380d>, line 4)",
     "output_type": "error",
     "traceback": [
      "\u001b[1;36m  File \u001b[1;32m\"<ipython-input-32-e8fbb26d380d>\"\u001b[1;36m, line \u001b[1;32m4\u001b[0m\n\u001b[1;33m    self.age = age\u001b[0m\n\u001b[1;37m                  ^\u001b[0m\n\u001b[1;31mTabError\u001b[0m\u001b[1;31m:\u001b[0m inconsistent use of tabs and spaces in indentation\n"
     ]
    }
   ],
   "source": [
    "class Person:\n",
    "  def __init__(self, name, age, gender): #create a function with parameters self, name, age\n",
    "    self.name = name \n",
    "\tself.age = age\n",
    "\n",
    "p1 = Person(\"John\", 36)\n",
    "\n",
    "print(p1.name) # this would print the \n",
    "print(p1.age)\n"
   ]
  },
  {
   "cell_type": "markdown",
   "metadata": {},
   "source": [
    "Objects can also contain methods. Methods in objects are functions that belong to the object.\n",
    "\n",
    "Example:"
   ]
  },
  {
   "cell_type": "code",
   "execution_count": 38,
   "metadata": {},
   "outputs": [
    {
     "name": "stdout",
     "output_type": "stream",
     "text": [
      "Hello my name is John\n"
     ]
    }
   ],
   "source": [
    "%reset -f\n",
    "\n",
    "class Person:\n",
    "  def __init__(self, name, age):\n",
    "    self.name = name\n",
    "    self.age = age\n",
    "\n",
    "  def myfunc(self):\n",
    "    print(\"Hello my name is \" + self.name)\n",
    "\n",
    "p1 = Person(\"John\", 36) # creates a person object with the two argument.\n",
    "p1.myfunc()#call object methods myfunc(self)\n",
    "\n"
   ]
  },
  {
   "cell_type": "markdown",
   "metadata": {},
   "source": [
    "An TypeError would occur if there is a missing argument.\n",
    "\n",
    "Bad Example:"
   ]
  },
  {
   "cell_type": "code",
   "execution_count": 39,
   "metadata": {},
   "outputs": [
    {
     "ename": "TypeError",
     "evalue": "myfunc() missing 1 required positional argument: 'name'",
     "output_type": "error",
     "traceback": [
      "\u001b[1;31m---------------------------------------------------------------------------\u001b[0m",
      "\u001b[1;31mTypeError\u001b[0m                                 Traceback (most recent call last)",
      "\u001b[1;32m<ipython-input-39-f7e5c90d73dd>\u001b[0m in \u001b[0;36m<module>\u001b[1;34m\u001b[0m\n\u001b[0;32m     10\u001b[0m \u001b[1;33m\u001b[0m\u001b[0m\n\u001b[0;32m     11\u001b[0m \u001b[0mp1\u001b[0m \u001b[1;33m=\u001b[0m \u001b[0mPerson\u001b[0m\u001b[1;33m(\u001b[0m\u001b[1;34m\"John\"\u001b[0m\u001b[1;33m,\u001b[0m \u001b[1;36m36\u001b[0m\u001b[1;33m)\u001b[0m \u001b[1;31m# creates a person object with the two argument.\u001b[0m\u001b[1;33m\u001b[0m\u001b[1;33m\u001b[0m\u001b[0m\n\u001b[1;32m---> 12\u001b[1;33m \u001b[0mp1\u001b[0m\u001b[1;33m.\u001b[0m\u001b[0mmyfunc\u001b[0m\u001b[1;33m(\u001b[0m\u001b[1;33m)\u001b[0m\u001b[1;31m#call object methods myfunc(self) but there is a missing parameter\u001b[0m\u001b[1;33m\u001b[0m\u001b[1;33m\u001b[0m\u001b[0m\n\u001b[0m\u001b[0;32m     13\u001b[0m \u001b[1;33m\u001b[0m\u001b[0m\n",
      "\u001b[1;31mTypeError\u001b[0m: myfunc() missing 1 required positional argument: 'name'"
     ]
    }
   ],
   "source": [
    "%reset -f\n",
    "\n",
    "class Person:\n",
    "  def __init__(self, name, age):\n",
    "    self.name = name\n",
    "    self.age = age\n",
    "\n",
    "  def myfunc(self, name):\n",
    "    print(\"Hello input name is \" + self.name)\n",
    "\n",
    "p1 = Person(\"John\", 36) # creates a person object with the two argument.\n",
    "p1.myfunc()#call object methods myfunc(self) but there is a missing parameter\n",
    "\n"
   ]
  },
  {
   "cell_type": "markdown",
   "metadata": {},
   "source": [
    "### Inheritance"
   ]
  },
  {
   "cell_type": "markdown",
   "metadata": {},
   "source": [
    "Inheritance allows us to define a class that inherits all the methods and properties from another class.\n",
    "The class inheritance mechanism allows multiple base classes. A derived class can override any methods of its base class or classes. A method can call the method of a base class with the same name.\n",
    "\n",
    "There are 2 main classes, Parent class and Child class\n",
    "Parent class is the class being inherited from, also called base class.\n",
    "Child class is the class that inherits from another class, also called derived class.\n",
    "We can create a parent class\n",
    "\n",
    "Example:\n"
   ]
  },
  {
   "cell_type": "code",
   "execution_count": 10,
   "metadata": {},
   "outputs": [
    {
     "name": "stdout",
     "output_type": "stream",
     "text": [
      "JunJie Edwin\n"
     ]
    }
   ],
   "source": [
    "%reset -f\n",
    "class Person:\n",
    "  def __init__(self, fname, lname):\n",
    "    self.firstname = fname\n",
    "    self.lastname = lname\n",
    "\n",
    "  def printname(self):\n",
    "    print(self.firstname, self.lastname)#Use the Person class to create an object, and then execute the printname method:\n",
    "\n",
    "x = Person(\"JunJie\", \"Edwin\")\n",
    "x.printname()\n"
   ]
  },
  {
   "cell_type": "markdown",
   "metadata": {},
   "source": [
    "We then create child class. This child class will inherit the properties and methods from the Person class\n",
    "\n",
    "Example: \n"
   ]
  },
  {
   "cell_type": "code",
   "execution_count": 11,
   "metadata": {},
   "outputs": [],
   "source": [
    "class Student(Person):\n",
    "    pass # we use pass because we don’t want to add any other properties or methods to class.\n"
   ]
  },
  {
   "cell_type": "markdown",
   "metadata": {},
   "source": [
    "We can then create the child class (student) to create an object."
   ]
  },
  {
   "cell_type": "code",
   "execution_count": 12,
   "metadata": {},
   "outputs": [
    {
     "name": "stdout",
     "output_type": "stream",
     "text": [
      "Casper Calvin\n"
     ]
    }
   ],
   "source": [
    "x = Student(\"Casper\", \"Calvin\")\n",
    "x.printname() #print out the properties in the class.\n"
   ]
  },
  {
   "cell_type": "markdown",
   "metadata": {},
   "source": [
    "Super() Function\n",
    "\n",
    "Python has a function called super(). This would make the child class inherit all the methods and properties from its parent. By using super() function, you do not have to use the name of the parent element, it will automatically inherit the methods and properties from its parent.\n"
   ]
  },
  {
   "cell_type": "code",
   "execution_count": 15,
   "metadata": {},
   "outputs": [
    {
     "name": "stdout",
     "output_type": "stream",
     "text": [
      "Michael Jackson\n"
     ]
    }
   ],
   "source": [
    "class Student(Person):\n",
    "  def __init__(self, fname, lname):\n",
    "    super().__init__(fname, lname)\n",
    "\n",
    "    \n",
    "x = Student(\"Michael\", \"Jackson\")\n",
    "x.printname()"
   ]
  },
  {
   "cell_type": "code",
   "execution_count": null,
   "metadata": {},
   "outputs": [],
   "source": []
  },
  {
   "cell_type": "code",
   "execution_count": null,
   "metadata": {},
   "outputs": [],
   "source": []
  }
 ],
 "metadata": {
  "kernelspec": {
   "display_name": "Python 3",
   "language": "python",
   "name": "python3"
  },
  "language_info": {
   "codemirror_mode": {
    "name": "ipython",
    "version": 3
   },
   "file_extension": ".py",
   "mimetype": "text/x-python",
   "name": "python",
   "nbconvert_exporter": "python",
   "pygments_lexer": "ipython3",
   "version": "3.8.3"
  }
 },
 "nbformat": 4,
 "nbformat_minor": 4
}

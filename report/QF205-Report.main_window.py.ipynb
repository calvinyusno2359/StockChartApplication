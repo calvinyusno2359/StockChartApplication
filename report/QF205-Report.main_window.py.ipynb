{
 "cells": [
  {
   "cell_type": "markdown",
   "metadata": {},
   "source": [
    "# main_window.py"
   ]
  },
  {
   "cell_type": "markdown",
   "metadata": {},
   "source": [
    "As mentioned, `main_window.py`'s main responsibility is to **define the graphic user interface (GUI) itself**. It does so by:\n",
    "\n",
    "1. Defining each widget objects' and their names within the GUI\n",
    "2. Defining the location, size and other physical attributes of each widgets\n",
    "\n",
    "It does **NOT** define the functionalities of the widgets found in the GUI. That is the job of `app.py`.\n",
    "\n",
    "While it is possible to create `main_window.py` by manually writing a python script file from scratch, this is not recommended as it is cumbersome. Instead, the following method was used develop the Stock Chart Application:\n",
    "\n",
    "1. Install `Qt Designer` application\n",
    "2. Use `Qt Designer` to build the GUI file called: `main_window.ui`\n",
    "3. Pip install `PyQt5` for python\n",
    "4. Use `pyuic5` (a utility script that comes with `PyQt5`) to compile `main_window.ui` into `main_window.py`\n",
    "\n",
    "The above-mentioned `main_window.py`'s development process is summarized in the graphics below:\n",
    "\n",
    "![main_window.py development process](asset/img/main_window-process.png)\n",
    "\n",
    "This method is **recommended** because it is user-friendly and changes made can be seen visually on the `Qt Designer` itself before it is applied. Thus, not requiring the developer to run the python file after every changes or even knowing how do so at all.\n",
    "\n",
    "This section of the report will now go through the 4 steps of developing `main_window.py` mentioned."
   ]
  },
  {
   "cell_type": "markdown",
   "metadata": {},
   "source": [
    "## Installing `Qt Designer`"
   ]
  },
  {
   "cell_type": "markdown",
   "metadata": {},
   "source": [
    "The installation process of `Qt Designer` is similar to any other application.\n",
    "\n",
    "1. Go to: https://build-system.fman.io/qt-designer-download\n",
    "2. Click either the `Windows` or `Mac` option. Depending on your computer's Operating System\n",
    "3. Select a location for the Qt Setup Application `.exe` to be downloaded\n",
    "4. Double click on the Qt Setup Application `.exe` and follow its installation procedure\n",
    "5. Check that you have `Qt Designer` installed after the installation has completed"
   ]
  },
  {
   "cell_type": "markdown",
   "metadata": {},
   "source": [
    "## Building `main_window.ui` with `Qt Designer`"
   ]
  },
  {
   "cell_type": "markdown",
   "metadata": {},
   "source": [
    "### Defining the GUI\n",
    "First, open `Qt Designer`. The following window and prompts will appear:\n",
    "\n",
    "![Opening Qt-designer](asset/img/qt-designer.png)\n",
    "\n",
    "Choose `Widget` under the `template\\forms` prompt and press the `Create` Button to begin designing `main_window.ui`. \n",
    "\n",
    "This is simply a starting template of our GUI, but it is important as the `Widget` option will later be used to inform `app.py` of the type of GUI being inherited. "
   ]
  },
  {
   "cell_type": "markdown",
   "metadata": {},
   "source": [
    "### Defining the `Widgets` inside the GUI\n",
    "Second, start designing the `main_window.ui` GUI as shown in the image below:\n",
    "\n",
    "![main_window.ui](asset/img/qt-designer-gui.png)\n",
    "\n",
    "To 'design' the GUI, simply **drag and drop** the appropriate **type** of `Widget` from the left side-bar called `Widget Box` into the GUI `Widget`. This does imply that our GUI is a `Widget` (because we specify it as such in the `template\\forms` option) containing `Widgets`. \n",
    "\n",
    "For convenience, the **type** of the widget used to make the GUI shown above has ben annotated with <font color='red'>red boxes and numbers</font> to show where to find each **type** of `Widgets` used to build the GUI.\n",
    "\n",
    "For each `Widget` being dragged and dropped into the GUI, remember to **name them accordingly** in the <font color='blue'>Property Box (blue box)</font>. \n",
    "\n",
    "These actions correspond to what were meant by:\n",
    "\n",
    "> 1. Defining each widget objects' and their names within the GUI\n",
    "> 2. Defining the location, size and other physical attributes of each widgets\n",
    "\n",
    "Also, do refer to the  <font color='orange'>Object Inspector (yellow box)</font> in the `main_window.ui` image for a list of the **names of the widget** and their associated `Widget` **type**.\n",
    "\n",
    "For example: name (Object): `SMA1CheckBox`, class (type): `QCheckBox`\n",
    "\n",
    "This Stock Chart Application also has its window **fixed to a specific size**. This can be done by specifying the following properties in the <font color='blue'>Property Box</font> of the `UI Form` <font color='orange'>(found in the Object Inspector)</font>: \n",
    "\n",
    "1. Set `geometry` to: `[(0, 0), 1120 x 950]`\n",
    "2. Set `sizePolicy` to: `[Fixed, Fixed, 0, 0]`\n",
    "\n",
    "Finally, save the `main_window.ui` file by pressing: `File > Save As` option on the top left hand corner of the window."
   ]
  },
  {
   "cell_type": "markdown",
   "metadata": {},
   "source": [
    "## Installing PyQt5"
   ]
  },
  {
   "cell_type": "markdown",
   "metadata": {},
   "source": [
    "Installing `PyQt5` is similar to installing any other python packages using `PIP`. Simply run the following command from the computer's terminal:\n",
    "```\n",
    "pip install PyQt5\n",
    "```\n",
    "`PyQt5` is a package comprising a comprehensive set of Python bindings for `Qt Designer v5`. As part of its package, it comes with a utility script called `pyuic5` which will be used to compile `.ui` files created using `Qt Designer` into a `.py` python module file."
   ]
  },
  {
   "cell_type": "markdown",
   "metadata": {},
   "source": [
    "## Compiling `main_window.ui` into `main_window.py`"
   ]
  },
  {
   "cell_type": "markdown",
   "metadata": {},
   "source": [
    "To compile the `main_window.ui` file into `main_window.py`, simply run the following command from the computer's terminal:\n",
    "\n",
    "```\n",
    "pyuic5 -x -o .\\src\\main_window.py .\\src\\main_window.ui\n",
    "```\n",
    "\n",
    "- The two flags `-x -o` are **required** for the program to work.\n",
    "- The two arguments passed are also **required** as they are the `output` file path and the `input` file path.\n",
    "\n",
    "Note: the two file paths assume that the command is run from the `root` directory and the `main_window.ui` file is saved in a directory called `src`."
   ]
  }
 ],
 "metadata": {
  "kernelspec": {
   "display_name": "Python 3",
   "language": "python",
   "name": "python3"
  },
  "language_info": {
   "codemirror_mode": {
    "name": "ipython",
    "version": 3
   },
   "file_extension": ".py",
   "mimetype": "text/x-python",
   "name": "python",
   "nbconvert_exporter": "python",
   "pygments_lexer": "ipython3",
   "version": "3.8.3"
  }
 },
 "nbformat": 4,
 "nbformat_minor": 4
}

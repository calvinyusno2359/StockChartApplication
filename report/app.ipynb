{
 "cells": [
  {
   "cell_type": "markdown",
   "metadata": {},
   "source": [
    "# `app.py`"
   ]
  },
  {
   "cell_type": "markdown",
   "metadata": {},
   "source": [
    "While `main_window.py`'s responsibility is to **define the graphics user interface**, `app.py`'s responsibility is to **define the functionalities of the GUI**. This is achieved by doing 2 things:\n",
    "\n",
    "1. Defining `functions` to accomplish certain actions\n",
    "2. Connecting `Widget` actions to these `functions`\n",
    "\n",
    "For example, if we want the `Update Window Button` to plot the stock prices in the GUI's canvas. We will have to create a `function` that plots the graph into the canvas and then connect the `Update Window Button` to this `function`.\n",
    "\n",
    "However, before doing so, `app.py` must first know the `Widget names` defined in `main_window.py`. \n",
    "\n",
    "For example, the `Update Window Button` is actually named: `updateWindowButton`. This name is defined on the previous section, when `main_window.ui` was designed using `Qt Designer` and the `objectName` is specified inside the Property Editor!\n",
    "\n",
    "This is why, on the previous step, it is **recommended** to name the `Widgets` **accordingly!**\n",
    "\n",
    "This section of the report will go through the 3 steps of developing `app.py` + 1 optional step to compile `app.exe`, as summarized in the graphics below.\n",
    "\n",
    "![app.py development process](asset/img/app-process.png)"
   ]
  },
  {
   "cell_type": "markdown",
   "metadata": {},
   "source": [
    "## Inheriting `Widgets` from `main_window.py` "
   ]
  },
  {
   "cell_type": "markdown",
   "metadata": {},
   "source": [
    "The goal of this section is to ensure that `app.py` is **runnable without any error** and shows the **exact same** GUI as if previewing `main_window.ui`.\n",
    "\n",
    "![app.py running correctly](asset/img/gui.png)\n",
    "\n",
    "This result shows that `app.py` has successfully inherited all the properties of `main_window.py`, which includes all the `Widgets` defined when `main_window.ui` was created! These `Widgets` include `updateWindowButton`, `SMA1Checkbox`, `filePathEdit`, etc...\n",
    "\n",
    "To achieve this, simply start from the generic starter code for all `PyQt5` application and then add the following:\n",
    "\n",
    "1. Import `matplotlib`, `PyQt5` and the GUI's Widget class called `UI_Form` from `main_window`\n",
    "2. Pass `QWidget` and `UI_Form` as argument to `Main` class to specify inheritance from `QWidget` and `UI_Form` class\n",
    "3. Call the superclass' (`UI_Form`) initializing function and setup function\n",
    "4. Finally, after the inherited GUI has been initialized, it is still possible to add other `Widgets` programmatically as well\n",
    "\n",
    "This is exactly shown in the code below, running them should result in the image shown above:"
   ]
  },
  {
   "cell_type": "code",
   "execution_count": null,
   "metadata": {},
   "outputs": [],
   "source": [
    "import sys\n",
    "from pathlib import Path\n",
    "from datetime import datetime\n",
    "\n",
    "# Step 1\n",
    "# standard matplotlib import statements\n",
    "import matplotlib.pyplot as plt\n",
    "import matplotlib.dates as mdates\n",
    "\n",
    "# import matplotlib backend for Qt5\n",
    "from matplotlib.backends.backend_qt5agg import FigureCanvasQTAgg as FigureCanvas\n",
    "from matplotlib.backends.backend_qt5agg import NavigationToolbar2QT as NavigationToolbar\n",
    "\n",
    "# standard PyQt5 import statements\n",
    "from PyQt5 import QtCore as qtc\n",
    "from PyQt5 import QtWidgets as qtw\n",
    "\n",
    "# importing the class to be inherited from\n",
    "from main_window import Ui_Form\n",
    "\n",
    "# importing StockData processing module\n",
    "from stock_data import StockData\n",
    "\n",
    "class Main(qtw.QWidget, Ui_Form): # Step 2\n",
    "    def __init__(self):\n",
    "        # Step 3\n",
    "        # calling Ui_Form's initializing and setup function\n",
    "        super().__init__()\n",
    "        self.setupUi(self)\n",
    "        self.setWindowTitle(\"Stock Chart & Moving Average Application\")\n",
    "\n",
    "        # Step 4\n",
    "        # sets up figure to plot on, instantiates canvas and toolbar\n",
    "        self.figure, self.ax = plt.subplots()\n",
    "        self.canvas = FigureCanvas(self.figure)\n",
    "        self.toolbar = NavigationToolbar(self.canvas, self)\n",
    "\n",
    "        # attaches the toolbar and canvas to the canvas layout\n",
    "        self.canvasLayout.addWidget(self.toolbar)\n",
    "        self.canvasLayout.addWidget(self.canvas)\n",
    "        \n",
    "        # sets up a scroll area to display GUI statuses\n",
    "        self.scrollWidget = qtw.QWidget()\n",
    "        self.scrollLayout = qtw.QVBoxLayout()\n",
    "        self.scrollWidget.setLayout(self.scrollLayout)\n",
    "        self.scrollArea.setWidget(self.scrollWidget)\n",
    "\n",
    "if __name__ == \"__main__\":\n",
    "    app = qtw.QApplication([])\n",
    "    main = Main()\n",
    "    main.show()\n",
    "    sys.exit(app.exec_())"
   ]
  },
  {
   "cell_type": "markdown",
   "metadata": {},
   "source": [
    "> *Learning Point: Inheriting `Widgets` from `main_window.py`*\n",
    "\n",
    "> *When `main_window.ui` is converted into `main_window.py` using `pyuic5`, the `Widget` class called `Ui_Form` is created.*\n",
    "> *This `Ui_Form` class has access to all the `Widgets` previously defined inside `main_window.ui` using `Qt Designer`!*\n",
    "> *They're accessible to `Ui_Form` as regular python `Attributes`. e.g: `self.updateWindowButton`, etc...*\n",
    "> *Thus, by inheriting from `Ui_Form`, `app.py`'s `Main` class can also access these `Widgets` through its `Attributes`.*\n",
    "> *LIkewise, `functions` defined in `Ui_Form` are also inherited and accessible to `Main`*."
   ]
  },
  {
   "cell_type": "markdown",
   "metadata": {},
   "source": [
    "> *Learning Point: Defining & Adding `Widgets` programmatically*\n",
    "\n",
    "> *Sometimes, it is more convenient to define `Widgets` programmatically then through `Qt Designer`.*\n",
    "> *As shown from the code snippet above, this is also possible and uses the **exact same core principles** as in `main_window.py`*\n",
    "> 1. *Defining each `Widget` objects' and their names within the GUI.*\n",
    "> *Exemplified with lines such as:*\n",
    "> *`self.canvas = FigureCanvas(self.figure)` or similar instantiation line: `button = QPushButton('Button Name', self)`*\n",
    "> 2. *Defining the location, size and other physical attributes of each `Widgets`.*\n",
    "> *Exemplified with lines such as:*\n",
    "> *`self.canvasLayout.addWidget(self.canvas)`*"
   ]
  },
  {
   "cell_type": "markdown",
   "metadata": {},
   "source": [
    "Now that `app.py` is able to access the `Widgets` defined in `main_window.py` by means of Python inheritance. It is now possible to implement `app.py`'s main responsibility:\n",
    "\n",
    "> 1. Defining `functions` to accomplish certain actions\n",
    "> 2. Connecting `Widget` actions to these `functions`"
   ]
  },
  {
   "cell_type": "markdown",
   "metadata": {},
   "source": [
    "## Defining `functions` in `app.py`"
   ]
  },
  {
   "cell_type": "markdown",
   "metadata": {},
   "source": [
    "Before defining the `functions` in `app.py`, it is important to first be aware of the scope of each `functions` needed to execute the app's entire process. By referring to the User Manual's 5-step guide, it is possible to breakdown the entire app's functionalities into 3 major functions + 2 minor functions:\n",
    "\n",
    "1. `load_data(self)` : invoked when `Load CSV File Button` is pressed\n",
    "\n",
    "> loads stock data .csv from inputted filepath string on the GUI as StockData object,\n",
    "> also autocompletes all inputs using information provided by the csv.\n",
    "> (Handles the actions from Step 1-2 of User Manual).\n",
    "\n",
    "2. `update_canvas(self)` : invoked when `Load Update Window Button` is pressed\n",
    "\n",
    "> creates a datetime object from the inputted date string of format YYYY-MM-DD.\n",
    "> uses it to slice a copy of loaded stock_data to be used to update graphics.\n",
    "> checks checkboxes first to see if SMA1, SMA2, Buy and Sell plots need to be drawn.\n",
    "> finally, updates graphic accordingly.\n",
    "> (Handles the actions from Step 3-5 of User Manual).\n",
    "\n",
    "3. `plot_graph(self, column_headers, formats)` : invoked when `update_canvas function` is called\n",
    "\n",
    "> plots graphs specified under columnd_headers using the formats specified\n",
    "> (Helps to handle the action from Step 5 of User Manual).\n",
    "\n",
    "4. `report(self, string)` : invoked when any of the 3 major functions are called\n",
    "\n",
    "> given a report (string), update the scroll area with this report\n",
    "\n",
    "5. `center(self)` : invoked `__init__(self)` is called (i.e. during the startup of app)\n",
    "\n",
    "> centers the fixed main window size according to user screen size\n",
    "\n",
    "The following part of the report will attempt to explain each of these 5 functions in detail. However, due to space limitation and the need for conciseness, only **parts of the code with its line number will be referenced!** We highly recommend that readers refer to the **full code in the Appendix or the python file itself should it become necessary**."
   ]
  },
  {
   "cell_type": "markdown",
   "metadata": {},
   "source": [
    "### `load_data(self)`"
   ]
  },
  {
   "cell_type": "markdown",
   "metadata": {},
   "source": [
    "First, this function attempts to parse the `text` specified by user in the `Line Edit Widget` called `filePathEdit `for a `filepath` .\n",
    "\n",
    "```\n",
    "102 filepath = Path(self.filePathEdit.text())\n",
    "```\n",
    "\n",
    "> *Learning Point: Getting `Line Edit Widget` Value*\n",
    "\n",
    "> *To extract the `string` value from `Line Edit Widget`, use: `.text()` method*\n",
    "\n",
    " The parsing of this `filepath` is outsourced to Python's `pathlib` library.\n",
    "\n",
    "> *Learning Point: Using `Path` from `pathlib` to parse `filepath`*\n",
    "\n",
    "> *To parse the `filepath` from `string`, simply use the standard python `pathlib`.*\n",
    "> *Instantiate a `Path` object by passing the `string` as follows: `Path(string)`.*\n",
    "> *This guarantees that the resultant `filepath` follows the proper format that the computer OS uses.*"
   ]
  },
  {
   "cell_type": "markdown",
   "metadata": {},
   "source": [
    "Next, it will attempt to instantiate a `StockData` data object using this `filepath`. However, to prevent crashes due to invalid `filepath` or `.csv` file, it is important to wrap the previous instantiation line with a `try... except...`.\n",
    "\n",
    "```\n",
    "104 try:\n",
    "105 \tself.stock_data = StockData(filepath)\n",
    "...\n",
    "121 except IOError as e:\n",
    "122 \tself.report(f\"Filepath provided is invalid or fail to open .csv file. {e}\")\n",
    "123 \n",
    "124 except TypeError as e:\n",
    "125 \tself.report(f\"The return tuple is probably (nan, nan) because .csv is empty\")\n",
    "```\n",
    "Each of this `except` corresponds to the the errors mentioned in the function's docstring line 96 to 100.\n",
    "\n",
    "> *Learning Point: Preventing Crashes with `try... except...`*\n",
    "\n",
    "> *To prevent crashes, simply encapsulate the line inside a `try... except...`.*\n",
    "> *Each type of error can then be handled individually.*"
   ]
  },
  {
   "cell_type": "markdown",
   "metadata": {},
   "source": [
    "Once `StockData` has been initialized, the function attempts to get the `start_date` and `end_date` of the `stock_data` by `StockData`'s method called `get_period()`.\n",
    "\n",
    "```\n",
    "106 \tstart_date, end_date = self.stock_data.get_period()\n",
    "107 \tperiod = f\"{start_date} to {end_date}\"\n",
    "```\n",
    "\n",
    "Finally, the function will attempt to 'auto-complete' the various `Widgets` using information such as the `start_date` and `end_date`.\n",
    "\n",
    "```\n",
    "109 \t# auto-complete feauture\n",
    "110 \tself.startDateEdit.setText(start_date)\n",
    "111 \tself.endDateEdit.setText(end_date)\n",
    "112 \tself.periodEdit.setText(period)\n",
    "113 \tself.SMA1Edit.setText(\"15\")\n",
    "114 \tself.SMA2Edit.setText(\"50\")\n",
    "115 \tself.SMA1Checkbox.setChecked(False)\n",
    "116 \tself.SMA2Checkbox.setChecked(False)\n",
    "```\n",
    "\n",
    "> *Learning Point: Setting `Widget` Values Programmatically.*\n",
    "\n",
    "> *To set values to `Widgets` there are various methods specific to each type of `Widget`.*\n",
    "> *`Line Edit Widget` uses `.setText(string)` whereas `Checkbox Widget` uses `.setChecked(bool)`.*"
   ]
  },
  {
   "cell_type": "markdown",
   "metadata": {},
   "source": [
    "### `update_canvas(self)`"
   ]
  },
  {
   "cell_type": "markdown",
   "metadata": {},
   "source": []
  },
  {
   "cell_type": "markdown",
   "metadata": {},
   "source": [
    "### `plot_graph(self, column_headers, formats)`"
   ]
  },
  {
   "cell_type": "markdown",
   "metadata": {},
   "source": [
    "### `report(self, string)`"
   ]
  },
  {
   "cell_type": "markdown",
   "metadata": {},
   "source": [
    "### `center(self)`"
   ]
  },
  {
   "cell_type": "markdown",
   "metadata": {},
   "source": [
    "## Connecting `Widget` actions to `functions`"
   ]
  },
  {
   "cell_type": "markdown",
   "metadata": {},
   "source": [
    "Fortunately, connecting `Widget` actions to `functions`are much simpler than defining the `functions`. These are all done inside the `__init__(self)` function. i.e. The app will attempt to connect these functions when it is first initialized/started by the user. \n",
    "\n",
    "The method used to connect `Widgets` to `functions` is: `Widget.connect(function)`\n",
    "\n",
    "Simply add the following code to the the starter code given in section: \"Inheriting `Widgets` from `main_window.py`\" to complete `app.py`."
   ]
  },
  {
   "cell_type": "markdown",
   "metadata": {},
   "source": [
    "#### `__ init __(self)`\n",
    "\n",
    "```\n",
    "...\n",
    "81 # button & checkbox connections\n",
    "82 self.loadCSVButton.clicked.connect(self.load_data)\n",
    "83 self.updateWindowButton.clicked.connect(self.update_canvas)\n",
    "84 self.SMA1Checkbox.stateChanged.connect(self.update_canvas)\n",
    "85 self.SMA2Checkbox.stateChanged.connect(self.update_canvas)\n",
    "86 \n",
    "87 # auto-complete feauture\n",
    "88 self.filePathEdit.setText(\"../data/GOOG.csv\")\n",
    "```"
   ]
  },
  {
   "cell_type": "markdown",
   "metadata": {},
   "source": [
    "> *Learning Point: Connecting `Widgets` to `Functions`*\n",
    "\n",
    "> *To connect `Widgets` to `functions` use the following method: `Widget.connect(function)`.*\n",
    "> *This ensures that when users interact with the `Widget` e.g. by pressing `Button`, checking `Checkbox`, etc..., it will trigger the appropriate functions*"
   ]
  },
  {
   "cell_type": "markdown",
   "metadata": {},
   "source": [
    "## (Optional) Compiling `app.exe`"
   ]
  },
  {
   "cell_type": "markdown",
   "metadata": {},
   "source": [
    "To compile `app.py` application into an executable, first install `pysinstaller` using `PIP` by running the following command:\n",
    "```\n",
    "pip install pyinstaller\n",
    "```\n",
    "\n",
    "Having installed `pyinstaller`, then use the following command from `root` folder:\n",
    "```\n",
    "pyinstaller .\\src\\app.py -F\n",
    "```\n",
    "The `app.exe` file can be found inside the `dist` folder. \n",
    "\n",
    "Note: the above command assumes that all source code (such as `app.py`, `stock_data_py` and `main_window.py`) are all found inside the `src` folder!\n",
    "\n",
    "`app.exe` is a binary executable file for Windows (not Mac!). It allows users to simply double-click this file to start the application without requiring installation of any python modules at all.\n",
    "\n",
    "> *Learning Point: Compiling Python Modules into an `.exe`*\n",
    "\n",
    "> *PyInstaller is a standard package to bundle a Python application and all of its dependencies into a single executable.* \n",
    "> *The user can then run the packaged app without installing a Python interpreter or any modules.*\n",
    "> *However, this is only possible for Windows!*"
   ]
  },
  {
   "cell_type": "markdown",
   "metadata": {},
   "source": [
    "![The End](asset/img/the-end.png)"
   ]
  }
 ],
 "metadata": {
  "kernelspec": {
   "display_name": "Python 3",
   "language": "python",
   "name": "python3"
  },
  "language_info": {
   "codemirror_mode": {
    "name": "ipython",
    "version": 3
   },
   "file_extension": ".py",
   "mimetype": "text/x-python",
   "name": "python",
   "nbconvert_exporter": "python",
   "pygments_lexer": "ipython3",
   "version": "3.8.3"
  }
 },
 "nbformat": 4,
 "nbformat_minor": 4
}

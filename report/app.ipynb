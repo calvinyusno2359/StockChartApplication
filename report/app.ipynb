{
 "cells": [
  {
   "cell_type": "markdown",
   "metadata": {},
   "source": [
    "# `app.py`"
   ]
  },
  {
   "cell_type": "markdown",
   "metadata": {},
   "source": [
    "While `main_window.py`'s responsibility is to **define the graphics user interface**, `app.py`'s responsibility is to **define the functionalities of the GUI**. This is achieved by doing 2 things:\n",
    "\n",
    "1. Defining `functions` to accomplish certain actions\n",
    "2. Connecting `Widget` actions to these `functions`\n",
    "\n",
    "For example, if we want the `Update Window Button` to plot the stock prices in the GUI's canvas. We will have to create a `function` that plots the graph into the canvas and then connect the `Update Window Button` to this `function`.\n",
    "\n",
    "However, before doing so, `app.py` must first know the `Widget names` defined in `main_window.py`. \n",
    "\n",
    "For example, the `Update Window Button` is actually named: `updateWindowButton`. This name is defined on the previous section, when `main_window.ui` was designed using `Qt Designer` and the `objectName` is specified inside the Property Editor!\n",
    "\n",
    "This is why, on the previous step, it is **recommended** to name the `Widgets` **accordingly!**\n",
    "\n",
    "This section of the report will go through the 3 steps of developing `app.py` + 1 optional step to compile `app.exe`, as summarized in the graphics below.\n",
    "\n",
    "![app.py development process](asset/img/app-process.png)"
   ]
  },
  {
   "cell_type": "markdown",
   "metadata": {},
   "source": [
    "## Inheriting `Widgets` from `main_window.py` "
   ]
  },
  {
   "cell_type": "markdown",
   "metadata": {},
   "source": [
    "The goal of this section is to ensure that `app.py` is **runnable without any error** and shows the **exact same** GUI as if previewing `main_window.ui`.\n",
    "\n",
    "![app.py running correctly](asset/img/gui.png)\n",
    "\n",
    "This result shows that `app.py` has successfully inherited all the properties of `main_window.py`, which includes all the `Widgets` defined when `main_window.ui` was created! These `Widgets` include `updateWindowButton`, `SMA1Checkbox`, `filePathEdit`, etc...\n",
    "\n",
    "To achieve this, simply start from the generic starter code for all `PyQt5` application and then add the following:\n",
    "\n",
    "1. Import `matplotlib`, `PyQt5` and the GUI's Widget class called `UI_Form` from `main_window`\n",
    "2. Pass `QWidget` and `UI_Form` as argument to `Main` class to specify inheritance from `QWidget` and `UI_Form` class\n",
    "3. Call the superclass' (`UI_Form`) initializing function and setup function\n",
    "4. Finally, after the inherited GUI has been initialized, add the `canvas` and `toolbar` widget to the `canvasLayout`\n",
    "\n",
    "This is exactly shown in the code below, running them should result in the image shown above:"
   ]
  },
  {
   "cell_type": "code",
   "execution_count": null,
   "metadata": {},
   "outputs": [],
   "source": [
    "import sys\n",
    "from pathlib import Path\n",
    "from datetime import datetime\n",
    "\n",
    "# Step 1\n",
    "# standard matplotlib import statements\n",
    "import matplotlib.pyplot as plt\n",
    "import matplotlib.dates as mdates\n",
    "\n",
    "# import matplotlib backend for Qt5\n",
    "from matplotlib.backends.backend_qt5agg import FigureCanvasQTAgg as FigureCanvas\n",
    "from matplotlib.backends.backend_qt5agg import NavigationToolbar2QT as NavigationToolbar\n",
    "\n",
    "# standard PyQt5 import statements\n",
    "from PyQt5 import QtCore as qtc\n",
    "from PyQt5 import QtWidgets as qtw\n",
    "\n",
    "# importing the class to be inherited from\n",
    "from main_window import Ui_Form\n",
    "\n",
    "# importing StockData processing module\n",
    "from stock_data import StockData\n",
    "\n",
    "class Main(qtw.QWidget, Ui_Form): # Step 2\n",
    "    def __init__(self):\n",
    "        # Step 3\n",
    "        # calling Ui_Form's initializing and setup function\n",
    "        super().__init__()\n",
    "        self.setupUi(self)\n",
    "        self.setWindowTitle(\"Stock Chart & Moving Average Application\")\n",
    "\n",
    "        # Step 4\n",
    "        # sets up figure to plot on, instantiates canvas and toolbar\n",
    "        self.figure, self.ax = plt.subplots()\n",
    "        self.canvas = FigureCanvas(self.figure)\n",
    "        self.toolbar = NavigationToolbar(self.canvas, self)\n",
    "\n",
    "        # attaches the toolbar and canvas to the canvas layout\n",
    "        self.canvasLayout.addWidget(self.toolbar)\n",
    "        self.canvasLayout.addWidget(self.canvas)\n",
    "\n",
    "if __name__ == \"__main__\":\n",
    "    app = qtw.QApplication([])\n",
    "    main = Main()\n",
    "    main.show()\n",
    "    sys.exit(app.exec_())"
   ]
  },
  {
   "cell_type": "markdown",
   "metadata": {},
   "source": [
    "> *Learning Point: Inheriting `Widgets` from `main_window.py`*\n",
    "\n",
    "> *When `main_window.ui` is converted into `main_window.py` using `pyuic5`, the `Widget` class called `Ui_Form` is created.*\n",
    "> *This `Ui_Form` class has access to all the `Widgets` previously defined inside `main_window.ui` using `Qt Designer`!*\n",
    "> *They're accessible to `Ui_Form` as regular python `Attributes`. e.g: `self.updateWindowButton`, etc...*\n",
    "> *Thus, by inheriting from `Ui_Form`, `app.py`'s `Main` class can also access these `Widgets` through its `Attributes`.*\n",
    "> *LIkewise, `functions` defined in `Ui_Form` are also inherited and accessible to `Main`*."
   ]
  },
  {
   "cell_type": "markdown",
   "metadata": {},
   "source": [
    "> *Learning Point: Defining & Adding `Widgets` programmatically*\n",
    "\n",
    "> *Sometimes, it is more convenient to define `Widgets` programmatically then through `Qt Designer`.*\n",
    "> *As shown from the code snippet above, this is also possible and uses the **exact same core principles** as in `main_window.py`*\n",
    "> 1. *Defining each `Widget` objects' and their names within the GUI.*\n",
    "> *Exemplified with lines such as:*\n",
    "> *`self.canvas = FigureCanvas(self.figure)` or similar instantiation line: `button = QPushButton('Button Name', self)`*\n",
    "> 2. *Defining the location, size and other physical attributes of each `Widgets`.*\n",
    "> *Exemplified with lines such as:*\n",
    "> *`self.canvasLayout.addWidget(self.canvas)`*"
   ]
  },
  {
   "cell_type": "markdown",
   "metadata": {},
   "source": [
    "Now that `app.py` is able to access the `Widgets` defined in `main_window.py` by means of Python inheritance. It is now possible to implement `app.py`'s main responsibility:\n",
    "\n",
    "> 1. Defining `functions` to accomplish certain actions\n",
    "> 2. Connecting `Widget` actions to these `functions`"
   ]
  },
  {
   "cell_type": "markdown",
   "metadata": {},
   "source": [
    "## Defining `functions` in `app.py`"
   ]
  },
  {
   "cell_type": "markdown",
   "metadata": {},
   "source": [
    "Before defining the `functions` in `app.py`, it is important to first be aware of the scope of each `functions` needed to execute the app's entire process. By referring to the User Manual's 5-step guide, it is possible to breakdown the entire app's functionalities into 3 major functions + 2 minor functions:\n",
    "\n",
    "1. `load_data(self)` : invoked when `Load CSV File Button` is pressed\n",
    "\n",
    "> loads stock data .csv from inputted filepath string on the GUI as StockData object,\n",
    "> also autocompletes all inputs using information provided by the csv.\n",
    "> (Handles the actions from Step 1-2 of User Manual).\n",
    "\n",
    "2. `update_canvas(self)` : invoked when `Load Update Window Button` is pressed\n",
    "\n",
    "> creates a datetime object from the inputted date string of format YYYY-MM-DD.\n",
    "> uses it to slice a copy of loaded stock_data to be used to update graphics.\n",
    "> checks checkboxes first to see if SMA1, SMA2, Buy and Sell plots need to be drawn.\n",
    "> finally, updates graphic accordingly.\n",
    "> (Handles the actions from Step 3-5 of User Manual).\n",
    "\n",
    "3. `plot_graph(self, column_headers, formats)` : invoked when `update_canvas function` is called\n",
    "\n",
    "> plots graphs specified under columnd_headers using the formats specified\n",
    "> (Helps to handle the action from Step 5 of User Manual).\n",
    "\n",
    "4. `report(self, string)` : invoked when any of the 3 major functions are called\n",
    "\n",
    "> given a report (string), update the scroll area with this report\n",
    "\n",
    "5. `center(self)` : invoked `__init__(self)` is called (i.e. during the startup of app)\n",
    "\n",
    "> centers the fixed main window size according to user screen size"
   ]
  },
  {
   "cell_type": "code",
   "execution_count": 53,
   "metadata": {
    "scrolled": false
   },
   "outputs": [],
   "source": [
    "import sys\n",
    "sys.path.insert(1, '../src')\n",
    "\n",
    "from app import Main\n",
    "import inspect # standard library used later to get info about the source code\n",
    "\n",
    "def beautify(code): # prints 'line code' with 2 less indent and without the def header\n",
    "    codeline = lambda code, start : [(start + 1 + i, code[i]) for i in range(len(code))]\n",
    "    print(\"\".join([f\"{line} {text[2:]}\" if len(text) > 1 else f\"{line} {text}\" for line, text in codeline(code[0][1:], code[1])]))"
   ]
  },
  {
   "cell_type": "markdown",
   "metadata": {},
   "source": [
    "### `load_data(self)`"
   ]
  },
  {
   "cell_type": "markdown",
   "metadata": {},
   "source": [
    "`loda_data` is relatively simple function. \n",
    "\n",
    "First and foremost,"
   ]
  },
  {
   "cell_type": "code",
   "execution_count": 54,
   "metadata": {
    "scrolled": false
   },
   "outputs": [
    {
     "name": "stdout",
     "output_type": "stream",
     "text": [
      "91 \"\"\"\n",
      "92 loads stock data .csv from inputted filepath string on the GUI\n",
      "93 as StockData object, also autocompletes all inputs\n",
      "94 using information provided by the csv.\n",
      "95 \n",
      "96 Error handling\n",
      "97 \tinvalid filepath :\n",
      "98 \t\tempty filepath or file could not be found.\n",
      "99 \tinvalid .csv :\n",
      "100 \t\t.csv file is empty, missing date column, etc.\n",
      "101 \"\"\"\n",
      "102 filepath = Path(self.filePathEdit.text())\n",
      "103 \n",
      "104 try:\n",
      "105 \tself.stock_data = StockData(filepath)\n",
      "106 \tstart_date, end_date = self.stock_data.get_period()\n",
      "107 \tperiod = f\"{start_date} to {end_date}\"\n",
      "108 \n",
      "109 \t# auto-complete feauture\n",
      "110 \tself.startDateEdit.setText(start_date)\n",
      "111 \tself.endDateEdit.setText(end_date)\n",
      "112 \tself.periodEdit.setText(period)\n",
      "113 \tself.SMA1Edit.setText(\"15\")\n",
      "114 \tself.SMA2Edit.setText(\"50\")\n",
      "115 \tself.SMA1Checkbox.setChecked(False)\n",
      "116 \tself.SMA2Checkbox.setChecked(False)\n",
      "117 \n",
      "118 \tself.report(f\"Data loaded from {filepath}; period auto-selected: {start_date} to {end_date}.\")\n",
      "119 \tprint(self.stock_data.data)\n",
      "120 \n",
      "121 except IOError as e:\n",
      "122 \tself.report(f\"Filepath provided is invalid or fail to open .csv file. {e}\")\n",
      "123 \n",
      "124 except TypeError as e:\n",
      "125 \tself.report(f\"The return tuple is probably (nan, nan) because .csv is empty\")\n",
      "\n"
     ]
    }
   ],
   "source": [
    "beautify(inspect.getsourcelines(Main.load_data))"
   ]
  },
  {
   "cell_type": "markdown",
   "metadata": {},
   "source": [
    "### `update_canvas(self)`"
   ]
  },
  {
   "cell_type": "code",
   "execution_count": 55,
   "metadata": {
    "scrolled": false
   },
   "outputs": [
    {
     "name": "stdout",
     "output_type": "stream",
     "text": [
      "128 \"\"\"\n",
      "129 creates a datetime object from the inputted date string\n",
      "130 of format YYYY-MM-DD. uses it to slice a copy of loaded\n",
      "131 stock_data to be used to update graphics. checks\n",
      "132 checkboxes first to see if SMA1, SMA2, Buy and Sell plots\n",
      "133 need to be drawn. finally, updates graphic accordingly.\n",
      "134 \n",
      "135 Error handling\n",
      "136 invalid date format:\n",
      "137 \tdate format inside the .csv file is not YYYY-MM-DD\n",
      "138 non-existent stock_data :\n",
      "139 \tthe selected range results in an empty dataframe\n",
      "140 \tor end date < start date\n",
      "141 non-existent data point :\n",
      "142 \tdata of that date does not exist,\n",
      "143 \tor maybe because it is Out-Of-Bound\n",
      "144 raised exceptions :\n",
      "145 \tSMA1 and SMA2 values are the same,\n",
      "146 \tor other exceptions raised\n",
      "147 \"\"\"\n",
      "148 self.ax.clear()\n",
      "149 self.date_format = '%Y-%m-%d'\n",
      "150 \n",
      "151 try:\n",
      "152 \tstart_date = str(datetime.strptime(self.startDateEdit.text(), self.date_format).date())\n",
      "153 \tend_date = str(datetime.strptime(self.endDateEdit.text(), self.date_format).date())\n",
      "154 \tperiod = f\"{start_date} to {end_date}\"\n",
      "155 \tself.periodEdit.setText(period)\n",
      "156 \n",
      "157 \t# builds a list of graphs to plot by checking the tickboxes\n",
      "158 \tcolumn_headers = ['Close']\n",
      "159 \tformats = ['k-']\n",
      "160 \n",
      "161 \tif self.SMA1Checkbox.isChecked():\n",
      "162 \t\tself.stock_data._calculate_SMA(int(self.SMA1Edit.text()))\n",
      "163 \t\tcolumn_headers.append(f\"SMA{self.SMA1Edit.text()}\")\n",
      "164 \t\tformats.append('b-')\n",
      "165 \tif self.SMA2Checkbox.isChecked():\n",
      "166 \t\tself.stock_data._calculate_SMA(int(self.SMA2Edit.text()))\n",
      "167 \t\tcolumn_headers.append(f\"SMA{self.SMA2Edit.text()}\")\n",
      "168 \t\tformats.append('c-')\n",
      "169 \tif len(column_headers) == 3:\n",
      "170 \t\tself.stock_data._calculate_crossover(column_headers[1], column_headers[2], column_headers[1])\n",
      "171 \t\tcolumn_headers.append('Sell')\n",
      "172 \t\tformats.append('rv')\n",
      "173 \t\tcolumn_headers.append('Buy')\n",
      "174 \t\tformats.append('g^')\n",
      "175 \n",
      "176 \tself.selected_stock_data = self.stock_data.get_data(start_date, end_date)\n",
      "177 \tself.plot_graph(column_headers, formats)\n",
      "178 \n",
      "179 \tself.report(f\"Plotting {column_headers} data from period: {start_date} to {end_date}.\")\n",
      "180 \tprint(self.selected_stock_data)\n",
      "181 \n",
      "182 except ValueError as e:\n",
      "183 \tself.report(f\"Time period has not been specified or does not match YYYY-MM-DD format, {e}.\")\n",
      "184 \n",
      "185 except AssertionError as e:\n",
      "186 \tself.report(f\"Selected range is empty, {e}\")\n",
      "187 \n",
      "188 except KeyError as e:\n",
      "189 \tself.report(f\"Data for this date does not exist: {e}\")\n",
      "190 \n",
      "191 except Exception as e:\n",
      "192 \tself.report(f\"Exception encountered: {e}\")\n",
      "\n"
     ]
    }
   ],
   "source": [
    "beautify(inspect.getsourcelines(Main.update_canvas))"
   ]
  },
  {
   "cell_type": "markdown",
   "metadata": {},
   "source": [
    "### `plot_graph(self, column_headers, formats)`"
   ]
  },
  {
   "cell_type": "code",
   "execution_count": 56,
   "metadata": {},
   "outputs": [
    {
     "name": "stdout",
     "output_type": "stream",
     "text": [
      "195 \"\"\"\n",
      "196 plots graphs specified under columnd_headers using the formats\n",
      "197 \n",
      "198 Parameters\n",
      "199 column_headers : [str, str, ...]\n",
      "200 \ta list containing column header names with data to be plotted\n",
      "201 formats : [str, str, ...]\n",
      "202 \ta list of matplotlib built-in style strings to indicate\n",
      "203 \twhether to plot line or scatterplot and the colours\n",
      "204 \tcorresponding to each value in col_headers\n",
      "205 \t(hence, must be same length)\n",
      "206 \n",
      "207 Error handling\n",
      "208 empty dataframe :\n",
      "209 \tselected dataframe is empty\n",
      "210 \"\"\"\n",
      "211 self.ax.clear()\n",
      "212 assert not self.selected_stock_data.empty\n",
      "213 \n",
      "214 # matplotlib has its own internal representation of datetime\n",
      "215 # date2num converts datetime.datetime to this internal representation\n",
      "216 x_data = list(mdates.date2num(\n",
      "217                               [datetime.strptime(dates, self.date_format).date()\n",
      "218                               for dates in self.selected_stock_data.index.values]\n",
      "219                               ))\n",
      "220 \n",
      "221 colors = ['black', 'blue', 'orange', 'red', 'green']\n",
      "222 for i in range(len(column_headers)):\n",
      "223 \tif column_headers[i] in self.selected_stock_data.columns:\n",
      "224 \t\ty_data = list(self.selected_stock_data[column_headers[i]])\n",
      "225 \t\tself.ax.plot(x_data, y_data, formats[i], label=column_headers[i], color=colors[i])\n",
      "226 \t\tself.report(f\"{column_headers[i]} data is being plotted.\")\n",
      "227 \telse: self.report(f\"{column_headers[i]} data does not exist.\")\n",
      "228 \n",
      "229 # formatting\n",
      "230 months_locator = mdates.MonthLocator()\n",
      "231 months_format = mdates.DateFormatter('%b %Y')\n",
      "232 self.ax.xaxis.set_major_locator(months_locator)\n",
      "233 self.ax.xaxis.set_major_formatter(months_format)\n",
      "234 self.ax.format_xdata = mdates.DateFormatter(self.date_format)\n",
      "235 self.ax.format_ydata = lambda y: '$%1.2f' % y\n",
      "236 self.ax.grid(True)\n",
      "237 self.figure.autofmt_xdate()\n",
      "238 self.figure.legend()\n",
      "239 self.figure.tight_layout()\n",
      "240 self.canvas.draw()\n",
      "\n"
     ]
    }
   ],
   "source": [
    "beautify(inspect.getsourcelines(Main.plot_graph))"
   ]
  },
  {
   "cell_type": "markdown",
   "metadata": {},
   "source": [
    "### `report(self, string)`"
   ]
  },
  {
   "cell_type": "code",
   "execution_count": 57,
   "metadata": {
    "scrolled": false
   },
   "outputs": [
    {
     "name": "stdout",
     "output_type": "stream",
     "text": [
      "243 \"\"\"\n",
      "244 given a report (string), update the scroll area with this report\n",
      "245 \n",
      "246 Parameters\n",
      "247 string : str\n",
      "248 \tstring of the report, usually the error message itself.\n",
      "249 \"\"\"\n",
      "250 report_text = qtw.QLabel(string)\n",
      "251 self.scrollLayout.addWidget(report_text)\n",
      "252 print(string)\n",
      "\n"
     ]
    }
   ],
   "source": [
    "beautify(inspect.getsourcelines(Main.report))"
   ]
  },
  {
   "cell_type": "markdown",
   "metadata": {},
   "source": [
    "### `center(self)`"
   ]
  },
  {
   "cell_type": "code",
   "execution_count": 60,
   "metadata": {},
   "outputs": [
    {
     "name": "stdout",
     "output_type": "stream",
     "text": [
      "255 \"\"\"\n",
      "256 centers the fixed main window size according to user screen size\n",
      "257 \"\"\"\n",
      "258 screen = qtw.QDesktopWidget().screenGeometry()\n",
      "259 main_window = self.geometry()\n",
      "260 x = (screen.width() - main_window.width()) / 2\n",
      "261 y = (screen.height() - main_window.height()) / 2 - 50\t# pulls the window up slightly (arbitrary)\n",
      "262 self.setFixedSize(main_window.width(), main_window.height())\n",
      "263 self.move(x, y)\n",
      "\n"
     ]
    }
   ],
   "source": [
    "beautify(inspect.getsourcelines(Main.center))"
   ]
  },
  {
   "cell_type": "markdown",
   "metadata": {},
   "source": [
    "## Connecting `Widget` actions to `functions`"
   ]
  },
  {
   "cell_type": "markdown",
   "metadata": {},
   "source": [
    "blabla"
   ]
  },
  {
   "cell_type": "code",
   "execution_count": 59,
   "metadata": {},
   "outputs": [
    {
     "name": "stdout",
     "output_type": "stream",
     "text": [
      "59 \"\"\"\n",
      "60 initializes and sets up GUI widgets and its connections\n",
      "61 \"\"\"\n",
      "62 super().__init__()\n",
      "63 self.setupUi(self)\n",
      "64 self.setWindowTitle(\"Stock Chart & Moving Average Application\")\n",
      "65 \n",
      "66 # sets up figure to plot on, instantiates canvas and toolbar\n",
      "67 self.figure, self.ax = plt.subplots()\n",
      "68 self.canvas = FigureCanvas(self.figure)\n",
      "69 self.toolbar = NavigationToolbar(self.canvas, self)\n",
      "70 \n",
      "71 # attaches the toolbar and canvas to the canvas layout\n",
      "72 self.canvasLayout.addWidget(self.toolbar)\n",
      "73 self.canvasLayout.addWidget(self.canvas)\n",
      "74 \n",
      "75 # sets up a scroll area to display GUI statuses\n",
      "76 self.scrollWidget = qtw.QWidget()\n",
      "77 self.scrollLayout = qtw.QVBoxLayout()\n",
      "78 self.scrollWidget.setLayout(self.scrollLayout)\n",
      "79 self.scrollArea.setWidget(self.scrollWidget)\n",
      "80 \n",
      "81 # button & checkbox connections\n",
      "82 self.loadCSVButton.clicked.connect(self.load_data)\n",
      "83 self.updateWindowButton.clicked.connect(self.update_canvas)\n",
      "84 self.SMA1Checkbox.stateChanged.connect(self.update_canvas)\n",
      "85 self.SMA2Checkbox.stateChanged.connect(self.update_canvas)\n",
      "86 \n",
      "87 # auto-complete feauture\n",
      "88 self.filePathEdit.setText(\"../data/GOOG.csv\")\n",
      "\n"
     ]
    }
   ],
   "source": [
    "beautify(inspect.getsourcelines(Main.__init__))"
   ]
  },
  {
   "cell_type": "markdown",
   "metadata": {},
   "source": [
    "## (Optional) Compiling `app.exe`"
   ]
  },
  {
   "cell_type": "markdown",
   "metadata": {},
   "source": []
  }
 ],
 "metadata": {
  "kernelspec": {
   "display_name": "Python 3",
   "language": "python",
   "name": "python3"
  },
  "language_info": {
   "codemirror_mode": {
    "name": "ipython",
    "version": 3
   },
   "file_extension": ".py",
   "mimetype": "text/x-python",
   "name": "python",
   "nbconvert_exporter": "python",
   "pygments_lexer": "ipython3",
   "version": "3.8.3"
  }
 },
 "nbformat": 4,
 "nbformat_minor": 4
}

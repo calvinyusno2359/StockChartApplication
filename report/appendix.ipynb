{
 "cells": [
  {
   "cell_type": "markdown",
   "metadata": {},
   "source": [
    "# Appendix"
   ]
  },
  {
   "cell_type": "markdown",
   "metadata": {},
   "source": [
    "## Code Reference"
   ]
  },
  {
   "cell_type": "code",
   "execution_count": 17,
   "metadata": {},
   "outputs": [],
   "source": [
    "import sys\n",
    "sys.path.insert(1, '../src')\n",
    "\n",
    "from app import Main\n",
    "from stock_data import StockData\n",
    "import inspect # standard library used later to get info about the source code\n",
    "\n",
    "def print_code(code): # prints '{line} {code}' with 2 less indent and without the def header\n",
    "    codeline = lambda code, start : [(start + 1 + i, code[i]) for i in range(len(code))]\n",
    "    print(\"\".join([f\"{line} {text[2:]}\" if len(text) > 1 else f\"{line} {text}\" for line, text in codeline(code[0][1:], code[1])]))"
   ]
  },
  {
   "cell_type": "markdown",
   "metadata": {},
   "source": [
    "### `app.py`"
   ]
  },
  {
   "cell_type": "markdown",
   "metadata": {},
   "source": [
    "#### __ init __(self)"
   ]
  },
  {
   "cell_type": "code",
   "execution_count": 18,
   "metadata": {},
   "outputs": [
    {
     "name": "stdout",
     "output_type": "stream",
     "text": [
      "59 \"\"\"\n",
      "60 initializes and sets up GUI widgets and its connections\n",
      "61 \"\"\"\n",
      "62 super().__init__()\n",
      "63 self.setupUi(self)\n",
      "64 self.setWindowTitle(\"Stock Chart & Moving Average Application\")\n",
      "65 \n",
      "66 # sets up figure to plot on, instantiates canvas and toolbar\n",
      "67 self.figure, self.ax = plt.subplots()\n",
      "68 self.canvas = FigureCanvas(self.figure)\n",
      "69 self.toolbar = NavigationToolbar(self.canvas, self)\n",
      "70 \n",
      "71 # attaches the toolbar and canvas to the canvas layout\n",
      "72 self.canvasLayout.addWidget(self.toolbar)\n",
      "73 self.canvasLayout.addWidget(self.canvas)\n",
      "74 \n",
      "75 # sets up a scroll area to display GUI statuses\n",
      "76 self.scrollWidget = qtw.QWidget()\n",
      "77 self.scrollLayout = qtw.QVBoxLayout()\n",
      "78 self.scrollWidget.setLayout(self.scrollLayout)\n",
      "79 self.scrollArea.setWidget(self.scrollWidget)\n",
      "80 \n",
      "81 # button & checkbox connections\n",
      "82 self.loadCSVButton.clicked.connect(self.load_data)\n",
      "83 self.updateWindowButton.clicked.connect(self.update_canvas)\n",
      "84 self.SMA1Checkbox.stateChanged.connect(self.update_canvas)\n",
      "85 self.SMA2Checkbox.stateChanged.connect(self.update_canvas)\n",
      "86 \n",
      "87 # auto-complete feauture\n",
      "88 self.filePathEdit.setText(\"../data/GOOG.csv\")\n",
      "\n"
     ]
    }
   ],
   "source": [
    "print_code(inspect.getsourcelines(Main.__init__))"
   ]
  },
  {
   "cell_type": "markdown",
   "metadata": {},
   "source": [
    "#### `load_data(self)`"
   ]
  },
  {
   "cell_type": "code",
   "execution_count": 19,
   "metadata": {},
   "outputs": [
    {
     "name": "stdout",
     "output_type": "stream",
     "text": [
      "91 \"\"\"\n",
      "92 loads stock data .csv from inputted filepath string on the GUI\n",
      "93 as StockData object, also autocompletes all inputs\n",
      "94 using information provided by the csv.\n",
      "95 \n",
      "96 Error handling\n",
      "97 \tinvalid filepath :\n",
      "98 \t\tempty filepath or file could not be found.\n",
      "99 \tinvalid .csv :\n",
      "100 \t\t.csv file is empty, missing date column, etc.\n",
      "101 \"\"\"\n",
      "102 filepath = Path(self.filePathEdit.text())\n",
      "103 \n",
      "104 try:\n",
      "105 \tself.stock_data = StockData(filepath)\n",
      "106 \tstart_date, end_date = self.stock_data.get_period()\n",
      "107 \tperiod = f\"{start_date} to {end_date}\"\n",
      "108 \n",
      "109 \t# auto-complete feauture\n",
      "110 \tself.startDateEdit.setText(start_date)\n",
      "111 \tself.endDateEdit.setText(end_date)\n",
      "112 \tself.periodEdit.setText(period)\n",
      "113 \tself.SMA1Edit.setText(\"15\")\n",
      "114 \tself.SMA2Edit.setText(\"50\")\n",
      "115 \tself.SMA1Checkbox.setChecked(False)\n",
      "116 \tself.SMA2Checkbox.setChecked(False)\n",
      "117 \n",
      "118 \tself.report(f\"Data loaded from {filepath}; period auto-selected: {start_date} to {end_date}.\")\n",
      "119 \tprint(self.stock_data.data)\n",
      "120 \n",
      "121 except IOError as e:\n",
      "122 \tself.report(f\"Filepath provided is invalid or fail to open .csv file. {e}\")\n",
      "123 \n",
      "124 except TypeError as e:\n",
      "125 \tself.report(f\"The return tuple is probably (nan, nan) because .csv is empty\")\n",
      "\n"
     ]
    }
   ],
   "source": [
    "print_code(inspect.getsourcelines(Main.load_data))"
   ]
  },
  {
   "cell_type": "markdown",
   "metadata": {},
   "source": [
    "#### `update_canvas(self)`"
   ]
  },
  {
   "cell_type": "code",
   "execution_count": 20,
   "metadata": {},
   "outputs": [
    {
     "name": "stdout",
     "output_type": "stream",
     "text": [
      "128 \"\"\"\n",
      "129 creates a datetime object from the inputted date string\n",
      "130 of format YYYY-MM-DD. uses it to slice a copy of loaded\n",
      "131 stock_data to be used to update graphics. checks\n",
      "132 checkboxes first to see if SMA1, SMA2, Buy and Sell plots\n",
      "133 need to be drawn. finally, updates graphic accordingly.\n",
      "134 \n",
      "135 Error handling\n",
      "136 invalid date format:\n",
      "137 \tdate format inside the .csv file is not YYYY-MM-DD\n",
      "138 non-existent stock_data :\n",
      "139 \tthe selected range results in an empty dataframe\n",
      "140 \tor end date < start date\n",
      "141 non-existent data point :\n",
      "142 \tdata of that date does not exist,\n",
      "143 \tor maybe because it is Out-Of-Bound\n",
      "144 raised exceptions :\n",
      "145 \tSMA1 and SMA2 values are the same,\n",
      "146 \tor other exceptions raised\n",
      "147 \"\"\"\n",
      "148 self.date_format = '%Y-%m-%d'\n",
      "149 \n",
      "150 try:\n",
      "151 \tstart_date = str(datetime.strptime(self.startDateEdit.text(), self.date_format).date())\n",
      "152 \tend_date = str(datetime.strptime(self.endDateEdit.text(), self.date_format).date())\n",
      "153 \tperiod = f\"{start_date} to {end_date}\"\n",
      "154 \tself.periodEdit.setText(period)\n",
      "155 \n",
      "156 \t# builds a list of graphs to plot by checking the tickboxes\n",
      "157 \tcolumn_headers = ['Close']\n",
      "158 \tformats = ['k-']\n",
      "159 \n",
      "160 \tif self.SMA1Checkbox.isChecked():\n",
      "161 \t\tself.stock_data._calculate_SMA(int(self.SMA1Edit.text()))\n",
      "162 \t\tcolumn_headers.append(f\"SMA{self.SMA1Edit.text()}\")\n",
      "163 \t\tformats.append('b-')\n",
      "164 \tif self.SMA2Checkbox.isChecked():\n",
      "165 \t\tself.stock_data._calculate_SMA(int(self.SMA2Edit.text()))\n",
      "166 \t\tcolumn_headers.append(f\"SMA{self.SMA2Edit.text()}\")\n",
      "167 \t\tformats.append('c-')\n",
      "168 \tif len(column_headers) == 3:\n",
      "169 \t\tself.stock_data._calculate_crossover(column_headers[1], column_headers[2], column_headers[1])\n",
      "170 \t\tcolumn_headers.append('Sell')\n",
      "171 \t\tformats.append('rv')\n",
      "172 \t\tcolumn_headers.append('Buy')\n",
      "173 \t\tformats.append('g^')\n",
      "174 \n",
      "175 \tself.selected_stock_data = self.stock_data.get_data(start_date, end_date)\n",
      "176 \tself.plot_graph(column_headers, formats)\n",
      "177 \n",
      "178 \tself.report(f\"Plotting {column_headers} data from period: {start_date} to {end_date}.\")\n",
      "179 \tprint(self.selected_stock_data)\n",
      "180 \n",
      "181 except ValueError as e:\n",
      "182 \tself.report(f\"Time period has not been specified or does not match YYYY-MM-DD format, {e}.\")\n",
      "183 \n",
      "184 except AssertionError as e:\n",
      "185 \tself.report(f\"Selected range is empty, {e}\")\n",
      "186 \n",
      "187 except KeyError as e:\n",
      "188 \tself.report(f\"Data for this date does not exist: {e}\")\n",
      "189 \n",
      "190 except Exception as e:\n",
      "191 \tself.report(f\"Exception encountered: {e}\")\n",
      "\n"
     ]
    }
   ],
   "source": [
    "print_code(inspect.getsourcelines(Main.update_canvas))"
   ]
  },
  {
   "cell_type": "markdown",
   "metadata": {},
   "source": [
    "#### `plot_graph(self, column_headers, formats)`"
   ]
  },
  {
   "cell_type": "code",
   "execution_count": 21,
   "metadata": {},
   "outputs": [
    {
     "name": "stdout",
     "output_type": "stream",
     "text": [
      "194 \"\"\"\n",
      "195 plots graphs specified under columnd_headers using the formats\n",
      "196 \n",
      "197 Parameters\n",
      "198 column_headers : [str, str, ...]\n",
      "199 \ta list containing column header names with data to be plotted\n",
      "200 formats : [str, str, ...]\n",
      "201 \ta list of matplotlib built-in style strings to indicate\n",
      "202 \twhether to plot line or scatterplot and the colours\n",
      "203 \tcorresponding to each value in col_headers\n",
      "204 \t(hence, must be same length)\n",
      "205 \n",
      "206 Error handling\n",
      "207 empty dataframe :\n",
      "208 \tselected dataframe is empty\n",
      "209 \"\"\"\n",
      "210 self.ax.clear()\n",
      "211 assert not self.selected_stock_data.empty\n",
      "212 \n",
      "213 # matplotlib has its own internal representation of datetime\n",
      "214 # date2num converts datetime.datetime to this internal representation\n",
      "215 x_data = list(mdates.date2num(\n",
      "216                               [datetime.strptime(dates, self.date_format).date()\n",
      "217                               for dates in self.selected_stock_data.index.values]\n",
      "218                               ))\n",
      "219 \n",
      "220 colors = ['black', 'blue', 'orange', 'red', 'green']\n",
      "221 for i in range(len(column_headers)):\n",
      "222 \tif column_headers[i] in self.selected_stock_data.columns:\n",
      "223 \t\ty_data = list(self.selected_stock_data[column_headers[i]])\n",
      "224 \t\tself.ax.plot(x_data, y_data, formats[i], label=column_headers[i], color=colors[i])\n",
      "225 \t\tself.report(f\"{column_headers[i]} data is being plotted.\")\n",
      "226 \telse: self.report(f\"{column_headers[i]} data does not exist.\")\n",
      "227 \n",
      "228 # formatting\n",
      "229 months_locator = mdates.MonthLocator()\n",
      "230 months_format = mdates.DateFormatter('%b %Y')\n",
      "231 self.ax.xaxis.set_major_locator(months_locator)\n",
      "232 self.ax.xaxis.set_major_formatter(months_format)\n",
      "233 self.ax.format_xdata = mdates.DateFormatter(self.date_format)\n",
      "234 self.ax.format_ydata = lambda y: '$%1.2f' % y\n",
      "235 self.ax.grid(True)\n",
      "236 self.figure.autofmt_xdate()\n",
      "237 self.figure.legend()\n",
      "238 self.figure.tight_layout()\n",
      "239 self.canvas.draw()\n",
      "\n"
     ]
    }
   ],
   "source": [
    "print_code(inspect.getsourcelines(Main.plot_graph))"
   ]
  },
  {
   "cell_type": "markdown",
   "metadata": {},
   "source": [
    "#### `report(self, string)`"
   ]
  },
  {
   "cell_type": "code",
   "execution_count": 22,
   "metadata": {},
   "outputs": [
    {
     "name": "stdout",
     "output_type": "stream",
     "text": [
      "242 \"\"\"\n",
      "243 given a report (string), update the scroll area with this report\n",
      "244 \n",
      "245 Parameters\n",
      "246 string : str\n",
      "247 \tstring of the report, usually the error message itself.\n",
      "248 \"\"\"\n",
      "249 report_text = qtw.QLabel(string)\n",
      "250 self.scrollLayout.addWidget(report_text)\n",
      "251 print(string)\n",
      "\n"
     ]
    }
   ],
   "source": [
    "print_code(inspect.getsourcelines(Main.report))"
   ]
  },
  {
   "cell_type": "markdown",
   "metadata": {},
   "source": [
    "#### `center(self)`"
   ]
  },
  {
   "cell_type": "code",
   "execution_count": 23,
   "metadata": {},
   "outputs": [
    {
     "name": "stdout",
     "output_type": "stream",
     "text": [
      "254 \"\"\"\n",
      "255 centers the fixed main window size according to user screen size\n",
      "256 \"\"\"\n",
      "257 screen = qtw.QDesktopWidget().screenGeometry()\n",
      "258 main_window = self.geometry()\n",
      "259 x = (screen.width() - main_window.width()) / 2\n",
      "260 \n",
      "261 # pulls the window up slightly (arbitrary)\n",
      "262 y = (screen.height() - main_window.height()) / 2 - 50\n",
      "263 self.setFixedSize(main_window.width(), main_window.height())\n",
      "264 self.move(x, y)\n",
      "\n"
     ]
    }
   ],
   "source": [
    "print_code(inspect.getsourcelines(Main.center))"
   ]
  },
  {
   "cell_type": "markdown",
   "metadata": {},
   "source": [
    "### `stock_data.py`"
   ]
  },
  {
   "cell_type": "markdown",
   "metadata": {},
   "source": [
    "#### __ init __(self)"
   ]
  },
  {
   "cell_type": "code",
   "execution_count": 24,
   "metadata": {},
   "outputs": [
    {
     "name": "stdout",
     "output_type": "stream",
     "text": [
      "18 \"\"\"\n",
      "19 initializes StockData object by parsing stock data .csv file into a dataframe\n",
      "20 (assumes 'Date' column exists and uses it for index),\n",
      "21 also checks and handles missing data\n",
      "22 \n",
      "23 Parameters\n",
      "24 filepath : str\n",
      "25 \tfilepath to the stock data .csv file, can be relative or absolute\n",
      "26 \n",
      "27 Raises\n",
      "28 IOError :\n",
      "29 \tfailed I/O operation, e.g: invalid filepath, fail to open .csv\n",
      "30 \"\"\"\n",
      "31 self.filepath = filepath\n",
      "32 self.data = pd.read_csv(filepath).set_index('Date')\n",
      "33 self.check_data()\n",
      "\n"
     ]
    }
   ],
   "source": [
    "print_code(inspect.getsourcelines(StockData.__init__))"
   ]
  },
  {
   "cell_type": "markdown",
   "metadata": {},
   "source": [
    "#### check_data(self, overwrite=True)"
   ]
  },
  {
   "cell_type": "code",
   "execution_count": 25,
   "metadata": {},
   "outputs": [
    {
     "name": "stdout",
     "output_type": "stream",
     "text": [
      "36 \"\"\"\n",
      "37 checks and handles missing data by filling in missing values by interpolation\n",
      "38 \n",
      "39 Parameters\n",
      "40 overwrite : bool (True)\n",
      "41 \tif True, overwrites original source stock data .csv file\n",
      "42 \n",
      "43 Returns\n",
      "44 self : StockData\n",
      "45 \"\"\"\n",
      "46 # function to fill in missing values\n",
      "47 # by averaging previous data and after (interpolation)\n",
      "48 self.data = self.data.interpolate()\n",
      "49 self.data.to_csv(self.filepath, index=overwrite)\n",
      "50 return self\n",
      "\n"
     ]
    }
   ],
   "source": [
    "print_code(inspect.getsourcelines(StockData.check_data))"
   ]
  },
  {
   "cell_type": "markdown",
   "metadata": {},
   "source": [
    "#### get_data(self, start_date, end_date)"
   ]
  },
  {
   "cell_type": "code",
   "execution_count": 26,
   "metadata": {},
   "outputs": [
    {
     "name": "stdout",
     "output_type": "stream",
     "text": [
      "53 \"\"\"\n",
      "54 returns a subset of the stock data from start_date to end_date inclusive\n",
      "55 \n",
      "56 Parameters\n",
      "57 start_date : str\n",
      "58 \tstart date of stock data range, must be of format YYYY-MM-DD\n",
      "59 end_date : str\n",
      "60 \tend date of stokc data range, must be of format YYYY-MM-DD\n",
      "61 \n",
      "62 Returns:\n",
      "63 selected_data : DataFrame\n",
      "64 \tstock data dataframe indexed from specified start to end date inclusive\n",
      "65 \n",
      "66 Raises\n",
      "67 KeyError :\n",
      "68 \tdata for this date does not exist\n",
      "69 AssertionError :\n",
      "70 \tselected range is empty\n",
      "71 \"\"\"\n",
      "72 self.selected_data = self.data[str(start_date):str(end_date)]\n",
      "73 return self.selected_data\n",
      "\n"
     ]
    }
   ],
   "source": [
    "print_code(inspect.getsourcelines(StockData.get_data))"
   ]
  },
  {
   "cell_type": "markdown",
   "metadata": {},
   "source": [
    "#### get_period(self)"
   ]
  },
  {
   "cell_type": "code",
   "execution_count": 27,
   "metadata": {},
   "outputs": [
    {
     "name": "stdout",
     "output_type": "stream",
     "text": [
      "76 \"\"\"\n",
      "77 returns a string tuple of the first and last index\n",
      "78 which make up the maximum period of StockData\n",
      "79 \n",
      "80 Returns\n",
      "81 period : (str, str)\n",
      "82 \n",
      "83 Raises\n",
      "84 TypeError :\n",
      "85 \tthe return tuple is probably (nan, nan) because .csv is empty\n",
      "86 \"\"\"\n",
      "87 index = list(self.data.index)\n",
      "88 (first, last) = (index[0], index[-1])\n",
      "89 return (first, last)\n",
      "\n"
     ]
    }
   ],
   "source": [
    "print_code(inspect.getsourcelines(StockData.get_period))"
   ]
  },
  {
   "cell_type": "markdown",
   "metadata": {},
   "source": [
    "#### _calculate_SMA(self, n, col='Close')"
   ]
  },
  {
   "cell_type": "code",
   "execution_count": 28,
   "metadata": {},
   "outputs": [
    {
     "name": "stdout",
     "output_type": "stream",
     "text": [
      "92 \"\"\"\n",
      "93 calculates simple moving average (SMA) and augments the stock dataframe\n",
      "94 with this SMA(n) data as a new column\n",
      "95 \n",
      "96 Parameters\n",
      "97 n : int\n",
      "98 \tthe amount of stock data to use to calculate average\n",
      "99 col : str ('Close')\n",
      "100 \tthe column head title of the values to use to calculate average\n",
      "101 \n",
      "102 Returns\n",
      "103 self : StockData\n",
      "104 \"\"\"\n",
      "105 col_head = f'SMA{n}'\n",
      "106 if col_head not in self.data.columns:\n",
      "107 \tsma = self.data[col].rolling(n).mean()\n",
      "108 \tself.data[f'SMA{n}'] = np.round(sma, 4)\n",
      "109 \tself.data.to_csv(self.filepath, index=True)\n",
      "110 return self\n",
      "\n"
     ]
    }
   ],
   "source": [
    "print_code(inspect.getsourcelines(StockData._calculate_SMA))"
   ]
  },
  {
   "cell_type": "markdown",
   "metadata": {},
   "source": [
    "#### _calculate_crossover(self, SMA1, SMA2, col='Close')"
   ]
  },
  {
   "cell_type": "code",
   "execution_count": 29,
   "metadata": {},
   "outputs": [
    {
     "name": "stdout",
     "output_type": "stream",
     "text": [
      "113 \"\"\"\n",
      "114 calculates the crossover positions and values,\n",
      "115 augments the stock dataframe with 2 new columns\n",
      "116 'Sell' and 'Buy' containing the value at which SMA crossover happens\n",
      "117 \n",
      "118 Parameters\n",
      "119 SMA1 : str\n",
      "120 \tthe first column head title containing the SMA values\n",
      "121 SMA2 : str\n",
      "122 \tthe second column head title containing the SMA values\n",
      "123 col : str ('Close')\n",
      "124 \tthe column head title whose values will copied into 'Buy' and 'Sell'\n",
      "125 \tcolumns to indicate crossovers had happen on that index\n",
      "126 \n",
      "127 Returns\n",
      "128 self : StockData\n",
      "129 \n",
      "130 Raises\n",
      "131 Exception :\n",
      "132 \tSMA1 and SMA2 provided are the same, they must be different\n",
      "133 \"\"\"\n",
      "134 if SMA1 < SMA2: signal = self.data[SMA1] - self.data[SMA2]\n",
      "135 elif SMA1 > SMA2: signal = self.data[SMA2] - self.data[SMA1]\n",
      "136 else: raise Exception(f\"{SMA1} & {SMA2} provided are the same. They must be different SMA.\")\n",
      "137 \n",
      "138 signal[signal > 0] = 1\n",
      "139 signal[signal <= 0] = 0\n",
      "140 diff = signal.diff()\n",
      "141 \n",
      "142 self.data['Sell'] = np.nan\n",
      "143 self.data['Buy'] = np.nan\n",
      "144 self.data.loc[diff.index[diff < 0], 'Sell'] = self.data.loc[diff.index[diff < 0], col]\n",
      "145 self.data.loc[diff.index[diff > 0], 'Buy'] = self.data.loc[diff.index[diff > 0], col]\n",
      "146 \n",
      "147 self.data.to_csv(self.filepath, index=True)\n",
      "148 return self\n",
      "\n"
     ]
    }
   ],
   "source": [
    "print_code(inspect.getsourcelines(StockData._calculate_crossover))"
   ]
  },
  {
   "cell_type": "markdown",
   "metadata": {},
   "source": [
    "#### plot_graph(self, col_headers, style, ax, show=True)"
   ]
  },
  {
   "cell_type": "code",
   "execution_count": 30,
   "metadata": {},
   "outputs": [
    {
     "name": "stdout",
     "output_type": "stream",
     "text": [
      "151 \"\"\"\n",
      "152 plots columns of selected values as line plot and/or columns of values\n",
      "153 as scatter plot as specified by style to an Axes object\n",
      "154 \n",
      "155 Parameters\n",
      "156 col_headers : [str, str, ...]\n",
      "157 \ta list containing column header names whose data are to be plotted\n",
      "158 style : [str, str, ...]\n",
      "159 \ta list of matplotlib built-in style strings to indicate whether to plot\n",
      "160 \tline or scatterplot and the colours corresponding to each value in\n",
      "161 \tcol_headers (hence, must be same length)\n",
      "162 ax : Axes\n",
      "163 \tmatplotlib axes object on which the plot will be drawn\n",
      "164 \n",
      "165 Raises\n",
      "166 AttributeError :\n",
      "167 \tself.selected_data has not been specified,\n",
      "168 \tcall StockData.get_data(start, end) before plotting\n",
      "169 AssertionError :\n",
      "170 \tself.selected_data is empty, perhaps due to OOB or invalid range\n",
      "171 \"\"\"\n",
      "172 assert not self.selected_data.empty\n",
      "173 self.selected_data[col_headers].plot(style=style,\n",
      "174                                      ax=ax,\n",
      "175                                      grid=True,\n",
      "176                                      x_compat=True,\n",
      "177                                      linewidth=1)\n",
      "178 if show: plt.show()\n",
      "\n"
     ]
    }
   ],
   "source": [
    "print_code(inspect.getsourcelines(StockData.plot_graph))"
   ]
  },
  {
   "cell_type": "markdown",
   "metadata": {},
   "source": [
    "#### calculate_SMA(self, n)"
   ]
  },
  {
   "cell_type": "code",
   "execution_count": 31,
   "metadata": {},
   "outputs": [
    {
     "name": "stdout",
     "output_type": "stream",
     "text": [
      "181 \"\"\"\n",
      "182 calculates simple moving average (SMA) and augments the stock dataframe\n",
      "183 with this SMA(n) data as a new column\n",
      "184 \n",
      "185 Parameters\n",
      "186 n : int\n",
      "187 \tthe amount of stock data to use to calculate average\n",
      "188 col : str ('Close')\n",
      "189 \tthe column head title of the values to use to calculate average\n",
      "190 \n",
      "191 Returns\n",
      "192 self : StockData\n",
      "193 \"\"\"\n",
      "194 col_head = 'SMA' + str(n)\n",
      "195 df = self.data.reset_index()\n",
      "196 \n",
      "197 if col_head not in df.columns:\n",
      "198 \t# Extract full dataframe from the actual data\n",
      "199 \t# (to check if there is enough data for sma)\n",
      "200 \tdateList = self.data.index.values.tolist()\n",
      "201 \treturnList = []\n",
      "202 \tfor date in dateList: # for date in dateList\n",
      "203 \t# find the index of date in the full data\n",
      "204 \t\tdateIndex = df[df[\"Date\"]==date].index.values[0]\n",
      "205 \t\tif dateIndex < n: # if date index is less than n: append None\n",
      "206 \t\t\treturnList.append(np.nan)\n",
      "207 \t\telse:\n",
      "208 \t\t\tsum = 0\n",
      "209 \t\t\tfor i in range(n):\n",
      "210 \t\t\t\tsum += df.iloc[dateIndex-i][\"Close\"]\n",
      "211 \t\t\t# append the SMA for each day to a list\n",
      "212 \t\t\treturnList.append(sum/n)\n",
      "213 \n",
      "214 \tself.data[col_head] = returnList\n",
      "215 \tprint(self.data)\n",
      "216 \tself.data.to_csv(self.filepath, index=True)\n",
      "217 \n",
      "218 return self\n",
      "\n"
     ]
    }
   ],
   "source": [
    "print_code(inspect.getsourcelines(StockData.calculate_SMA))"
   ]
  },
  {
   "cell_type": "markdown",
   "metadata": {},
   "source": [
    "#### calculate_crossover(self, SMAa, SMAb)"
   ]
  },
  {
   "cell_type": "code",
   "execution_count": 32,
   "metadata": {},
   "outputs": [
    {
     "name": "stdout",
     "output_type": "stream",
     "text": [
      "221 \"\"\"\n",
      "222 calculates the crossover positions and values,\n",
      "223 augments the stock dataframe with 2 new columns\n",
      "224 'Sell' and 'Buy' containing the value at which SMA crossover happens\n",
      "225 \n",
      "226 Parameters\n",
      "227 SMA1 : str\n",
      "228 \tthe first column head title containing the SMA values\n",
      "229 SMA2 : str\n",
      "230 \tthe second column head title containing the SMA values\n",
      "231 col : str ('Close')\n",
      "232 \tthe column head title whose values will copied into 'Buy' and 'Sell'\n",
      "233 \tcolumns to indicate crossovers had happen on that index\n",
      "234 \n",
      "235 Returns\n",
      "236 self : StockData\n",
      "237 \n",
      "238 Raises\n",
      "239 Exception :\n",
      "240 \tSMA1 and SMA2 provided are the same, they must be different\n",
      "241 \"\"\"\n",
      "242 col_head1 = 'Position'\n",
      "243 col_head2 = 'Signal'\n",
      "244 col_head3 = 'Buy'\n",
      "245 col_head4 = 'Sell'\n",
      "246 df = self.data\n",
      "247 \n",
      "248 # to ensure the correct number of elements in the loop\n",
      "249 SMAlist = self.data.index.values.tolist()\n",
      "250 # extracts the SMA from the specific column in self.data\n",
      "251 if SMAa < SMAb:\n",
      "252 \tSMA1 = df[SMAa].tolist()\n",
      "253 \tSMA2 = df[SMAb].tolist()\n",
      "254 elif SMAa > SMAb:\n",
      "255 \tSMA1 = df[SMAb].tolist()\n",
      "256 \tSMA2 = df[SMAa].tolist()\n",
      "257 else: # SMAa == SMAb\n",
      "258 \traise ValueError(f\"Given {SMAa} & {SMAb} are the same. Must be different SMA.\")\n",
      "259 \n",
      "260 stockPosition = []  # which SMA line is on top\n",
      "261 stockSignal = []  \t# the buy/sell signal --> the 1s and -1s\n",
      "262 buySignal = []  \t\t# filtered out location of buy signals\n",
      "263 sellSignal = []  \t\t# filtered out location of sell signals\n",
      "264 \n",
      "265 # goes through every element\n",
      "266 for i in range(len(SMAlist)):\n",
      "267 \tif SMA1[i] > SMA2[i]: stockPosition.append(1)   # SMA1 above SMA2\n",
      "268 \telif SMA1[i] < SMA2[i]: stockPosition.append(0) # SMA2 above SMA1\n",
      "269 \t# if the SMAs are equal, repeat the previous entry\n",
      "270 \t# because no crossover has occured yet\n",
      "271 \telif SMA1[i] == SMA2[i]: stockPosition.append(stockPosition[i-1])\n",
      "272 \telse: stockPosition.append(np.nan) # if no data, leave blank\n",
      "273 \n",
      "274 # find the places where crossover occurs\n",
      "275 for j in range(len(stockPosition)):\n",
      "276 \t# 'shifts' the data one period to the right\n",
      "277 \t# to ensure crossovers are reflected on the correct date\n",
      "278 \tif j == 0: stockSignal.append(np.nan)\n",
      "279 \t# calculation for the crossover signals\n",
      "280 \telse: stockSignal.append(stockPosition[j] - stockPosition[j-1])\n",
      "281 \n",
      "282 \n",
      "283 for k in range(len(stockSignal)): # finding location of buy signals\n",
      "284 \tif stockSignal[k] == 1:\n",
      "285 \t\tvalue = self.data[SMAa].tolist()[k]\n",
      "286 \t\tbuySignal.append(value)\n",
      "287 \telse: buySignal.append(np.nan) # if no signal leave blank\n",
      "288 \n",
      "289 for k in range(len(stockSignal)): # finding location of sell signals\n",
      "290 \tif stockSignal[k] == -1:\n",
      "291 \t\tvalue = self.data[SMAa].tolist()[k]\n",
      "292 \t\tsellSignal.append(value)\n",
      "293 \telse: sellSignal.append(np.nan) # if no signal leave blank\n",
      "294 \n",
      "295 self.data[col_head3] = buySignal\n",
      "296 self.data[col_head4] = sellSignal\n",
      "297 \n",
      "298 print(self.data)\n",
      "299 self.data.to_csv(self.filepath, index=True)\n",
      "300 return self\n",
      "\n"
     ]
    }
   ],
   "source": [
    "print_code(inspect.getsourcelines(StockData.calculate_crossover))"
   ]
  }
 ],
 "metadata": {
  "kernelspec": {
   "display_name": "Python 3",
   "language": "python",
   "name": "python3"
  },
  "language_info": {
   "codemirror_mode": {
    "name": "ipython",
    "version": 3
   },
   "file_extension": ".py",
   "mimetype": "text/x-python",
   "name": "python",
   "nbconvert_exporter": "python",
   "pygments_lexer": "ipython3",
   "version": "3.8.3"
  }
 },
 "nbformat": 4,
 "nbformat_minor": 4
}

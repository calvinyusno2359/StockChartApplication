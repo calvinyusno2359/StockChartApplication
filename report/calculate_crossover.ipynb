{
 "cells": [
  {
   "cell_type": "markdown",
   "metadata": {},
   "source": [
    "# calculate_crossover"
   ]
  },
  {
   "cell_type": "markdown",
   "metadata": {},
   "source": [
    "We first start by defining the calculate_crossover function:"
   ]
  },
  {
   "cell_type": "code",
   "execution_count": 1,
   "metadata": {},
   "outputs": [],
   "source": [
    "def calculate_crossover(self, SMAa,SMAb):\n",
    "    \n",
    "    return self"
   ]
  },
  {
   "cell_type": "markdown",
   "metadata": {},
   "source": [
    "This function takes in the two SMA values previously calculated in the calculate_sma function as inputs to calculate the crossover locations. \n",
    "Next we define the columns we plan to add to the .csv file and extract the all data in the .csv file:\n"
   ]
  },
  {
   "cell_type": "code",
   "execution_count": 2,
   "metadata": {},
   "outputs": [
    {
     "ename": "SyntaxError",
     "evalue": "invalid character in identifier (<ipython-input-2-3e1c5e05defe>, line 1)",
     "output_type": "error",
     "traceback": [
      "\u001b[1;36m  File \u001b[1;32m\"<ipython-input-2-3e1c5e05defe>\"\u001b[1;36m, line \u001b[1;32m1\u001b[0m\n\u001b[1;33m    col_head3 = ‘Buy’\u001b[0m\n\u001b[1;37m                    ^\u001b[0m\n\u001b[1;31mSyntaxError\u001b[0m\u001b[1;31m:\u001b[0m invalid character in identifier\n"
     ]
    }
   ],
   "source": [
    "col_head3 = ‘Buy’\n",
    "col_head4 = ‘sell’\n",
    "df = self.data"
   ]
  },
  {
   "cell_type": "markdown",
   "metadata": {},
   "source": [
    "We convert the data into a list which we will use as a reference to ensure our subsequent calculations have the correct number of elements "
   ]
  },
  {
   "cell_type": "code",
   "execution_count": null,
   "metadata": {},
   "outputs": [],
   "source": [
    "SMAlist = self.data.index.values.tolist()"
   ]
  },
  {
   "cell_type": "markdown",
   "metadata": {},
   "source": [
    "We then use an if, elif, and else statement to assign the lower SMA to SMA1 from the and the higher SMA to SMA2. This is useful later in the calculations to ensure that buy and sell signals are correctly identified. "
   ]
  },
  {
   "cell_type": "code",
   "execution_count": null,
   "metadata": {},
   "outputs": [],
   "source": [
    "if SMAa < SMAb: \n",
    "    SMA1 = df[SMAa].tolist()\n",
    "    SMA2 = df[SMAb].tolist()\n",
    "\n",
    "elif SMAa > SMAb:\n",
    "    SMA1 = df[SMAb].tolist()\n",
    "    SMA2 = df[SMAa].tolist()\n",
    "    \n",
    "else:\n",
    "    raise valueError(f”Given {SMAa} & {SMAb} are the same. Must be different SMA”)\n"
   ]
  },
  {
   "cell_type": "markdown",
   "metadata": {},
   "source": [
    "> *learning point: if, elif, and else statements*\n",
    "\n",
    "> *elif is used here because there are multiple distinct different possibilities with how SMAa and SMAb are related. It is common to list the expected possibilities first in the if and elif statements, and else would normally be reserved for unexpected outcomes or errors*"
   ]
  },
  {
   "cell_type": "markdown",
   "metadata": {},
   "source": [
    "`df.[SMAa].tolist()` extracts the column `SMAa` from the dataframe df and converts it to a list. Likewise for `df.[SMAb].tolist()`. If the two SMA values are equal, the code will raise a value error and the error message."
   ]
  },
  {
   "cell_type": "markdown",
   "metadata": {},
   "source": [
    "We create empty lists for `stockPosition` to determine the relative position of the two SMAs, the combined list of crossover signals, and finally separate lists for the buy and sell signals:"
   ]
  },
  {
   "cell_type": "code",
   "execution_count": null,
   "metadata": {},
   "outputs": [],
   "source": [
    "stockPosition = []\n",
    "stockSignal = []\n",
    "buySignal = []  \n",
    "sellSignal = [] "
   ]
  },
  {
   "cell_type": "markdown",
   "metadata": {},
   "source": [
    "To create a list of relative SMA positions, we use a for loop:"
   ]
  },
  {
   "cell_type": "code",
   "execution_count": null,
   "metadata": {},
   "outputs": [],
   "source": [
    "for i in range(len(SMAlist)): \n",
    "    if SMA1[i] > SMA2[i]: stockPosition.append(1)  \n",
    "    elif SMA1[i] < SMA2[i]: stockPosition.append(0)  \n",
    "    elif SMA1[i] == SMA2[i]: stockPosition.append(stockPosition[i-1])\n",
    "    else: stockPosition.append(np.nan)"
   ]
  },
  {
   "cell_type": "markdown",
   "metadata": {},
   "source": [
    "By setting the range of the for loop to be the length of `SMAlist`, we ensure that the loop iterates over every single element in the dataframe.\n",
    "\n",
    "Any day that `SMA1` (the smaller one) is higher than `SMA2` will add a `1` to the stockPosition list. \n",
    "Days where `SMA2` is higher than SMA1 will add a `0` to the `stockPosition` list. \n",
    "\n",
    "In the unlikely case that the two SMA vaues are equal in a day, the number added will be a repeat of the previous day, as no crossover has occured yet. \n",
    "\n",
    "On days where either SMA is missing data, such as in the first few days computed, we will add `np.nan` to the list."
   ]
  },
  {
   "cell_type": "markdown",
   "metadata": {},
   "source": [
    "After getting the full `stockPosition` list, we need to identify the days where crossover occurs. For this, another for loop is used:"
   ]
  },
  {
   "cell_type": "code",
   "execution_count": null,
   "metadata": {},
   "outputs": [],
   "source": [
    "for j in range(len(stockPosition)):\n",
    "    if j == 0: stockSignal.append(np.nan)\n",
    "    else: stockSignal.append(stockPosition[j] - stockPosition[j-1])"
   ]
  },
  {
   "cell_type": "markdown",
   "metadata": {},
   "source": [
    "Again we set the range for the loop to be the length of `stockPosition` to ensure the code iterates over every element. \n",
    "\n",
    "The `stockSignal` list 'lags' behind the stockPosition list by one day, hence we add a `np.nan` as the very first value in the list to align the `stockSignal` list with the `stockPosition` list and ensure that both lists have the same number of elements. \n",
    "\n",
    "Following that we take the difference between the stockPosition that day and the `stockPosition` the previous day to identify the locations of crossovers. Crossovers show up in the list as `1` for a buy signal, and a `-1` for sell signals. `0` indicates that there has been no crossover that day."
   ]
  },
  {
   "cell_type": "markdown",
   "metadata": {},
   "source": [
    "> *learning point: indexing*\n",
    "\n",
    "> *remember that in python, sequences start with 0, not 1! Hence,* `j == 0` *just refers to the first element in the range*"
   ]
  },
  {
   "cell_type": "markdown",
   "metadata": {},
   "source": [
    "> *learning point: np.nan*\n",
    "\n",
    "> *remember that any arithmetic operation on `NaN` will result in `NaN`. This allows us to append the list with null values without generating a value error*"
   ]
  },
  {
   "cell_type": "markdown",
   "metadata": {},
   "source": [
    "The next step would be to filter out the buy and sell signals, which will be processed separately by the application:"
   ]
  },
  {
   "cell_type": "code",
   "execution_count": null,
   "metadata": {},
   "outputs": [],
   "source": [
    "for k in range(len(stockSignal)):\n",
    "    if stockSignal[k] == 1:\n",
    "        value = self.data[SMAa].tolist()[k]\n",
    "        buySignal.append(value)\n",
    "    else: buySignal.append(np.nan)\n",
    "        \n",
    "for k in range(len(stockSignal)): \n",
    "    if stockSignal[k] == -1:\n",
    "        value = self.data[SMAa].tolist()[k]\n",
    "        sellSignal.append(value)\n",
    "    else: sellSignal.append(np.nan)"
   ]
  },
  {
   "cell_type": "markdown",
   "metadata": {},
   "source": [
    "Using yet another set of for loops, we identify the crossover locations in the `stockSignal` list. At the crossover locations, we append the average SMA values of that particular day to the appropriate buy or sell list. This value will then be used as the y-axis value that the application uses to plot the crossover signals on the graph. \n",
    "\n",
    "The else condition appends `np.nan` to the list on days that do not contain the respective crossover signals, and ensures that the signals are correctly aligned to the dates where the crossover occurred. "
   ]
  },
  {
   "cell_type": "markdown",
   "metadata": {},
   "source": [
    "Finally, with the locations of buy and sell crossover signals, the function will append the buy and sell signals to the .csv file as new columns while also printing the results in the application:"
   ]
  },
  {
   "cell_type": "code",
   "execution_count": null,
   "metadata": {},
   "outputs": [],
   "source": [
    "self.data[col_head3] = buySignal\n",
    "self.data[col_head4] = sellSignal\n",
    "\n",
    "print(self.data)\n",
    "self.data.to_csv(self.filepath, index=True)"
   ]
  },
  {
   "cell_type": "markdown",
   "metadata": {},
   "source": [
    "> *learning point: testing*\n",
    "\n",
    "> *the reason why the function prints the results is so we can independently test whether the function works even before the rest of the app is completed. Splitting work up in such a complex application is crucial so you can identify exactly which part of the app is causing errors!* "
   ]
  }
 ],
 "metadata": {
  "kernelspec": {
   "display_name": "Python 3",
   "language": "python",
   "name": "python3"
  },
  "language_info": {
   "codemirror_mode": {
    "name": "ipython",
    "version": 3
   },
   "file_extension": ".py",
   "mimetype": "text/x-python",
   "name": "python",
   "nbconvert_exporter": "python",
   "pygments_lexer": "ipython3",
   "version": "3.8.3"
  }
 },
 "nbformat": 4,
 "nbformat_minor": 4
}

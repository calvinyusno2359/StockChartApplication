{
 "cells": [
  {
   "cell_type": "markdown",
   "metadata": {},
   "source": [
    "# Python Basics"
   ]
  },
  {
   "cell_type": "markdown",
   "metadata": {},
   "source": [
    "## Variables \n",
    "\n",
    "Variables are containers for storing data values. Unlike other programming languages, a variable is created the moment you first assign a value to it.\n",
    "to assign a value to a variable, use the (=) sign.\n",
    "\n",
    "Use print() to see the value assigned to the variable"
   ]
  },
  {
   "cell_type": "code",
   "execution_count": 3,
   "metadata": {},
   "outputs": [
    {
     "name": "stdout",
     "output_type": "stream",
     "text": [
      "apple 1 2\n"
     ]
    }
   ],
   "source": [
    "x = 'apple'\n",
    "Y = 1 \n",
    "_1 = 2\n",
    "print (x,Y,_1)"
   ]
  },
  {
   "cell_type": "markdown",
   "metadata": {},
   "source": [
    "Variable names in Python can be any length and can consist of uppercase and lowercase letters (A-Z, a-z), digits (0-9), and the underscore character (_). An additional restriction is that, although a variable name can contain digits, the first character of a variable name cannot be a digit."
   ]
  },
  {
   "cell_type": "code",
   "execution_count": 4,
   "metadata": {},
   "outputs": [
    {
     "ename": "SyntaxError",
     "evalue": "invalid syntax (<ipython-input-4-f38a6c9f9c71>, line 1)",
     "output_type": "error",
     "traceback": [
      "\u001b[1;36m  File \u001b[1;32m\"<ipython-input-4-f38a6c9f9c71>\"\u001b[1;36m, line \u001b[1;32m1\u001b[0m\n\u001b[1;33m    1apple = apple\u001b[0m\n\u001b[1;37m     ^\u001b[0m\n\u001b[1;31mSyntaxError\u001b[0m\u001b[1;31m:\u001b[0m invalid syntax\n"
     ]
    }
   ],
   "source": [
    "1apple = apple"
   ]
  },
  {
   "cell_type": "markdown",
   "metadata": {},
   "source": [
    "## Data types\n",
    "\n",
    "Common Data types that are used in the projects includes\n",
    "\n",
    "Text type\n",
    "- String (str)\n",
    "\n",
    "Numeric type\n",
    "- Integer (int)\n",
    "- Float (float)\n",
    "\n",
    "Sequence Type\n",
    "- list\n",
    "- range\n",
    "\n",
    "Using `Print(type())` we can see the data type. "
   ]
  },
  {
   "cell_type": "markdown",
   "metadata": {},
   "source": [
    "### Text type\n",
    "String(str)\n",
    "\n",
    "Strings literal are denoted by single (' ') or double quotes (\" \")\n",
    "\n",
    "Examples of String"
   ]
  },
  {
   "cell_type": "code",
   "execution_count": null,
   "metadata": {},
   "outputs": [],
   "source": [
    "x = 'apple'\n",
    "y = \"pear\"\n",
    "print(type(x))"
   ]
  }
 ],
 "metadata": {
  "kernelspec": {
   "display_name": "Python 3",
   "language": "python",
   "name": "python3"
  },
  "language_info": {
   "codemirror_mode": {
    "name": "ipython",
    "version": 3
   },
   "file_extension": ".py",
   "mimetype": "text/x-python",
   "name": "python",
   "nbconvert_exporter": "python",
   "pygments_lexer": "ipython3",
   "version": "3.8.3"
  }
 },
 "nbformat": 4,
 "nbformat_minor": 4
}

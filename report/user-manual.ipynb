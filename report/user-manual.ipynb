{
 "cells": [
  {
   "cell_type": "markdown",
   "metadata": {},
   "source": [
    "# User Manual"
   ]
  },
  {
   "cell_type": "markdown",
   "metadata": {},
   "source": [
    "![title](asset/img/gui_user_manual.png)"
   ]
  },
  {
   "cell_type": "markdown",
   "metadata": {},
   "source": [
    "1: Input the location of the stock data file here. In this case we have a relative path that directs to the “data” folder in StockChartApplication, where our sample data file, GOOG.csv is located.\n",
    "\n",
    "Alternate: an absolute path can also be inputted using the exact directory address of the file. \n",
    "\n",
    "2: Loads the information in the stock data file into the application\n",
    "\n",
    "3: The date range to be analysed can be changed here. \n",
    "\n",
    "4: The number of days used to compute the simple moving averages can be changed and toggled here.\n",
    "\n",
    "5: Updates the graph to plot the stock price, the two SMAs, the location of crossovers, and the signal presented by the crossover. \n"
   ]
  },
  {
   "cell_type": "code",
   "execution_count": null,
   "metadata": {},
   "outputs": [],
   "source": []
  }
 ],
 "metadata": {
  "kernelspec": {
   "display_name": "Python 3",
   "language": "python",
   "name": "python3"
  },
  "language_info": {
   "codemirror_mode": {
    "name": "ipython",
    "version": 3
   },
   "file_extension": ".py",
   "mimetype": "text/x-python",
   "name": "python",
   "nbconvert_exporter": "python",
   "pygments_lexer": "ipython3",
   "version": "3.8.3"
  }
 },
 "nbformat": 4,
 "nbformat_minor": 4
}
